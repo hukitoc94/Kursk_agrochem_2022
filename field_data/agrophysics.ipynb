{
 "cells": [
  {
   "cell_type": "code",
   "execution_count": 51,
   "metadata": {},
   "outputs": [
    {
     "name": "stdout",
     "output_type": "stream",
     "text": [
      "The autoreload extension is already loaded. To reload it, use:\n",
      "  %reload_ext autoreload\n"
     ]
    }
   ],
   "source": [
    "from preparing_script import agrofiz_plot, SVD_vis, Kvu, ob_ves_plot\n",
    "import pandas as pd \n",
    "import numpy as np \n",
    "import scipy \n",
    "from scipy.stats import f_oneway as ANOVA\n",
    "\n",
    "import seaborn as sns \n",
    "import matplotlib.pyplot as plt\n",
    "\n",
    "%load_ext autoreload\n",
    "%autoreload 2\n"
   ]
  },
  {
   "cell_type": "code",
   "execution_count": 3,
   "metadata": {},
   "outputs": [],
   "source": [
    "agrofiz = pd.read_csv(\"полевые данные общая/ready_data/агрофизика.csv\")\n"
   ]
  },
  {
   "cell_type": "code",
   "execution_count": 4,
   "metadata": {},
   "outputs": [
    {
     "data": {
      "text/plain": [
       "Index(['Год', 'GPS №', 'Тип обработки', 'повторность',\n",
       "       'Содержание 0.25–10 мм, %', 'Содержание >10, %', 'Содержание <0.25, %',\n",
       "       'Коэф. структурности', 'СВД, мм', 'Коэф. АФИ',\n",
       "       'Содержание 0.25–10 мм(водоустойчивые), % ',\n",
       "       'СВД водоустойчивые 10-7, мм', 'СВД водоустойчивые 5-3, мм',\n",
       "       'СВД водоустойчивые 7-5, мм', 'СВД водоустойчивые >10, мм',\n",
       "       'Кву 10-7, мм', 'Кву 5-3, мм', 'Кву 7-5, мм', 'Кву >10, мм'],\n",
       "      dtype='object')"
      ]
     },
     "execution_count": 4,
     "metadata": {},
     "output_type": "execute_result"
    }
   ],
   "source": [
    "agrofiz.columns"
   ]
  },
  {
   "cell_type": "markdown",
   "metadata": {},
   "source": [
    "### Коэф структурности"
   ]
  },
  {
   "cell_type": "code",
   "execution_count": 12,
   "metadata": {},
   "outputs": [
    {
     "data": {
      "text/plain": [
       "F_onewayResult(statistic=2.699235426855616, pvalue=0.12435136888196806)"
      ]
     },
     "execution_count": 12,
     "metadata": {},
     "output_type": "execute_result"
    },
    {
     "data": {
      "image/png": "[encoded data removed]",
      "text/plain": [
       "<Figure size 504x504 with 1 Axes>"
      ]
     },
     "metadata": {},
     "output_type": "display_data"
    }
   ],
   "source": [
    "stats, aov, fig = agrofiz_plot(agrofiz, 'Коэф. структурности')\n",
    "aov\n"
   ]
  },
  {
   "cell_type": "code",
   "execution_count": 19,
   "metadata": {},
   "outputs": [
    {
     "data": {
      "text/html": [
       "<div>\n",
       "<style scoped>\n",
       "    .dataframe tbody tr th:only-of-type {\n",
       "        vertical-align: middle;\n",
       "    }\n",
       "\n",
       "    .dataframe tbody tr th {\n",
       "        vertical-align: top;\n",
       "    }\n",
       "\n",
       "    .dataframe thead tr th {\n",
       "        text-align: left;\n",
       "    }\n",
       "\n",
       "    .dataframe thead tr:last-of-type th {\n",
       "        text-align: right;\n",
       "    }\n",
       "</style>\n",
       "<table border=\"1\" class=\"dataframe\">\n",
       "  <thead>\n",
       "    <tr>\n",
       "      <th></th>\n",
       "      <th colspan=\"3\" halign=\"left\">СВД, мм</th>\n",
       "    </tr>\n",
       "    <tr>\n",
       "      <th></th>\n",
       "      <th>std</th>\n",
       "      <th>variation</th>\n",
       "      <th>mean</th>\n",
       "    </tr>\n",
       "    <tr>\n",
       "      <th>Тип обработки</th>\n",
       "      <th></th>\n",
       "      <th></th>\n",
       "      <th></th>\n",
       "    </tr>\n",
       "  </thead>\n",
       "  <tbody>\n",
       "    <tr>\n",
       "      <th>ПП</th>\n",
       "      <td>0.43421</td>\n",
       "      <td>0.044956</td>\n",
       "      <td>9.106176</td>\n",
       "    </tr>\n",
       "    <tr>\n",
       "      <th>ТТ</th>\n",
       "      <td>0.90335</td>\n",
       "      <td>0.102275</td>\n",
       "      <td>8.063008</td>\n",
       "    </tr>\n",
       "  </tbody>\n",
       "</table>\n",
       "</div>"
      ],
      "text/plain": [
       "               СВД, мм                    \n",
       "                   std variation      mean\n",
       "Тип обработки                             \n",
       "ПП             0.43421  0.044956  9.106176\n",
       "ТТ             0.90335  0.102275  8.063008"
      ]
     },
     "execution_count": 19,
     "metadata": {},
     "output_type": "execute_result"
    }
   ],
   "source": [
    "stats"
   ]
  },
  {
   "cell_type": "markdown",
   "metadata": {},
   "source": [
    "### СВД воздушно сухие"
   ]
  },
  {
   "cell_type": "code",
   "execution_count": 21,
   "metadata": {},
   "outputs": [
    {
     "data": {
      "text/plain": [
       "F_onewayResult(statistic=9.112920088700115, pvalue=0.009876030322910474)"
      ]
     },
     "execution_count": 21,
     "metadata": {},
     "output_type": "execute_result"
    },
    {
     "data": {
      "image/png": "[encoded data removed]",
      "text/plain": [
       "<Figure size 504x504 with 1 Axes>"
      ]
     },
     "metadata": {},
     "output_type": "display_data"
    }
   ],
   "source": [
    "stats, aov, fig = agrofiz_plot(agrofiz, 'СВД, мм')\n",
    "aov\n"
   ]
  },
  {
   "cell_type": "code",
   "execution_count": 23,
   "metadata": {},
   "outputs": [
    {
     "data": {
      "text/html": [
       "<div>\n",
       "<style scoped>\n",
       "    .dataframe tbody tr th:only-of-type {\n",
       "        vertical-align: middle;\n",
       "    }\n",
       "\n",
       "    .dataframe tbody tr th {\n",
       "        vertical-align: top;\n",
       "    }\n",
       "\n",
       "    .dataframe thead tr th {\n",
       "        text-align: left;\n",
       "    }\n",
       "\n",
       "    .dataframe thead tr:last-of-type th {\n",
       "        text-align: right;\n",
       "    }\n",
       "</style>\n",
       "<table border=\"1\" class=\"dataframe\">\n",
       "  <thead>\n",
       "    <tr>\n",
       "      <th></th>\n",
       "      <th colspan=\"3\" halign=\"left\">СВД, мм</th>\n",
       "    </tr>\n",
       "    <tr>\n",
       "      <th></th>\n",
       "      <th>std</th>\n",
       "      <th>variation</th>\n",
       "      <th>mean</th>\n",
       "    </tr>\n",
       "    <tr>\n",
       "      <th>Тип обработки</th>\n",
       "      <th></th>\n",
       "      <th></th>\n",
       "      <th></th>\n",
       "    </tr>\n",
       "  </thead>\n",
       "  <tbody>\n",
       "    <tr>\n",
       "      <th>ПП</th>\n",
       "      <td>0.43421</td>\n",
       "      <td>0.044956</td>\n",
       "      <td>9.106176</td>\n",
       "    </tr>\n",
       "    <tr>\n",
       "      <th>ТТ</th>\n",
       "      <td>0.90335</td>\n",
       "      <td>0.102275</td>\n",
       "      <td>8.063008</td>\n",
       "    </tr>\n",
       "  </tbody>\n",
       "</table>\n",
       "</div>"
      ],
      "text/plain": [
       "               СВД, мм                    \n",
       "                   std variation      mean\n",
       "Тип обработки                             \n",
       "ПП             0.43421  0.044956  9.106176\n",
       "ТТ             0.90335  0.102275  8.063008"
      ]
     },
     "execution_count": 23,
     "metadata": {},
     "output_type": "execute_result"
    }
   ],
   "source": [
    "stats"
   ]
  },
  {
   "cell_type": "markdown",
   "metadata": {},
   "source": [
    "### СВД водоустойчивые "
   ]
  },
  {
   "cell_type": "code",
   "execution_count": 44,
   "metadata": {},
   "outputs": [
    {
     "data": {
      "image/png": "[encoded data removed]",
      "text/plain": [
       "<Figure size 504x504 with 1 Axes>"
      ]
     },
     "metadata": {},
     "output_type": "display_data"
    },
    {
     "data": {
      "text/html": [
       "<div>\n",
       "<style scoped>\n",
       "    .dataframe tbody tr th:only-of-type {\n",
       "        vertical-align: middle;\n",
       "    }\n",
       "\n",
       "    .dataframe tbody tr th {\n",
       "        vertical-align: top;\n",
       "    }\n",
       "\n",
       "    .dataframe thead th {\n",
       "        text-align: right;\n",
       "    }\n",
       "</style>\n",
       "<table border=\"1\" class=\"dataframe\">\n",
       "  <thead>\n",
       "    <tr style=\"text-align: right;\">\n",
       "      <th></th>\n",
       "      <th>агрегаты</th>\n",
       "      <th>P-val</th>\n",
       "    </tr>\n",
       "  </thead>\n",
       "  <tbody>\n",
       "    <tr>\n",
       "      <th>0</th>\n",
       "      <td>СВД водоустойчивые &gt;10, мм</td>\n",
       "      <td>0.000650</td>\n",
       "    </tr>\n",
       "    <tr>\n",
       "      <th>1</th>\n",
       "      <td>СВД водоустойчивые 10-7, мм</td>\n",
       "      <td>0.000408</td>\n",
       "    </tr>\n",
       "    <tr>\n",
       "      <th>2</th>\n",
       "      <td>СВД водоустойчивые 7-5, мм</td>\n",
       "      <td>0.000067</td>\n",
       "    </tr>\n",
       "    <tr>\n",
       "      <th>3</th>\n",
       "      <td>СВД водоустойчивые 5-3, мм</td>\n",
       "      <td>0.006358</td>\n",
       "    </tr>\n",
       "  </tbody>\n",
       "</table>\n",
       "</div>"
      ],
      "text/plain": [
       "                      агрегаты     P-val\n",
       "0   СВД водоустойчивые >10, мм  0.000650\n",
       "1  СВД водоустойчивые 10-7, мм  0.000408\n",
       "2   СВД водоустойчивые 7-5, мм  0.000067\n",
       "3   СВД водоустойчивые 5-3, мм  0.006358"
      ]
     },
     "execution_count": 44,
     "metadata": {},
     "output_type": "execute_result"
    }
   ],
   "source": [
    "stats, aov, fig = SVD_vis(agrofiz)\n",
    "aov"
   ]
  },
  {
   "cell_type": "code",
   "execution_count": 45,
   "metadata": {},
   "outputs": [
    {
     "data": {
      "text/html": [
       "<div>\n",
       "<style scoped>\n",
       "    .dataframe tbody tr th:only-of-type {\n",
       "        vertical-align: middle;\n",
       "    }\n",
       "\n",
       "    .dataframe tbody tr th {\n",
       "        vertical-align: top;\n",
       "    }\n",
       "\n",
       "    .dataframe thead tr th {\n",
       "        text-align: left;\n",
       "    }\n",
       "\n",
       "    .dataframe thead tr:last-of-type th {\n",
       "        text-align: right;\n",
       "    }\n",
       "</style>\n",
       "<table border=\"1\" class=\"dataframe\">\n",
       "  <thead>\n",
       "    <tr>\n",
       "      <th></th>\n",
       "      <th colspan=\"3\" halign=\"left\">СВД водоустойчивые &gt;10, мм</th>\n",
       "      <th colspan=\"3\" halign=\"left\">СВД водоустойчивые 10-7, мм</th>\n",
       "      <th colspan=\"3\" halign=\"left\">СВД водоустойчивые 7-5, мм</th>\n",
       "      <th colspan=\"3\" halign=\"left\">СВД водоустойчивые 5-3, мм</th>\n",
       "    </tr>\n",
       "    <tr>\n",
       "      <th></th>\n",
       "      <th>std</th>\n",
       "      <th>variation</th>\n",
       "      <th>mean</th>\n",
       "      <th>std</th>\n",
       "      <th>variation</th>\n",
       "      <th>mean</th>\n",
       "      <th>std</th>\n",
       "      <th>variation</th>\n",
       "      <th>mean</th>\n",
       "      <th>std</th>\n",
       "      <th>variation</th>\n",
       "      <th>mean</th>\n",
       "    </tr>\n",
       "    <tr>\n",
       "      <th>Тип обработки</th>\n",
       "      <th></th>\n",
       "      <th></th>\n",
       "      <th></th>\n",
       "      <th></th>\n",
       "      <th></th>\n",
       "      <th></th>\n",
       "      <th></th>\n",
       "      <th></th>\n",
       "      <th></th>\n",
       "      <th></th>\n",
       "      <th></th>\n",
       "      <th></th>\n",
       "    </tr>\n",
       "  </thead>\n",
       "  <tbody>\n",
       "    <tr>\n",
       "      <th>ПП</th>\n",
       "      <td>1.108882</td>\n",
       "      <td>0.199199</td>\n",
       "      <td>5.24834</td>\n",
       "      <td>0.862926</td>\n",
       "      <td>0.231007</td>\n",
       "      <td>3.521854</td>\n",
       "      <td>0.306476</td>\n",
       "      <td>0.139487</td>\n",
       "      <td>2.071514</td>\n",
       "      <td>0.288405</td>\n",
       "      <td>0.209349</td>\n",
       "      <td>1.298840</td>\n",
       "    </tr>\n",
       "    <tr>\n",
       "      <th>ТТ</th>\n",
       "      <td>0.978510</td>\n",
       "      <td>0.323818</td>\n",
       "      <td>2.75850</td>\n",
       "      <td>0.375665</td>\n",
       "      <td>0.196553</td>\n",
       "      <td>1.744740</td>\n",
       "      <td>0.223905</td>\n",
       "      <td>0.166213</td>\n",
       "      <td>1.229729</td>\n",
       "      <td>0.057123</td>\n",
       "      <td>0.057500</td>\n",
       "      <td>0.906875</td>\n",
       "    </tr>\n",
       "  </tbody>\n",
       "</table>\n",
       "</div>"
      ],
      "text/plain": [
       "              СВД водоустойчивые >10, мм                     \\\n",
       "                                     std variation     mean   \n",
       "Тип обработки                                                 \n",
       "ПП                              1.108882  0.199199  5.24834   \n",
       "ТТ                              0.978510  0.323818  2.75850   \n",
       "\n",
       "              СВД водоустойчивые 10-7, мм                      \\\n",
       "                                      std variation      mean   \n",
       "Тип обработки                                                   \n",
       "ПП                               0.862926  0.231007  3.521854   \n",
       "ТТ                               0.375665  0.196553  1.744740   \n",
       "\n",
       "              СВД водоустойчивые 7-5, мм                      \\\n",
       "                                     std variation      mean   \n",
       "Тип обработки                                                  \n",
       "ПП                              0.306476  0.139487  2.071514   \n",
       "ТТ                              0.223905  0.166213  1.229729   \n",
       "\n",
       "              СВД водоустойчивые 5-3, мм                      \n",
       "                                     std variation      mean  \n",
       "Тип обработки                                                 \n",
       "ПП                              0.288405  0.209349  1.298840  \n",
       "ТТ                              0.057123  0.057500  0.906875  "
      ]
     },
     "execution_count": 45,
     "metadata": {},
     "output_type": "execute_result"
    }
   ],
   "source": [
    "stats"
   ]
  },
  {
   "cell_type": "markdown",
   "metadata": {},
   "source": [
    "### Кву"
   ]
  },
  {
   "cell_type": "code",
   "execution_count": 55,
   "metadata": {},
   "outputs": [
    {
     "data": {
      "image/png": "[encoded data removed]",
      "text/plain": [
       "<Figure size 504x504 with 1 Axes>"
      ]
     },
     "metadata": {},
     "output_type": "display_data"
    },
    {
     "data": {
      "text/html": [
       "<div>\n",
       "<style scoped>\n",
       "    .dataframe tbody tr th:only-of-type {\n",
       "        vertical-align: middle;\n",
       "    }\n",
       "\n",
       "    .dataframe tbody tr th {\n",
       "        vertical-align: top;\n",
       "    }\n",
       "\n",
       "    .dataframe thead th {\n",
       "        text-align: right;\n",
       "    }\n",
       "</style>\n",
       "<table border=\"1\" class=\"dataframe\">\n",
       "  <thead>\n",
       "    <tr style=\"text-align: right;\">\n",
       "      <th></th>\n",
       "      <th>агрегаты</th>\n",
       "      <th>P-val</th>\n",
       "    </tr>\n",
       "  </thead>\n",
       "  <tbody>\n",
       "    <tr>\n",
       "      <th>0</th>\n",
       "      <td>Кву &gt;10, мм</td>\n",
       "      <td>0.266167</td>\n",
       "    </tr>\n",
       "    <tr>\n",
       "      <th>1</th>\n",
       "      <td>Кву 10-7, мм</td>\n",
       "      <td>0.102644</td>\n",
       "    </tr>\n",
       "    <tr>\n",
       "      <th>2</th>\n",
       "      <td>Кву 7-5, мм</td>\n",
       "      <td>0.027805</td>\n",
       "    </tr>\n",
       "    <tr>\n",
       "      <th>3</th>\n",
       "      <td>Кву 5-3, мм</td>\n",
       "      <td>0.135488</td>\n",
       "    </tr>\n",
       "  </tbody>\n",
       "</table>\n",
       "</div>"
      ],
      "text/plain": [
       "       агрегаты     P-val\n",
       "0   Кву >10, мм  0.266167\n",
       "1  Кву 10-7, мм  0.102644\n",
       "2   Кву 7-5, мм  0.027805\n",
       "3   Кву 5-3, мм  0.135488"
      ]
     },
     "execution_count": 55,
     "metadata": {},
     "output_type": "execute_result"
    }
   ],
   "source": [
    "stats, aov, fig = Kvu(agrofiz)\n",
    "aov"
   ]
  },
  {
   "cell_type": "code",
   "execution_count": 56,
   "metadata": {},
   "outputs": [
    {
     "data": {
      "text/html": [
       "<div>\n",
       "<style scoped>\n",
       "    .dataframe tbody tr th:only-of-type {\n",
       "        vertical-align: middle;\n",
       "    }\n",
       "\n",
       "    .dataframe tbody tr th {\n",
       "        vertical-align: top;\n",
       "    }\n",
       "\n",
       "    .dataframe thead tr th {\n",
       "        text-align: left;\n",
       "    }\n",
       "\n",
       "    .dataframe thead tr:last-of-type th {\n",
       "        text-align: right;\n",
       "    }\n",
       "</style>\n",
       "<table border=\"1\" class=\"dataframe\">\n",
       "  <thead>\n",
       "    <tr>\n",
       "      <th></th>\n",
       "      <th colspan=\"3\" halign=\"left\">Кву &gt;10, мм</th>\n",
       "      <th colspan=\"3\" halign=\"left\">Кву 10-7, мм</th>\n",
       "      <th colspan=\"3\" halign=\"left\">Кву 7-5, мм</th>\n",
       "      <th colspan=\"3\" halign=\"left\">Кву 5-3, мм</th>\n",
       "    </tr>\n",
       "    <tr>\n",
       "      <th></th>\n",
       "      <th>std</th>\n",
       "      <th>variation</th>\n",
       "      <th>mean</th>\n",
       "      <th>std</th>\n",
       "      <th>variation</th>\n",
       "      <th>mean</th>\n",
       "      <th>std</th>\n",
       "      <th>variation</th>\n",
       "      <th>mean</th>\n",
       "      <th>std</th>\n",
       "      <th>variation</th>\n",
       "      <th>mean</th>\n",
       "    </tr>\n",
       "    <tr>\n",
       "      <th>Тип обработки</th>\n",
       "      <th></th>\n",
       "      <th></th>\n",
       "      <th></th>\n",
       "      <th></th>\n",
       "      <th></th>\n",
       "      <th></th>\n",
       "      <th></th>\n",
       "      <th></th>\n",
       "      <th></th>\n",
       "      <th></th>\n",
       "      <th></th>\n",
       "      <th></th>\n",
       "    </tr>\n",
       "  </thead>\n",
       "  <tbody>\n",
       "    <tr>\n",
       "      <th>ПП</th>\n",
       "      <td>5.186702</td>\n",
       "      <td>0.062881</td>\n",
       "      <td>77.766667</td>\n",
       "      <td>7.264989</td>\n",
       "      <td>0.092277</td>\n",
       "      <td>74.227778</td>\n",
       "      <td>5.846069</td>\n",
       "      <td>0.076135</td>\n",
       "      <td>72.394444</td>\n",
       "      <td>10.636526</td>\n",
       "      <td>0.144245</td>\n",
       "      <td>69.522222</td>\n",
       "    </tr>\n",
       "    <tr>\n",
       "      <th>ТТ</th>\n",
       "      <td>4.966429</td>\n",
       "      <td>0.060740</td>\n",
       "      <td>74.641667</td>\n",
       "      <td>7.090252</td>\n",
       "      <td>0.095794</td>\n",
       "      <td>67.566667</td>\n",
       "      <td>5.842146</td>\n",
       "      <td>0.082344</td>\n",
       "      <td>64.766667</td>\n",
       "      <td>10.917757</td>\n",
       "      <td>0.164713</td>\n",
       "      <td>60.508333</td>\n",
       "    </tr>\n",
       "  </tbody>\n",
       "</table>\n",
       "</div>"
      ],
      "text/plain": [
       "              Кву >10, мм                      Кву 10-7, мм            \\\n",
       "                      std variation       mean          std variation   \n",
       "Тип обработки                                                           \n",
       "ПП               5.186702  0.062881  77.766667     7.264989  0.092277   \n",
       "ТТ               4.966429  0.060740  74.641667     7.090252  0.095794   \n",
       "\n",
       "                         Кву 7-5, мм                      Кву 5-3, мм  \\\n",
       "                    mean         std variation       mean         std   \n",
       "Тип обработки                                                           \n",
       "ПП             74.227778    5.846069  0.076135  72.394444   10.636526   \n",
       "ТТ             67.566667    5.842146  0.082344  64.766667   10.917757   \n",
       "\n",
       "                                    \n",
       "              variation       mean  \n",
       "Тип обработки                       \n",
       "ПП             0.144245  69.522222  \n",
       "ТТ             0.164713  60.508333  "
      ]
     },
     "execution_count": 56,
     "metadata": {},
     "output_type": "execute_result"
    }
   ],
   "source": [
    "stats"
   ]
  },
  {
   "cell_type": "markdown",
   "metadata": {},
   "source": [
    "# Объемный вес "
   ]
  },
  {
   "cell_type": "code",
   "execution_count": 76,
   "metadata": {},
   "outputs": [
    {
     "data": {
      "image/png": "[encoded data removed]",
      "text/plain": [
       "<Figure size 504x360 with 1 Axes>"
      ]
     },
     "metadata": {},
     "output_type": "display_data"
    },
    {
     "data": {
      "text/plain": [
       "F_onewayResult(statistic=21.9003672745783, pvalue=4.040834976929632e-06)"
      ]
     },
     "execution_count": 76,
     "metadata": {},
     "output_type": "execute_result"
    }
   ],
   "source": [
    "ob_ves = pd.read_csv('полевые данные общая/ready_data/объемный вес.csv')\n",
    "\n",
    "\n",
    "stats, aov, fig = ob_ves_plot(ob_ves)\n",
    "aov"
   ]
  },
  {
   "cell_type": "code",
   "execution_count": 77,
   "metadata": {},
   "outputs": [
    {
     "data": {
      "text/html": [
       "<div>\n",
       "<style scoped>\n",
       "    .dataframe tbody tr th:only-of-type {\n",
       "        vertical-align: middle;\n",
       "    }\n",
       "\n",
       "    .dataframe tbody tr th {\n",
       "        vertical-align: top;\n",
       "    }\n",
       "\n",
       "    .dataframe thead tr th {\n",
       "        text-align: left;\n",
       "    }\n",
       "\n",
       "    .dataframe thead tr:last-of-type th {\n",
       "        text-align: right;\n",
       "    }\n",
       "</style>\n",
       "<table border=\"1\" class=\"dataframe\">\n",
       "  <thead>\n",
       "    <tr>\n",
       "      <th></th>\n",
       "      <th colspan=\"3\" halign=\"left\">Объемный вес</th>\n",
       "    </tr>\n",
       "    <tr>\n",
       "      <th></th>\n",
       "      <th>std</th>\n",
       "      <th>variation</th>\n",
       "      <th>mean</th>\n",
       "    </tr>\n",
       "    <tr>\n",
       "      <th>GPS №</th>\n",
       "      <th></th>\n",
       "      <th></th>\n",
       "      <th></th>\n",
       "    </tr>\n",
       "  </thead>\n",
       "  <tbody>\n",
       "    <tr>\n",
       "      <th>525</th>\n",
       "      <td>0.036136</td>\n",
       "      <td>0.031324</td>\n",
       "      <td>0.999057</td>\n",
       "    </tr>\n",
       "    <tr>\n",
       "      <th>526</th>\n",
       "      <td>0.027059</td>\n",
       "      <td>0.022194</td>\n",
       "      <td>1.055830</td>\n",
       "    </tr>\n",
       "    <tr>\n",
       "      <th>527</th>\n",
       "      <td>0.031954</td>\n",
       "      <td>0.024339</td>\n",
       "      <td>1.136974</td>\n",
       "    </tr>\n",
       "    <tr>\n",
       "      <th>528</th>\n",
       "      <td>0.077045</td>\n",
       "      <td>0.067960</td>\n",
       "      <td>0.981792</td>\n",
       "    </tr>\n",
       "    <tr>\n",
       "      <th>586</th>\n",
       "      <td>0.017064</td>\n",
       "      <td>0.017122</td>\n",
       "      <td>0.863131</td>\n",
       "    </tr>\n",
       "  </tbody>\n",
       "</table>\n",
       "</div>"
      ],
      "text/plain": [
       "      Объемный вес                    \n",
       "               std variation      mean\n",
       "GPS №                                 \n",
       "525       0.036136  0.031324  0.999057\n",
       "526       0.027059  0.022194  1.055830\n",
       "527       0.031954  0.024339  1.136974\n",
       "528       0.077045  0.067960  0.981792\n",
       "586       0.017064  0.017122  0.863131"
      ]
     },
     "execution_count": 77,
     "metadata": {},
     "output_type": "execute_result"
    }
   ],
   "source": [
    "stats"
   ]
  }
 ],
 "metadata": {
  "kernelspec": {
   "display_name": "Python 3.8.5 64-bit (system)",
   "language": "python",
   "name": "python3"
  },
  "language_info": {
   "codemirror_mode": {
    "name": "ipython",
    "version": 3
   },
   "file_extension": ".py",
   "mimetype": "text/x-python",
   "name": "python",
   "nbconvert_exporter": "python",
   "pygments_lexer": "ipython3",
   "version": "3.8.5"
  },
  "orig_nbformat": 4,
  "vscode": {
   "interpreter": {
    "hash": "ad2bdc8ecc057115af97d19610ffacc2b4e99fae6737bb82f5d7fb13d2f2c186"
   }
  }
 },
 "nbformat": 4,
 "nbformat_minor": 2
}
