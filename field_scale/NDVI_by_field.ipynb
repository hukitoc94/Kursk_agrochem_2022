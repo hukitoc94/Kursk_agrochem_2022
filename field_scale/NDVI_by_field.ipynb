{
 "cells": [
  {
   "cell_type": "code",
   "execution_count": 2,
   "source": [
    "from satelite_data_preporation import collection\r\n",
    "import styles as styles\r\n",
    "import ee, geemap\r\n",
    "%load_ext autoreload"
   ],
   "outputs": [],
   "metadata": {}
  },
  {
   "cell_type": "code",
   "execution_count": 3,
   "source": [
    "ee.Initialize()"
   ],
   "outputs": [],
   "metadata": {}
  },
  {
   "cell_type": "code",
   "execution_count": 4,
   "source": [
    "%autoreload 2"
   ],
   "outputs": [],
   "metadata": {}
  },
  {
   "cell_type": "code",
   "execution_count": 5,
   "source": [
    "region_boundary = geemap.geojson_to_ee('vector_data/budenovsk_district_boundaries.geojson')\r\n",
    "\r\n",
    "agricultural_lands = geemap.geojson_to_ee('vector_data/agriculture_lands.geojson')\r\n",
    "\r\n",
    "points = geemap.geojson_to_ee('vector_data/bufferd_points.geojson')\r\n",
    "\r\n",
    "Budenovsk = geemap.Map(zoom = 10)\r\n",
    "Budenovsk.centerObject(region_boundary)\r\n",
    "Budenovsk.addLayer(region_boundary ,{'color' : \"FF0000\"}, 'Границы региона' )\r\n",
    "\r\n",
    "\r\n",
    "\r\n",
    "\r\n",
    "Budenovsk.addLayer(points ,{'color' : \"green\"}, 'ключевые' )\r\n",
    "Budenovsk"
   ],
   "outputs": [
    {
     "output_type": "display_data",
     "data": {
      "application/vnd.jupyter.widget-view+json": {
       "version_major": 2,
       "version_minor": 0,
       "model_id": "3ecc456b745c437f96429b1a9d9527e2"
      },
      "text/plain": [
       "Map(center=[44.745544055004785, 44.14114333519604], controls=(WidgetControl(options=['position'], widget=HBox(…"
      ]
     },
     "metadata": {}
    }
   ],
   "metadata": {}
  },
  {
   "cell_type": "code",
   "execution_count": 93,
   "source": [
    "sentinel2021_collection = collection('landsat8', '2021-01-30', '2021-09-30', region_boundary, points)"
   ],
   "outputs": [],
   "metadata": {}
  },
  {
   "cell_type": "code",
   "execution_count": 94,
   "source": [
    "sentinel2021_collection.mosaic.size().getInfo()"
   ],
   "outputs": [
    {
     "output_type": "execute_result",
     "data": {
      "text/plain": [
       "11"
      ]
     },
     "metadata": {},
     "execution_count": 94
    }
   ],
   "metadata": {}
  },
  {
   "cell_type": "code",
   "execution_count": 95,
   "source": [
    "sentinel2021_collection.unique_dates"
   ],
   "outputs": [
    {
     "output_type": "execute_result",
     "data": {
      "text/plain": [
       "['2021-04-16',\n",
       " '2021-05-02',\n",
       " '2021-06-12',\n",
       " '2021-06-19',\n",
       " '2021-06-28',\n",
       " '2021-07-12',\n",
       " '2021-07-14',\n",
       " '2021-07-21',\n",
       " '2021-07-30',\n",
       " '2021-08-06',\n",
       " '2021-08-29']"
      ]
     },
     "metadata": {},
     "execution_count": 95
    }
   ],
   "metadata": {}
  },
  {
   "cell_type": "code",
   "execution_count": null,
   "source": [],
   "outputs": [],
   "metadata": {}
  }
 ],
 "metadata": {
  "orig_nbformat": 4,
  "language_info": {
   "name": "python",
   "version": "3.6.13",
   "mimetype": "text/x-python",
   "codemirror_mode": {
    "name": "ipython",
    "version": 3
   },
   "pygments_lexer": "ipython3",
   "nbconvert_exporter": "python",
   "file_extension": ".py"
  },
  "kernelspec": {
   "name": "python3",
   "display_name": "Python 3.6.13 64-bit ('GIS3.6': conda)"
  },
  "interpreter": {
   "hash": "85920efa26795b81ae974cc3e921fa6f3e61da85cedce47b5b9a60ff06de3444"
  }
 },
 "nbformat": 4,
 "nbformat_minor": 2
}