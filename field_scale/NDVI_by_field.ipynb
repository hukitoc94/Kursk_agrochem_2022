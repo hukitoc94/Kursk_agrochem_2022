{
 "cells": [
  {
   "cell_type": "code",
   "execution_count": 1,
   "source": [
    "from satelite_data_preporation import collection\r\n",
    "import styles as styles\r\n",
    "import ee, geemap\r\n",
    "import datetime\r\n",
    "import numpy as np\r\n",
    "%load_ext autoreload"
   ],
   "outputs": [],
   "metadata": {}
  },
  {
   "cell_type": "code",
   "execution_count": 2,
   "source": [
    "ee.Initialize()"
   ],
   "outputs": [],
   "metadata": {}
  },
  {
   "cell_type": "code",
   "execution_count": 3,
   "source": [
    "%autoreload 2"
   ],
   "outputs": [],
   "metadata": {}
  },
  {
   "cell_type": "code",
   "execution_count": 4,
   "source": [
    "region_boundary = geemap.geojson_to_ee('vector_data/budenovsk_district_boundaries.geojson')\r\n",
    "region_of_interest = geemap.geojson_to_ee('vector_data/our_fields_for_animation.geojson')\r\n",
    "\r\n",
    "points = geemap.geojson_to_ee('vector_data/bufferd_points.geojson')\r\n",
    "\r\n",
    "Budenovsk = geemap.Map(zoom = 13)\r\n",
    "Budenovsk.add_basemap(basemap = 'SATELLITE')\r\n",
    "Budenovsk.centerObject(region_of_interest)\r\n",
    "\r\n",
    "\r\n",
    "\r\n",
    "\r\n",
    "Budenovsk"
   ],
   "outputs": [
    {
     "output_type": "display_data",
     "data": {
      "application/vnd.jupyter.widget-view+json": {
       "version_major": 2,
       "version_minor": 0,
       "model_id": "36ef237edd6c4a1faadd7e4a3be7d0ee"
      },
      "text/plain": [
       "Map(center=[44.54104344506815, 44.170921493324144], controls=(WidgetControl(options=['position'], widget=HBox(…"
      ]
     },
     "metadata": {}
    }
   ],
   "metadata": {}
  },
  {
   "cell_type": "code",
   "execution_count": 46,
   "source": [
    "sentinel2021_collection = collection('landsat8', '2017-05-30', '2017-06-01', region_boundary, region_of_interest)"
   ],
   "outputs": [
    {
     "output_type": "error",
     "ename": "Exception",
     "evalue": "коллекция не имеет изображений",
     "traceback": [
      "\u001b[1;31m---------------------------------------------------------------------------\u001b[0m",
      "\u001b[1;31mException\u001b[0m                                 Traceback (most recent call last)",
      "\u001b[1;32m<ipython-input-46-e25ec602c718>\u001b[0m in \u001b[0;36m<module>\u001b[1;34m\u001b[0m\n\u001b[1;32m----> 1\u001b[1;33m \u001b[0msentinel2021_collection\u001b[0m \u001b[1;33m=\u001b[0m \u001b[0mcollection\u001b[0m\u001b[1;33m(\u001b[0m\u001b[1;34m'landsat8'\u001b[0m\u001b[1;33m,\u001b[0m \u001b[1;34m'2017-05-30'\u001b[0m\u001b[1;33m,\u001b[0m \u001b[1;34m'2017-06-01'\u001b[0m\u001b[1;33m,\u001b[0m \u001b[0mregion_boundary\u001b[0m\u001b[1;33m,\u001b[0m \u001b[0mregion_of_interest\u001b[0m\u001b[1;33m)\u001b[0m\u001b[1;33m\u001b[0m\u001b[1;33m\u001b[0m\u001b[0m\n\u001b[0m",
      "\u001b[1;32mc:\\Users\\ermolaevNR\\Google Диск\\python_notebooks\\Archangelskiy_project\\field_scale\\satelite_data_preporation.py\u001b[0m in \u001b[0;36m__init__\u001b[1;34m(self, platform, first_date, last_date, region_geometry, region_of_interest, cloud_cover_threshold)\u001b[0m\n\u001b[0;32m    178\u001b[0m \u001b[1;33m\u001b[0m\u001b[0m\n\u001b[0;32m    179\u001b[0m         \u001b[1;32mif\u001b[0m \u001b[0mlen\u001b[0m\u001b[1;33m(\u001b[0m\u001b[0mgood_date_list\u001b[0m\u001b[1;33m)\u001b[0m \u001b[1;33m==\u001b[0m \u001b[1;36m0\u001b[0m\u001b[1;33m:\u001b[0m\u001b[1;33m\u001b[0m\u001b[1;33m\u001b[0m\u001b[0m\n\u001b[1;32m--> 180\u001b[1;33m             \u001b[1;32mraise\u001b[0m \u001b[0mException\u001b[0m\u001b[1;33m(\u001b[0m\u001b[1;34m\"коллекция не имеет изображений\"\u001b[0m\u001b[1;33m)\u001b[0m \u001b[1;31m#если лист пустой и изображений нет, уронили систему\u001b[0m\u001b[1;33m\u001b[0m\u001b[1;33m\u001b[0m\u001b[0m\n\u001b[0m\u001b[0;32m    181\u001b[0m \u001b[1;33m\u001b[0m\u001b[0m\n\u001b[0;32m    182\u001b[0m     \u001b[1;32mdef\u001b[0m \u001b[0mDownloadImages\u001b[0m\u001b[1;33m(\u001b[0m\u001b[0mself\u001b[0m\u001b[1;33m)\u001b[0m\u001b[1;33m:\u001b[0m\u001b[1;33m\u001b[0m\u001b[1;33m\u001b[0m\u001b[0m\n",
      "\u001b[1;31mException\u001b[0m: коллекция не имеет изображений"
     ]
    }
   ],
   "metadata": {}
  },
  {
   "cell_type": "code",
   "execution_count": 44,
   "source": [
    "sentinel2021_collection.good_date_list"
   ],
   "outputs": [
    {
     "output_type": "execute_result",
     "data": {
      "text/plain": [
       "[]"
      ]
     },
     "metadata": {},
     "execution_count": 44
    }
   ],
   "metadata": {}
  },
  {
   "cell_type": "code",
   "execution_count": 42,
   "source": [
    "sentinel2021_collection.DownloadImages()"
   ],
   "outputs": [
    {
     "output_type": "stream",
     "name": "stdout",
     "text": [
      "Generating URL ...\n",
      "Downloading data from https://earthengine.googleapis.com/v1alpha/projects/earthengine-legacy/thumbnails/bdd950eaee4722a4ab025a5a51529634-7dc56a328e9c23c396915e17098042b1:getPixels\n",
      "Please wait ...\n",
      "Data downloaded to c:\\Users\\ermolaevNR\\Google Диск\\python_notebooks\\Archangelskiy_project\\field_scale\\raster_data\\Field_scale_landsat8_2017-06-24_scene.tif\n"
     ]
    }
   ],
   "metadata": {}
  },
  {
   "cell_type": "code",
   "execution_count": 196,
   "source": [],
   "outputs": [
    {
     "output_type": "execute_result",
     "data": {
      "text/plain": [
       "{'type': 'ImageCollection',\n",
       " 'bands': [],\n",
       " 'features': [{'type': 'Image',\n",
       "   'bands': [{'id': 'B1',\n",
       "     'data_type': {'type': 'PixelType',\n",
       "      'precision': 'int',\n",
       "      'min': -32768,\n",
       "      'max': 32767},\n",
       "     'dimensions': [123, 134],\n",
       "     'origin': [4520, 3873],\n",
       "     'crs': 'EPSG:32638',\n",
       "     'crs_transform': [30, 0, 296685, 0, -30, 5050515]},\n",
       "    {'id': 'B2',\n",
       "     'data_type': {'type': 'PixelType',\n",
       "      'precision': 'int',\n",
       "      'min': -32768,\n",
       "      'max': 32767},\n",
       "     'dimensions': [123, 134],\n",
       "     'origin': [4520, 3873],\n",
       "     'crs': 'EPSG:32638',\n",
       "     'crs_transform': [30, 0, 296685, 0, -30, 5050515]},\n",
       "    {'id': 'B3',\n",
       "     'data_type': {'type': 'PixelType',\n",
       "      'precision': 'int',\n",
       "      'min': -32768,\n",
       "      'max': 32767},\n",
       "     'dimensions': [123, 134],\n",
       "     'origin': [4520, 3873],\n",
       "     'crs': 'EPSG:32638',\n",
       "     'crs_transform': [30, 0, 296685, 0, -30, 5050515]},\n",
       "    {'id': 'B4',\n",
       "     'data_type': {'type': 'PixelType',\n",
       "      'precision': 'int',\n",
       "      'min': -32768,\n",
       "      'max': 32767},\n",
       "     'dimensions': [123, 134],\n",
       "     'origin': [4520, 3873],\n",
       "     'crs': 'EPSG:32638',\n",
       "     'crs_transform': [30, 0, 296685, 0, -30, 5050515]},\n",
       "    {'id': 'B5',\n",
       "     'data_type': {'type': 'PixelType',\n",
       "      'precision': 'int',\n",
       "      'min': -32768,\n",
       "      'max': 32767},\n",
       "     'dimensions': [123, 134],\n",
       "     'origin': [4520, 3873],\n",
       "     'crs': 'EPSG:32638',\n",
       "     'crs_transform': [30, 0, 296685, 0, -30, 5050515]},\n",
       "    {'id': 'B6',\n",
       "     'data_type': {'type': 'PixelType',\n",
       "      'precision': 'int',\n",
       "      'min': -32768,\n",
       "      'max': 32767},\n",
       "     'dimensions': [123, 134],\n",
       "     'origin': [4520, 3873],\n",
       "     'crs': 'EPSG:32638',\n",
       "     'crs_transform': [30, 0, 296685, 0, -30, 5050515]},\n",
       "    {'id': 'B7',\n",
       "     'data_type': {'type': 'PixelType',\n",
       "      'precision': 'int',\n",
       "      'min': -32768,\n",
       "      'max': 32767},\n",
       "     'dimensions': [123, 134],\n",
       "     'origin': [4520, 3873],\n",
       "     'crs': 'EPSG:32638',\n",
       "     'crs_transform': [30, 0, 296685, 0, -30, 5050515]},\n",
       "    {'id': 'sr_atmos_opacity',\n",
       "     'data_type': {'type': 'PixelType',\n",
       "      'precision': 'int',\n",
       "      'min': -32768,\n",
       "      'max': 32767},\n",
       "     'dimensions': [123, 134],\n",
       "     'origin': [4520, 3873],\n",
       "     'crs': 'EPSG:32638',\n",
       "     'crs_transform': [30, 0, 296685, 0, -30, 5050515]},\n",
       "    {'id': 'sr_cloud_qa',\n",
       "     'data_type': {'type': 'PixelType',\n",
       "      'precision': 'int',\n",
       "      'min': 0,\n",
       "      'max': 255},\n",
       "     'dimensions': [123, 134],\n",
       "     'origin': [4520, 3873],\n",
       "     'crs': 'EPSG:32638',\n",
       "     'crs_transform': [30, 0, 296685, 0, -30, 5050515]},\n",
       "    {'id': 'pixel_qa',\n",
       "     'data_type': {'type': 'PixelType',\n",
       "      'precision': 'int',\n",
       "      'min': 0,\n",
       "      'max': 65535},\n",
       "     'dimensions': [123, 134],\n",
       "     'origin': [4520, 3873],\n",
       "     'crs': 'EPSG:32638',\n",
       "     'crs_transform': [30, 0, 296685, 0, -30, 5050515]},\n",
       "    {'id': 'radsat_qa',\n",
       "     'data_type': {'type': 'PixelType',\n",
       "      'precision': 'int',\n",
       "      'min': 0,\n",
       "      'max': 255},\n",
       "     'dimensions': [123, 134],\n",
       "     'origin': [4520, 3873],\n",
       "     'crs': 'EPSG:32638',\n",
       "     'crs_transform': [30, 0, 296685, 0, -30, 5050515]},\n",
       "    {'id': 'NDVI',\n",
       "     'data_type': {'type': 'PixelType',\n",
       "      'precision': 'float',\n",
       "      'min': -1,\n",
       "      'max': 1},\n",
       "     'dimensions': [123, 134],\n",
       "     'origin': [4520, 3873],\n",
       "     'crs': 'EPSG:32638',\n",
       "     'crs_transform': [30, 0, 296685, 0, -30, 5050515]},\n",
       "    {'id': 'NDTI',\n",
       "     'data_type': {'type': 'PixelType',\n",
       "      'precision': 'float',\n",
       "      'min': -1,\n",
       "      'max': 1},\n",
       "     'dimensions': [123, 134],\n",
       "     'origin': [4520, 3873],\n",
       "     'crs': 'EPSG:32638',\n",
       "     'crs_transform': [30, 0, 296685, 0, -30, 5050515]}],\n",
       "   'properties': {'system:footprint': {'type': 'Polygon',\n",
       "     'coordinates': [[[44.17649146585635, 44.55918826831594],\n",
       "       [44.147869047242956, 44.532019331897764],\n",
       "       [44.16519902726279, 44.52307482608108],\n",
       "       [44.19393325219889, 44.54957292456301],\n",
       "       [44.17649146585635, 44.55918826831594]]]},\n",
       "    'Date': {'type': 'Date', 'value': 1008979200000},\n",
       "    'system:index': '2'}}]}"
      ]
     },
     "metadata": {},
     "execution_count": 196
    }
   ],
   "metadata": {}
  },
  {
   "cell_type": "markdown",
   "source": [],
   "metadata": {}
  },
  {
   "cell_type": "code",
   "execution_count": 195,
   "source": [
    "ee.Date('2001-12-22').getInfo()"
   ],
   "outputs": [
    {
     "output_type": "execute_result",
     "data": {
      "text/plain": [
       "{'type': 'Date', 'value': 1008979200000}"
      ]
     },
     "metadata": {},
     "execution_count": 195
    }
   ],
   "metadata": {}
  },
  {
   "cell_type": "code",
   "execution_count": 155,
   "source": [
    "str(datetime.datetime.fromtimestamp(1008979200).strftime(\"%Y-%m-%d\"))"
   ],
   "outputs": [
    {
     "output_type": "execute_result",
     "data": {
      "text/plain": [
       "'2001-12-22'"
      ]
     },
     "metadata": {},
     "execution_count": 155
    }
   ],
   "metadata": {}
  },
  {
   "cell_type": "code",
   "execution_count": 12,
   "source": [
    "Budenovsk.addLayer(sentinel2021_collection.result, {}, \"L7 - 2001-2002\", False)\r\n",
    "Budenovsk.add_time_slider(\r\n",
    "    sentinel2021_collection.result,\r\n",
    "    styles.NDVI_vis_params_L8,\r\n",
    "    labels = sentinel2021_collection.unique_dates  )\r\n"
   ],
   "outputs": [],
   "metadata": {}
  },
  {
   "cell_type": "code",
   "execution_count": 57,
   "source": [
    "time_lst = sentinel2021_collection.row.aggregate_array(\"system:time_start\").getInfo()"
   ],
   "outputs": [],
   "metadata": {}
  },
  {
   "cell_type": "code",
   "execution_count": 70,
   "source": [
    "sentinel2021_collection.row.reduceColumns(ee.Reducer.mean(), ['B1']).getInfo()"
   ],
   "outputs": [
    {
     "output_type": "execute_result",
     "data": {
      "text/plain": [
       "{'mean': None}"
      ]
     },
     "metadata": {},
     "execution_count": 70
    }
   ],
   "metadata": {}
  },
  {
   "cell_type": "code",
   "execution_count": 63,
   "source": [
    "dates = get_time_lst(time_lst)"
   ],
   "outputs": [],
   "metadata": {}
  },
  {
   "cell_type": "code",
   "execution_count": 82,
   "source": [
    "NDVI = sentinel2021_collection.result.select('NDVI').toBands().rename(sentinel2021_collection.unique_dates)"
   ],
   "outputs": [],
   "metadata": {}
  },
  {
   "cell_type": "code",
   "execution_count": 86,
   "source": [
    "date_value_dictionary = NDVI.reduceRegion(ee.Reducer.count()).getInfo()"
   ],
   "outputs": [],
   "metadata": {}
  },
  {
   "cell_type": "code",
   "execution_count": 100,
   "source": [
    "pixels_count_list = list(date_value_dictionary.values())"
   ],
   "outputs": [],
   "metadata": {}
  },
  {
   "cell_type": "code",
   "execution_count": 107,
   "source": [
    "part_of_pixels = (np.mean(pixels_count_list)/3) * 2"
   ],
   "outputs": [],
   "metadata": {}
  },
  {
   "cell_type": "code",
   "execution_count": 116,
   "source": [
    "good_date_list = []\r\n",
    "for (key, val) in date_value_dictionary.items():\r\n",
    "    if val > part_of_pixels:\r\n",
    "        good_date_list.append(key)\r\n",
    "        "
   ],
   "outputs": [],
   "metadata": {}
  },
  {
   "cell_type": "code",
   "execution_count": 119,
   "source": [
    "df  = NDVI.select(good_date_list)\r\n",
    "\r\n"
   ],
   "outputs": [
    {
     "output_type": "execute_result",
     "data": {
      "text/plain": [
       "{'type': 'Image',\n",
       " 'bands': [{'id': '2001-10-26',\n",
       "   'data_type': {'type': 'PixelType',\n",
       "    'precision': 'float',\n",
       "    'min': -1,\n",
       "    'max': 1},\n",
       "   'dimensions': [123, 134],\n",
       "   'origin': [4520, 3873],\n",
       "   'crs': 'EPSG:32638',\n",
       "   'crs_transform': [30, 0, 296685, 0, -30, 5050515]},\n",
       "  {'id': '2002-05-22',\n",
       "   'data_type': {'type': 'PixelType',\n",
       "    'precision': 'float',\n",
       "    'min': -1,\n",
       "    'max': 1},\n",
       "   'dimensions': [123, 134],\n",
       "   'origin': [4520, 3873],\n",
       "   'crs': 'EPSG:32638',\n",
       "   'crs_transform': [30, 0, 296685, 0, -30, 5050515]},\n",
       "  {'id': '2002-06-23',\n",
       "   'data_type': {'type': 'PixelType',\n",
       "    'precision': 'float',\n",
       "    'min': -1,\n",
       "    'max': 1},\n",
       "   'dimensions': [123, 134],\n",
       "   'origin': [4520, 3873],\n",
       "   'crs': 'EPSG:32638',\n",
       "   'crs_transform': [30, 0, 296685, 0, -30, 5050515]},\n",
       "  {'id': '2002-09-27',\n",
       "   'data_type': {'type': 'PixelType',\n",
       "    'precision': 'float',\n",
       "    'min': -1,\n",
       "    'max': 1},\n",
       "   'dimensions': [123, 134],\n",
       "   'origin': [4520, 3873],\n",
       "   'crs': 'EPSG:32638',\n",
       "   'crs_transform': [30, 0, 296685, 0, -30, 5050515]}]}"
      ]
     },
     "metadata": {},
     "execution_count": 119
    }
   ],
   "metadata": {}
  },
  {
   "cell_type": "code",
   "execution_count": null,
   "source": [],
   "outputs": [],
   "metadata": {}
  }
 ],
 "metadata": {
  "orig_nbformat": 4,
  "language_info": {
   "name": "python",
   "version": "3.6.13",
   "mimetype": "text/x-python",
   "codemirror_mode": {
    "name": "ipython",
    "version": 3
   },
   "pygments_lexer": "ipython3",
   "nbconvert_exporter": "python",
   "file_extension": ".py"
  },
  "kernelspec": {
   "name": "python3",
   "display_name": "Python 3.6.13 64-bit ('GIS3.6': conda)"
  },
  "interpreter": {
   "hash": "85920efa26795b81ae974cc3e921fa6f3e61da85cedce47b5b9a60ff06de3444"
  }
 },
 "nbformat": 4,
 "nbformat_minor": 2
}