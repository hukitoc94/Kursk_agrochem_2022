{
 "cells": [
  {
   "cell_type": "code",
   "execution_count": 1,
   "metadata": {},
   "outputs": [],
   "source": [
    "import pandas as pd \n",
    "import numpy as np \n",
    "import matplotlib.pyplot as plt \n",
    "import seaborn as sns\n",
    "\n",
    "import statsmodels.api as sm\n",
    "from statsmodels.multivariate.manova import MANOVA #мультфакторная анова\n",
    "from statsmodels.formula.api import ols #линейные модели \n",
    "\n",
    "from scipy.stats import f_oneway as ANOVA\n",
    "\n",
    "import scipy\n"
   ]
  },
  {
   "cell_type": "markdown",
   "metadata": {},
   "source": [
    "![alt text](map.jpg \"Схема GPS\")"
   ]
  },
  {
   "cell_type": "markdown",
   "metadata": {},
   "source": [
    "# Агрохимия "
   ]
  },
  {
   "cell_type": "code",
   "execution_count": 2,
   "metadata": {},
   "outputs": [
    {
     "data": {
      "text/plain": [
       "Index(['Год', 'GPS №', 'Тип обработки', 'Глубина', 'повторность',\n",
       "       'рН солевой вытяжки, ед. рН', 'рН водной вытяжки, ед. рН',\n",
       "       'Фосфор (подвижная форма), мг/кг', 'Калий (подвижная форма), млн-1',\n",
       "       'Общий азот, %', 'Общий углерод, %',\n",
       "       'М.д. содержания  гипса (по Хитрову), %',\n",
       "       'Массовая доля иона хлорида, ммоль/100 г',\n",
       "       'Массовая доля иона сульфата, ммоль/100 г',\n",
       "       'Массовая доля магния (водорастворимая форма), ммоль/100 г почвы',\n",
       "       'Массовая доля кальция (водорастворимая форма), ммоль/100 г почвы',\n",
       "       'Массовая доля натрия (водорастворимая форма), мг•экв на 100 г почвы',\n",
       "       'Массовая доля калия (водорастворимая форма), мг•экв на 100 г почвы',\n",
       "       'Сумма поглощенных оснований по Каппену, ммоль/100 г',\n",
       "       'Массовая доля плотного остатка водной вытяжки, %',\n",
       "       'Карбонат и бикарбонат-ионы, ммоль/100 г',\n",
       "       'Массовая доля общего содержания карбонатов (по Козловскому), % (CO2)',\n",
       "       'Массовая доля общего содержания карбонатов (по Козловскому), %(CaCO3)',\n",
       "       'Органический углерод, %'],\n",
       "      dtype='object')"
      ]
     },
     "execution_count": 2,
     "metadata": {},
     "output_type": "execute_result"
    }
   ],
   "source": [
    "agrochemistry_total = pd.read_csv('полевые данные общая/ready_data/агрохимия.csv')\n",
    "agrochemistry_total[\"Год\"] = agrochemistry_total[\"Год\"].astype(str)\n",
    "agrochemistry_total[\"GPS №\"] = agrochemistry_total[\"GPS №\"].astype(str)\n",
    "agrochemistry_total.columns"
   ]
  },
  {
   "cell_type": "code",
   "execution_count": 3,
   "metadata": {},
   "outputs": [],
   "source": [
    "agrochemistry_total[\"GPS №\"].unique()\n",
    "pp_points = [\"525\",\"526\",\"527\",\"528\",\"586\"]"
   ]
  },
  {
   "cell_type": "markdown",
   "metadata": {},
   "source": [
    "### Агрохимические показатели по пахатному горизонту"
   ]
  },
  {
   "cell_type": "code",
   "execution_count": 4,
   "metadata": {},
   "outputs": [],
   "source": [
    "agrochem_columns = ['Год', 'GPS №', 'Тип обработки', 'Глубина', 'повторность',\n",
    "       'рН солевой вытяжки, ед. рН', 'рН водной вытяжки, ед. рН',\n",
    "       'Фосфор (подвижная форма), мг/кг', 'Калий (подвижная форма), млн-1',\n",
    "       'Общий азот, %', 'Органический углерод, %']\n",
    "agrochemistry_main = agrochemistry_total[agrochemistry_total['Глубина'].isin(['0-10',\"10-20\",\"20-30\"])][agrochem_columns]\n"
   ]
  },
  {
   "cell_type": "code",
   "execution_count": 5,
   "metadata": {},
   "outputs": [],
   "source": [
    "\n",
    "def aov_for_nominal(df, agrochem_property):\n",
    "    \"\"\"\n",
    "    input - dataframe by agrochemical_proprerty\n",
    "    output - resul of MANOVA\n",
    "    \"\"\"\n",
    "    dispers = df.copy()\n",
    "    agrochem_property\n",
    "    dispers.columns = dispers.columns.str.replace(r'[\\(),.%№ /-]', '')\n",
    "    reg = ols('Органическийуглерод ~ Год + Глубина  +  Типобработки + GPS ' ,  data=dispers).fit()\n",
    "    aov = sm.stats.anova_lm(reg)\n",
    "    aov = aov[[\"PR(>F)\"]]\n",
    "    aov.columns = ['p-value']\n",
    "    aov = aov.iloc[:4,:]\n",
    "    aov['p-value'] = round(aov['p-value'] , 3)\n",
    "    return aov\n",
    "\n",
    "def anova(df, varible, agrochem_property):\n",
    "    stat_test_df = pd.DataFrame()\n",
    "    for ind,depth in enumerate(df[\"Глубина\"].unique()): \n",
    "        df_by_depth = df[df[\"Глубина\"] == depth]\n",
    "        sample_list = []\n",
    "        for value  in df[varible].unique():\n",
    "            sample = df_by_depth[agrochem_property][df[varible] == value].values\n",
    "            sample_list.append(sample) \n",
    "        \n",
    "        p_val = ANOVA(*sample_list)[1]\n",
    "        local_df = pd.DataFrame({\"глубина\":depth, 'p-value' : p_val}, index = [ind])\n",
    "        stat_test_df = stat_test_df.append(local_df)\n",
    "    stat_test_df[\"p-value\"] = round(stat_test_df[\"p-value\"],3)\n",
    "    return(stat_test_df)\n",
    "    \n",
    "def ploting( df, hue,  agrochem_property , aov ,stat_test_df, to_lable = \"по обработкам\" ):\n",
    "    fig = plt.figure(figsize=(7,7))\n",
    "    ax1 = plt.subplot2grid((3,2), (0, 0), colspan=2, rowspan = 2)\n",
    "    ax2 = plt.subplot2grid((3,2), (2, 0))\n",
    "    ax3 = plt.subplot2grid((3,2), (2, 1))\n",
    "\n",
    "    sns.pointplot(data = df,\n",
    "        x = \"Глубина\",\n",
    "        y = agrochem_property,\n",
    "        hue = hue,\n",
    "        pallet = 'Set1',\n",
    "        scale = 1.2,\n",
    "        ci = 95,\n",
    "        dodge= 0.5,\n",
    "        join = False,\n",
    "        capsize = .05,\n",
    "        ax = ax1)\n",
    "    ax1.set_title('Сравнение по {}'.format(to_lable))\n",
    "\n",
    "    ax2.axis('off')\n",
    "    ax2.axis('tight')\n",
    "    ax2.table(aov.values,rowLabels=aov.index , colLabels = aov.columns ,loc='center')\n",
    "    ax2.set_title('Дисперсионный анализ \\nпо {} (MANOVA)'.format(to_lable),  y=0.75 , x = 0.5)\n",
    "\n",
    "    ax3.axis('off')\n",
    "    ax3.axis('tight')\n",
    "    ax3.table(stat_test_df.values, colLabels = stat_test_df.columns ,loc='center')\n",
    "    ax3.set_title('Сравнение выборок \\nпо {} (ANOVA)'.format(to_lable),  y=0.75 , x = 0.5)\n",
    "    plt.show(block=True)\n",
    "    return fig \n",
    "\n",
    "def data_processing(df, type_ , agrochem_property , to_lable = \"1\" ):\n",
    "    stats_type = df.groupby([type_,'Глубина']).agg({ np.mean,  np.std, scipy.stats.variation})\n",
    "    features = ['Год', 'GPS №', 'Тип обработки', 'Глубина', 'повторность']\n",
    "    features.append(agrochem_property) #добавление фичи\n",
    "    df = agrochemistry_main[features]\n",
    "    stats = df.groupby([type_,'Глубина']).agg({ np.mean,  np.std, scipy.stats.variation})\n",
    "\n",
    "    aov = aov_for_nominal(df)\n",
    "    stat_test_df = anova(df, type_, agrochem_property)\n",
    "    fig = ploting(df, type_, agrochem_property, aov,stat_test_df,to_lable  )\n",
    "\n",
    "    return(stats , aov, stat_test_df,fig )\n"
   ]
  },
  {
   "cell_type": "markdown",
   "metadata": {},
   "source": [
    "#### отобрали данные"
   ]
  },
  {
   "cell_type": "code",
   "execution_count": 15,
   "metadata": {},
   "outputs": [
    {
     "data": {
      "text/plain": [
       "'Общий азот, %'"
      ]
     },
     "execution_count": 15,
     "metadata": {},
     "output_type": "execute_result"
    }
   ],
   "source": [
    "a = 'Общий азот, %'\n",
    "a.replace(r'[ ]', '')"
   ]
  },
  {
   "cell_type": "markdown",
   "metadata": {},
   "source": [
    "описательные статистики"
   ]
  },
  {
   "cell_type": "code",
   "execution_count": 239,
   "metadata": {},
   "outputs": [
    {
     "data": {
      "text/html": [
       "<div>\n",
       "<style scoped>\n",
       "    .dataframe tbody tr th:only-of-type {\n",
       "        vertical-align: middle;\n",
       "    }\n",
       "\n",
       "    .dataframe tbody tr th {\n",
       "        vertical-align: top;\n",
       "    }\n",
       "\n",
       "    .dataframe thead tr th {\n",
       "        text-align: left;\n",
       "    }\n",
       "</style>\n",
       "<table border=\"1\" class=\"dataframe\">\n",
       "  <thead>\n",
       "    <tr>\n",
       "      <th></th>\n",
       "      <th>GPS №</th>\n",
       "      <th>Глубина</th>\n",
       "      <th colspan=\"3\" halign=\"left\">Органический углерод, %</th>\n",
       "    </tr>\n",
       "    <tr>\n",
       "      <th></th>\n",
       "      <th></th>\n",
       "      <th></th>\n",
       "      <th>std</th>\n",
       "      <th>mean</th>\n",
       "      <th>variation</th>\n",
       "    </tr>\n",
       "  </thead>\n",
       "  <tbody>\n",
       "    <tr>\n",
       "      <th>0</th>\n",
       "      <td>525</td>\n",
       "      <td>0-10</td>\n",
       "      <td>0.156500</td>\n",
       "      <td>1.127491</td>\n",
       "      <td>0.124150</td>\n",
       "    </tr>\n",
       "    <tr>\n",
       "      <th>1</th>\n",
       "      <td>525</td>\n",
       "      <td>10-20</td>\n",
       "      <td>0.106397</td>\n",
       "      <td>1.050340</td>\n",
       "      <td>0.090603</td>\n",
       "    </tr>\n",
       "    <tr>\n",
       "      <th>2</th>\n",
       "      <td>525</td>\n",
       "      <td>20-30</td>\n",
       "      <td>0.185088</td>\n",
       "      <td>1.150560</td>\n",
       "      <td>0.143884</td>\n",
       "    </tr>\n",
       "    <tr>\n",
       "      <th>3</th>\n",
       "      <td>526</td>\n",
       "      <td>0-10</td>\n",
       "      <td>0.628614</td>\n",
       "      <td>0.942920</td>\n",
       "      <td>0.596285</td>\n",
       "    </tr>\n",
       "    <tr>\n",
       "      <th>4</th>\n",
       "      <td>526</td>\n",
       "      <td>10-20</td>\n",
       "      <td>0.530678</td>\n",
       "      <td>1.076960</td>\n",
       "      <td>0.440734</td>\n",
       "    </tr>\n",
       "    <tr>\n",
       "      <th>5</th>\n",
       "      <td>526</td>\n",
       "      <td>20-30</td>\n",
       "      <td>0.112353</td>\n",
       "      <td>1.054080</td>\n",
       "      <td>0.095336</td>\n",
       "    </tr>\n",
       "    <tr>\n",
       "      <th>6</th>\n",
       "      <td>527</td>\n",
       "      <td>0-10</td>\n",
       "      <td>0.905368</td>\n",
       "      <td>1.578800</td>\n",
       "      <td>0.512912</td>\n",
       "    </tr>\n",
       "    <tr>\n",
       "      <th>7</th>\n",
       "      <td>527</td>\n",
       "      <td>10-20</td>\n",
       "      <td>0.162072</td>\n",
       "      <td>1.263960</td>\n",
       "      <td>0.114688</td>\n",
       "    </tr>\n",
       "    <tr>\n",
       "      <th>8</th>\n",
       "      <td>527</td>\n",
       "      <td>20-30</td>\n",
       "      <td>0.095892</td>\n",
       "      <td>1.239960</td>\n",
       "      <td>0.069170</td>\n",
       "    </tr>\n",
       "    <tr>\n",
       "      <th>9</th>\n",
       "      <td>528</td>\n",
       "      <td>0-10</td>\n",
       "      <td>0.100986</td>\n",
       "      <td>1.213600</td>\n",
       "      <td>0.074427</td>\n",
       "    </tr>\n",
       "    <tr>\n",
       "      <th>10</th>\n",
       "      <td>528</td>\n",
       "      <td>10-20</td>\n",
       "      <td>0.150471</td>\n",
       "      <td>1.066940</td>\n",
       "      <td>0.126142</td>\n",
       "    </tr>\n",
       "    <tr>\n",
       "      <th>11</th>\n",
       "      <td>528</td>\n",
       "      <td>20-30</td>\n",
       "      <td>0.082270</td>\n",
       "      <td>1.167594</td>\n",
       "      <td>0.063022</td>\n",
       "    </tr>\n",
       "    <tr>\n",
       "      <th>12</th>\n",
       "      <td>586</td>\n",
       "      <td>0-10</td>\n",
       "      <td>0.242671</td>\n",
       "      <td>1.489880</td>\n",
       "      <td>0.145684</td>\n",
       "    </tr>\n",
       "    <tr>\n",
       "      <th>13</th>\n",
       "      <td>586</td>\n",
       "      <td>10-20</td>\n",
       "      <td>0.068942</td>\n",
       "      <td>1.003760</td>\n",
       "      <td>0.061433</td>\n",
       "    </tr>\n",
       "    <tr>\n",
       "      <th>14</th>\n",
       "      <td>586</td>\n",
       "      <td>20-30</td>\n",
       "      <td>0.349098</td>\n",
       "      <td>1.112120</td>\n",
       "      <td>0.280764</td>\n",
       "    </tr>\n",
       "  </tbody>\n",
       "</table>\n",
       "</div>"
      ],
      "text/plain": [
       "   GPS № Глубина Органический углерод, %                    \n",
       "                                     std      mean variation\n",
       "0    525    0-10                0.156500  1.127491  0.124150\n",
       "1    525   10-20                0.106397  1.050340  0.090603\n",
       "2    525   20-30                0.185088  1.150560  0.143884\n",
       "3    526    0-10                0.628614  0.942920  0.596285\n",
       "4    526   10-20                0.530678  1.076960  0.440734\n",
       "5    526   20-30                0.112353  1.054080  0.095336\n",
       "6    527    0-10                0.905368  1.578800  0.512912\n",
       "7    527   10-20                0.162072  1.263960  0.114688\n",
       "8    527   20-30                0.095892  1.239960  0.069170\n",
       "9    528    0-10                0.100986  1.213600  0.074427\n",
       "10   528   10-20                0.150471  1.066940  0.126142\n",
       "11   528   20-30                0.082270  1.167594  0.063022\n",
       "12   586    0-10                0.242671  1.489880  0.145684\n",
       "13   586   10-20                0.068942  1.003760  0.061433\n",
       "14   586   20-30                0.349098  1.112120  0.280764"
      ]
     },
     "execution_count": 239,
     "metadata": {},
     "output_type": "execute_result"
    }
   ],
   "source": [
    "stats_type = df.groupby(['Тип обработки','Глубина']).agg({ np.mean,  np.std, scipy.stats.variation})\n",
    "stats_gps = df[df['GPS №'].isin(pp_points)].groupby(['GPS №','Глубина']).agg({ np.mean,  np.std, scipy.stats.variation})\n",
    "#\"среднее\" 'стнд.откл'\"коэф вариации\"\n",
    "stats_gps.reset_index()"
   ]
  },
  {
   "cell_type": "markdown",
   "metadata": {},
   "source": [
    "дисперсионный анализ по по номинативным переменным"
   ]
  },
  {
   "cell_type": "code",
   "execution_count": 240,
   "metadata": {},
   "outputs": [],
   "source": [
    "dispers = df.copy()\n",
    "dispers.columns = dispers.columns.str.replace(r'[\\(),.%№ /-]', '')\n",
    "reg = ols('Органическийуглерод ~ Год + Глубина  +  Типобработки + GPS ' ,  data=dispers).fit()\n",
    "aov = sm.stats.anova_lm(reg)\n",
    "aov = aov[[\"PR(>F)\"]]\n",
    "aov.columns = ['p-value']\n",
    "aov = aov.iloc[:4,:]\n",
    "aov['p-value'] = round(aov['p-value'] , 4)\n",
    "\n",
    "\n",
    "\n"
   ]
  },
  {
   "cell_type": "markdown",
   "metadata": {},
   "source": [
    "T тест по выборкам"
   ]
  },
  {
   "cell_type": "code",
   "execution_count": 241,
   "metadata": {},
   "outputs": [],
   "source": [
    "stat_test_df = pd.DataFrame()\n",
    "for ind,depth in enumerate(df[\"Глубина\"].unique()) :\n",
    "    df_00_10 = df[df[\"Глубина\"] == depth]\n",
    "    a = df_00_10[\"Органический углерод, %\"][df['Тип обработки'] == 'ПП'].values\n",
    "    b = df_00_10[\"Органический углерод, %\"][df['Тип обработки'] == 'ТТ'].values\n",
    "    p_val = ANOVA(a,b)[1]\n",
    "    local_df = pd.DataFrame({\"глубина\":depth, 'p-value' : p_val}, index = [ind])\n",
    "    stat_test_df = stat_test_df.append(local_df)\n",
    "stat_test_df[\"p-value\"] = round(stat_test_df[\"p-value\"],3)\n"
   ]
  },
  {
   "cell_type": "code",
   "execution_count": 242,
   "metadata": {},
   "outputs": [
    {
     "data": {
      "text/plain": [
       "Text(0.5, 0.75, 'Сравнение выборок \\nпо обработкам (ANOVA)')"
      ]
     },
     "execution_count": 242,
     "metadata": {},
     "output_type": "execute_result"
    },
    {
     "data": {
      "image/png": "[encoded data removed]",
      "text/plain": [
       "<Figure size 504x504 with 3 Axes>"
      ]
     },
     "metadata": {
      "needs_background": "light"
     },
     "output_type": "display_data"
    }
   ],
   "source": [
    "fig = plt.figure(figsize=(7,7))\n",
    "ax1 = plt.subplot2grid((3,2), (0, 0), colspan=2, rowspan = 2)\n",
    "ax2 = plt.subplot2grid((3,2), (2, 0))\n",
    "ax3 = plt.subplot2grid((3,2), (2, 1))\n",
    "\n",
    "sns.pointplot(data = df,\n",
    "    x = \"Глубина\",\n",
    "    y = \"Органический углерод, %\",\n",
    "    hue = \"Тип обработки\",\n",
    "    palette = \"prism_r\",\n",
    "    scale = 1.2,\n",
    "    ci = 95,\n",
    "    dodge= 0.2,\n",
    "    join = False,\n",
    "    capsize = .05,\n",
    "    ax = ax1)\n",
    "ax1.set_title('Сравнение по типам обработки')\n",
    "\n",
    "ax2.axis('off')\n",
    "ax2.axis('tight')\n",
    "ax2.table(aov.values,rowLabels=aov.index , colLabels = aov.columns ,loc='center')\n",
    "ax2.set_title('Дисперсионный анализ \\nпо обработкам (MANOVA)',  y=0.75 , x = 0.5)\n",
    "\n",
    "ax3.axis('off')\n",
    "ax3.axis('tight')\n",
    "ax3.table(stat_test_df.values, colLabels = stat_test_df.columns ,loc='center')\n",
    "ax3.set_title('Сравнение выборок \\nпо обработкам (ANOVA)',  y=0.75 , x = 0.5)\n",
    "\n",
    "\n"
   ]
  },
  {
   "cell_type": "markdown",
   "metadata": {},
   "source": [
    "Собираем все в одно"
   ]
  },
  {
   "cell_type": "code",
   "execution_count": 279,
   "metadata": {},
   "outputs": [],
   "source": [
    "\n",
    "def aov_for_nominal(df):\n",
    "    \"\"\"\n",
    "    input - dataframe by agrochemical_proprerty\n",
    "    output - resul of MANOVA\n",
    "    \"\"\"\n",
    "    dispers = df.copy()\n",
    "    dispers.columns = dispers.columns.str.replace(r'[\\(),.%№ /-]', '')\n",
    "    reg = ols('Органическийуглерод ~ Год + Глубина  +  Типобработки + GPS ' ,  data=dispers).fit() # вот тут надо перекрутить этот момент не ясный как сделать аргумент без служебных символов \n",
    "    aov = sm.stats.anova_lm(reg)\n",
    "    aov = aov[[\"PR(>F)\"]]\n",
    "    aov.columns = ['p-value']\n",
    "    aov = aov.iloc[:4,:]\n",
    "    aov['p-value'] = round(aov['p-value'] , 3)\n",
    "    return aov\n",
    "\n",
    "def anova(df, varible):\n",
    "    stat_test_df = pd.DataFrame()\n",
    "    for ind,depth in enumerate(df[\"Глубина\"].unique()): \n",
    "        df_by_depth = df[df[\"Глубина\"] == depth]\n",
    "        sample_list = []\n",
    "        for value  in df[varible].unique():\n",
    "            sample = df_by_depth[\"Органический углерод, %\"][df[varible] == value].values\n",
    "            sample_list.append(sample) \n",
    "        \n",
    "        p_val = ANOVA(*sample_list)[1]\n",
    "        local_df = pd.DataFrame({\"глубина\":depth, 'p-value' : p_val}, index = [ind])\n",
    "        stat_test_df = stat_test_df.append(local_df)\n",
    "    stat_test_df[\"p-value\"] = round(stat_test_df[\"p-value\"],3)\n",
    "    return(stat_test_df)\n",
    "    \n",
    "def ploting( df, hue,  agrochem_property , aov ,stat_test_df, to_lable = \"по обработкам\" ):\n",
    "    fig = plt.figure(figsize=(7,7))\n",
    "    ax1 = plt.subplot2grid((3,2), (0, 0), colspan=2, rowspan = 2)\n",
    "    ax2 = plt.subplot2grid((3,2), (2, 0))\n",
    "    ax3 = plt.subplot2grid((3,2), (2, 1))\n",
    "\n",
    "    sns.pointplot(data = df,\n",
    "        x = \"Глубина\",\n",
    "        y = agrochem_property,\n",
    "        hue = hue,\n",
    "        pallet = 'Set1',\n",
    "        scale = 1.2,\n",
    "        ci = 95,\n",
    "        dodge= 0.5,\n",
    "        join = False,\n",
    "        capsize = .05,\n",
    "        ax = ax1)\n",
    "    ax1.set_title('Сравнение по {}'.format(to_lable))\n",
    "\n",
    "    ax2.axis('off')\n",
    "    ax2.axis('tight')\n",
    "    ax2.table(aov.values,rowLabels=aov.index , colLabels = aov.columns ,loc='center')\n",
    "    ax2.set_title('Дисперсионный анализ \\nпо {} (MANOVA)'.format(to_lable),  y=0.75 , x = 0.5)\n",
    "\n",
    "    ax3.axis('off')\n",
    "    ax3.axis('tight')\n",
    "    ax3.table(stat_test_df.values, colLabels = stat_test_df.columns ,loc='center')\n",
    "    ax3.set_title('Сравнение выборок \\nпо {} (ANOVA)'.format(to_lable),  y=0.75 , x = 0.5)\n",
    "    plt.show(block=True)\n",
    "    return fig \n",
    "\n",
    "def data_processing(df, type_ , agrochem_property , to_lable = \"1\" ):\n",
    "    stats_type = df.groupby([type_,'Глубина']).agg({ np.mean,  np.std, scipy.stats.variation})\n",
    "    features = ['Год', 'GPS №', 'Тип обработки', 'Глубина', 'повторность']\n",
    "    features.append(agrochem_property) #добавление фичи\n",
    "    df = agrochemistry_main[features]\n",
    "    stats = df.groupby([type_,'Глубина']).agg({ np.mean,  np.std, scipy.stats.variation})\n",
    "\n",
    "    aov = aov_for_nominal(df)\n",
    "    stat_test_df = anova(df, type_)\n",
    "    fig = ploting(df, type_, agrochem_property, aov,stat_test_df,to_lable  )\n",
    "\n",
    "    return(stats , aov, stat_test_df,fig )\n",
    "\n",
    "\n",
    "    "
   ]
  },
  {
   "cell_type": "markdown",
   "metadata": {},
   "source": [
    "понять почему все падает на моменте когда у нас данные по точкам"
   ]
  },
  {
   "cell_type": "code",
   "execution_count": null,
   "metadata": {},
   "outputs": [],
   "source": []
  },
  {
   "cell_type": "code",
   "execution_count": 280,
   "metadata": {},
   "outputs": [
    {
     "data": {
      "image/png": "[encoded data removed]",
      "text/plain": [
       "<Figure size 504x504 with 3 Axes>"
      ]
     },
     "metadata": {
      "needs_background": "light"
     },
     "output_type": "display_data"
    },
    {
     "data": {
      "text/plain": [
       "(                      Органический углерод, %                    \n",
       "                                           std      mean variation\n",
       " Тип обработки Глубина                                            \n",
       " ПП            0-10                   0.506985  1.350852  0.369577\n",
       "               10-20                  0.284810  1.178302  0.238022\n",
       "               20-30                  0.186345  1.144863  0.159478\n",
       " ТТ            0-10                   0.170553  1.238589  0.134381\n",
       "               10-20                  0.165052  1.218601  0.132179\n",
       "               20-30                  0.207144  1.078673  0.185524,\n",
       "               p-value\n",
       " Год             0.000\n",
       " Глубина         0.049\n",
       " Типобработки    0.595\n",
       " GPS             0.014,\n",
       "   глубина  p-value\n",
       " 0    0-10    0.333\n",
       " 1   10-20    0.559\n",
       " 2   20-30    0.303,\n",
       " <Figure size 504x504 with 3 Axes>)"
      ]
     },
     "execution_count": 280,
     "metadata": {},
     "output_type": "execute_result"
    }
   ],
   "source": [
    "data_processing(df = agrochemistry_main, type_ = 'Тип обработки', agrochem_property = \"Органический углерод, %\", to_lable = \"обработкам\")"
   ]
  },
  {
   "cell_type": "code",
   "execution_count": 281,
   "metadata": {},
   "outputs": [],
   "source": [
    "by_points = agrochemistry_main[agrochemistry_main[\"GPS №\"].isin(pp_points)]"
   ]
  },
  {
   "cell_type": "code",
   "execution_count": 17,
   "metadata": {},
   "outputs": [
    {
     "data": {
      "text/plain": [
       "'Органический углерод, %'"
      ]
     },
     "execution_count": 17,
     "metadata": {},
     "output_type": "execute_result"
    }
   ],
   "source": [
    "a = \"Органический углерод, %\"\n",
    "a = a.replace(r'[\\(),.%№ /-]', '')\n",
    "a"
   ]
  },
  {
   "cell_type": "code",
   "execution_count": 283,
   "metadata": {},
   "outputs": [
    {
     "name": "stderr",
     "output_type": "stream",
     "text": [
      "C:\\Users\\User\\Anaconda3\\envs\\gee\\lib\\site-packages\\scipy\\stats\\stats.py:3680: F_onewayBadInputSizesWarning: at least one input has length 0\n",
      "  warnings.warn(F_onewayBadInputSizesWarning('at least one input '\n"
     ]
    },
    {
     "ename": "ValueError",
     "evalue": "Invalid RGBA argument: 0.21538975947324868",
     "output_type": "error",
     "traceback": [
      "\u001b[1;31m---------------------------------------------------------------------------\u001b[0m",
      "\u001b[1;31mValueError\u001b[0m                                Traceback (most recent call last)",
      "\u001b[1;32m<ipython-input-283-e2b78cd5a0ce>\u001b[0m in \u001b[0;36m<module>\u001b[1;34m\u001b[0m\n\u001b[1;32m----> 1\u001b[1;33m \u001b[0mdata_processing\u001b[0m\u001b[1;33m(\u001b[0m\u001b[0mdf\u001b[0m \u001b[1;33m=\u001b[0m \u001b[0mby_points\u001b[0m\u001b[1;33m,\u001b[0m \u001b[0mtype_\u001b[0m \u001b[1;33m=\u001b[0m \u001b[1;34m\"GPS №\"\u001b[0m\u001b[1;33m,\u001b[0m \u001b[0magrochem_property\u001b[0m \u001b[1;33m=\u001b[0m \u001b[1;34m\"Органический углерод, %\"\u001b[0m\u001b[1;33m,\u001b[0m \u001b[0mto_lable\u001b[0m \u001b[1;33m=\u001b[0m \u001b[1;34m\"обработкам\"\u001b[0m\u001b[1;33m)\u001b[0m\u001b[1;33m\u001b[0m\u001b[1;33m\u001b[0m\u001b[0m\n\u001b[0m",
      "\u001b[1;32m<ipython-input-279-44033954df2e>\u001b[0m in \u001b[0;36mdata_processing\u001b[1;34m(df, type_, agrochem_property, to_lable)\u001b[0m\n\u001b[0;32m     69\u001b[0m     \u001b[0maov\u001b[0m \u001b[1;33m=\u001b[0m \u001b[0maov_for_nominal\u001b[0m\u001b[1;33m(\u001b[0m\u001b[0mdf\u001b[0m\u001b[1;33m)\u001b[0m\u001b[1;33m\u001b[0m\u001b[1;33m\u001b[0m\u001b[0m\n\u001b[0;32m     70\u001b[0m     \u001b[0mstat_test_df\u001b[0m \u001b[1;33m=\u001b[0m \u001b[0manova\u001b[0m\u001b[1;33m(\u001b[0m\u001b[0mdf\u001b[0m\u001b[1;33m,\u001b[0m \u001b[0mtype_\u001b[0m\u001b[1;33m)\u001b[0m\u001b[1;33m\u001b[0m\u001b[1;33m\u001b[0m\u001b[0m\n\u001b[1;32m---> 71\u001b[1;33m     \u001b[0mfig\u001b[0m \u001b[1;33m=\u001b[0m \u001b[0mploting\u001b[0m\u001b[1;33m(\u001b[0m\u001b[0mdf\u001b[0m\u001b[1;33m,\u001b[0m \u001b[0mtype_\u001b[0m\u001b[1;33m,\u001b[0m \u001b[0magrochem_property\u001b[0m\u001b[1;33m,\u001b[0m \u001b[0maov\u001b[0m\u001b[1;33m,\u001b[0m\u001b[0mstat_test_df\u001b[0m\u001b[1;33m,\u001b[0m\u001b[0mto_lable\u001b[0m  \u001b[1;33m)\u001b[0m\u001b[1;33m\u001b[0m\u001b[1;33m\u001b[0m\u001b[0m\n\u001b[0m\u001b[0;32m     72\u001b[0m \u001b[1;33m\u001b[0m\u001b[0m\n\u001b[0;32m     73\u001b[0m     \u001b[1;32mreturn\u001b[0m\u001b[1;33m(\u001b[0m\u001b[0mstats\u001b[0m \u001b[1;33m,\u001b[0m \u001b[0maov\u001b[0m\u001b[1;33m,\u001b[0m \u001b[0mstat_test_df\u001b[0m\u001b[1;33m,\u001b[0m\u001b[0mfig\u001b[0m \u001b[1;33m)\u001b[0m\u001b[1;33m\u001b[0m\u001b[1;33m\u001b[0m\u001b[0m\n",
      "\u001b[1;32m<ipython-input-279-44033954df2e>\u001b[0m in \u001b[0;36mploting\u001b[1;34m(df, hue, agrochem_property, aov, stat_test_df, to_lable)\u001b[0m\n\u001b[0;32m     35\u001b[0m     \u001b[0max3\u001b[0m \u001b[1;33m=\u001b[0m \u001b[0mplt\u001b[0m\u001b[1;33m.\u001b[0m\u001b[0msubplot2grid\u001b[0m\u001b[1;33m(\u001b[0m\u001b[1;33m(\u001b[0m\u001b[1;36m3\u001b[0m\u001b[1;33m,\u001b[0m\u001b[1;36m2\u001b[0m\u001b[1;33m)\u001b[0m\u001b[1;33m,\u001b[0m \u001b[1;33m(\u001b[0m\u001b[1;36m2\u001b[0m\u001b[1;33m,\u001b[0m \u001b[1;36m1\u001b[0m\u001b[1;33m)\u001b[0m\u001b[1;33m)\u001b[0m\u001b[1;33m\u001b[0m\u001b[1;33m\u001b[0m\u001b[0m\n\u001b[0;32m     36\u001b[0m \u001b[1;33m\u001b[0m\u001b[0m\n\u001b[1;32m---> 37\u001b[1;33m     sns.pointplot(data = df,\n\u001b[0m\u001b[0;32m     38\u001b[0m         \u001b[0mx\u001b[0m \u001b[1;33m=\u001b[0m \u001b[1;34m\"Глубина\"\u001b[0m\u001b[1;33m,\u001b[0m\u001b[1;33m\u001b[0m\u001b[1;33m\u001b[0m\u001b[0m\n\u001b[0;32m     39\u001b[0m         \u001b[0my\u001b[0m \u001b[1;33m=\u001b[0m \u001b[0magrochem_property\u001b[0m\u001b[1;33m,\u001b[0m\u001b[1;33m\u001b[0m\u001b[1;33m\u001b[0m\u001b[0m\n",
      "\u001b[1;32m~\\Anaconda3\\envs\\gee\\lib\\site-packages\\seaborn\\_decorators.py\u001b[0m in \u001b[0;36minner_f\u001b[1;34m(*args, **kwargs)\u001b[0m\n\u001b[0;32m     44\u001b[0m             )\n\u001b[0;32m     45\u001b[0m         \u001b[0mkwargs\u001b[0m\u001b[1;33m.\u001b[0m\u001b[0mupdate\u001b[0m\u001b[1;33m(\u001b[0m\u001b[1;33m{\u001b[0m\u001b[0mk\u001b[0m\u001b[1;33m:\u001b[0m \u001b[0marg\u001b[0m \u001b[1;32mfor\u001b[0m \u001b[0mk\u001b[0m\u001b[1;33m,\u001b[0m \u001b[0marg\u001b[0m \u001b[1;32min\u001b[0m \u001b[0mzip\u001b[0m\u001b[1;33m(\u001b[0m\u001b[0msig\u001b[0m\u001b[1;33m.\u001b[0m\u001b[0mparameters\u001b[0m\u001b[1;33m,\u001b[0m \u001b[0margs\u001b[0m\u001b[1;33m)\u001b[0m\u001b[1;33m}\u001b[0m\u001b[1;33m)\u001b[0m\u001b[1;33m\u001b[0m\u001b[1;33m\u001b[0m\u001b[0m\n\u001b[1;32m---> 46\u001b[1;33m         \u001b[1;32mreturn\u001b[0m \u001b[0mf\u001b[0m\u001b[1;33m(\u001b[0m\u001b[1;33m**\u001b[0m\u001b[0mkwargs\u001b[0m\u001b[1;33m)\u001b[0m\u001b[1;33m\u001b[0m\u001b[1;33m\u001b[0m\u001b[0m\n\u001b[0m\u001b[0;32m     47\u001b[0m     \u001b[1;32mreturn\u001b[0m \u001b[0minner_f\u001b[0m\u001b[1;33m\u001b[0m\u001b[1;33m\u001b[0m\u001b[0m\n\u001b[0;32m     48\u001b[0m \u001b[1;33m\u001b[0m\u001b[0m\n",
      "\u001b[1;32m~\\Anaconda3\\envs\\gee\\lib\\site-packages\\seaborn\\categorical.py\u001b[0m in \u001b[0;36mpointplot\u001b[1;34m(x, y, hue, data, order, hue_order, estimator, ci, n_boot, units, seed, markers, linestyles, dodge, join, scale, orient, color, palette, errwidth, capsize, ax, **kwargs)\u001b[0m\n\u001b[0;32m   3378\u001b[0m         \u001b[0max\u001b[0m \u001b[1;33m=\u001b[0m \u001b[0mplt\u001b[0m\u001b[1;33m.\u001b[0m\u001b[0mgca\u001b[0m\u001b[1;33m(\u001b[0m\u001b[1;33m)\u001b[0m\u001b[1;33m\u001b[0m\u001b[1;33m\u001b[0m\u001b[0m\n\u001b[0;32m   3379\u001b[0m \u001b[1;33m\u001b[0m\u001b[0m\n\u001b[1;32m-> 3380\u001b[1;33m     \u001b[0mplotter\u001b[0m\u001b[1;33m.\u001b[0m\u001b[0mplot\u001b[0m\u001b[1;33m(\u001b[0m\u001b[0max\u001b[0m\u001b[1;33m)\u001b[0m\u001b[1;33m\u001b[0m\u001b[1;33m\u001b[0m\u001b[0m\n\u001b[0m\u001b[0;32m   3381\u001b[0m     \u001b[1;32mreturn\u001b[0m \u001b[0max\u001b[0m\u001b[1;33m\u001b[0m\u001b[1;33m\u001b[0m\u001b[0m\n\u001b[0;32m   3382\u001b[0m \u001b[1;33m\u001b[0m\u001b[0m\n",
      "\u001b[1;32m~\\Anaconda3\\envs\\gee\\lib\\site-packages\\seaborn\\categorical.py\u001b[0m in \u001b[0;36mplot\u001b[1;34m(self, ax)\u001b[0m\n\u001b[0;32m   1786\u001b[0m     \u001b[1;32mdef\u001b[0m \u001b[0mplot\u001b[0m\u001b[1;33m(\u001b[0m\u001b[0mself\u001b[0m\u001b[1;33m,\u001b[0m \u001b[0max\u001b[0m\u001b[1;33m)\u001b[0m\u001b[1;33m:\u001b[0m\u001b[1;33m\u001b[0m\u001b[1;33m\u001b[0m\u001b[0m\n\u001b[0;32m   1787\u001b[0m         \u001b[1;34m\"\"\"Make the plot.\"\"\"\u001b[0m\u001b[1;33m\u001b[0m\u001b[1;33m\u001b[0m\u001b[0m\n\u001b[1;32m-> 1788\u001b[1;33m         \u001b[0mself\u001b[0m\u001b[1;33m.\u001b[0m\u001b[0mdraw_points\u001b[0m\u001b[1;33m(\u001b[0m\u001b[0max\u001b[0m\u001b[1;33m)\u001b[0m\u001b[1;33m\u001b[0m\u001b[1;33m\u001b[0m\u001b[0m\n\u001b[0m\u001b[0;32m   1789\u001b[0m         \u001b[0mself\u001b[0m\u001b[1;33m.\u001b[0m\u001b[0mannotate_axes\u001b[0m\u001b[1;33m(\u001b[0m\u001b[0max\u001b[0m\u001b[1;33m)\u001b[0m\u001b[1;33m\u001b[0m\u001b[1;33m\u001b[0m\u001b[0m\n\u001b[0;32m   1790\u001b[0m         \u001b[1;32mif\u001b[0m \u001b[0mself\u001b[0m\u001b[1;33m.\u001b[0m\u001b[0morient\u001b[0m \u001b[1;33m==\u001b[0m \u001b[1;34m\"h\"\u001b[0m\u001b[1;33m:\u001b[0m\u001b[1;33m\u001b[0m\u001b[1;33m\u001b[0m\u001b[0m\n",
      "\u001b[1;32m~\\Anaconda3\\envs\\gee\\lib\\site-packages\\seaborn\\categorical.py\u001b[0m in \u001b[0;36mdraw_points\u001b[1;34m(self, ax)\u001b[0m\n\u001b[0;32m   1779\u001b[0m                     \u001b[0mx\u001b[0m \u001b[1;33m=\u001b[0m \u001b[0my\u001b[0m \u001b[1;33m=\u001b[0m \u001b[1;33m[\u001b[0m\u001b[0mnp\u001b[0m\u001b[1;33m.\u001b[0m\u001b[0mnan\u001b[0m\u001b[1;33m]\u001b[0m \u001b[1;33m*\u001b[0m \u001b[0mn_points\u001b[0m\u001b[1;33m\u001b[0m\u001b[1;33m\u001b[0m\u001b[0m\n\u001b[0;32m   1780\u001b[0m \u001b[1;33m\u001b[0m\u001b[0m\n\u001b[1;32m-> 1781\u001b[1;33m                 ax.scatter(x, y, label=hue_level,\n\u001b[0m\u001b[0;32m   1782\u001b[0m                            \u001b[0mfacecolor\u001b[0m\u001b[1;33m=\u001b[0m\u001b[0mcolor\u001b[0m\u001b[1;33m,\u001b[0m \u001b[0medgecolor\u001b[0m\u001b[1;33m=\u001b[0m\u001b[0mcolor\u001b[0m\u001b[1;33m,\u001b[0m\u001b[1;33m\u001b[0m\u001b[1;33m\u001b[0m\u001b[0m\n\u001b[0;32m   1783\u001b[0m                            \u001b[0mlinewidth\u001b[0m\u001b[1;33m=\u001b[0m\u001b[0mmew\u001b[0m\u001b[1;33m,\u001b[0m \u001b[0mmarker\u001b[0m\u001b[1;33m=\u001b[0m\u001b[0mmarker\u001b[0m\u001b[1;33m,\u001b[0m \u001b[0ms\u001b[0m\u001b[1;33m=\u001b[0m\u001b[0mmarkersize\u001b[0m\u001b[1;33m,\u001b[0m\u001b[1;33m\u001b[0m\u001b[1;33m\u001b[0m\u001b[0m\n",
      "\u001b[1;32m~\\Anaconda3\\envs\\gee\\lib\\site-packages\\matplotlib\\__init__.py\u001b[0m in \u001b[0;36minner\u001b[1;34m(ax, data, *args, **kwargs)\u001b[0m\n\u001b[0;32m   1445\u001b[0m     \u001b[1;32mdef\u001b[0m \u001b[0minner\u001b[0m\u001b[1;33m(\u001b[0m\u001b[0max\u001b[0m\u001b[1;33m,\u001b[0m \u001b[1;33m*\u001b[0m\u001b[0margs\u001b[0m\u001b[1;33m,\u001b[0m \u001b[0mdata\u001b[0m\u001b[1;33m=\u001b[0m\u001b[1;32mNone\u001b[0m\u001b[1;33m,\u001b[0m \u001b[1;33m**\u001b[0m\u001b[0mkwargs\u001b[0m\u001b[1;33m)\u001b[0m\u001b[1;33m:\u001b[0m\u001b[1;33m\u001b[0m\u001b[1;33m\u001b[0m\u001b[0m\n\u001b[0;32m   1446\u001b[0m         \u001b[1;32mif\u001b[0m \u001b[0mdata\u001b[0m \u001b[1;32mis\u001b[0m \u001b[1;32mNone\u001b[0m\u001b[1;33m:\u001b[0m\u001b[1;33m\u001b[0m\u001b[1;33m\u001b[0m\u001b[0m\n\u001b[1;32m-> 1447\u001b[1;33m             \u001b[1;32mreturn\u001b[0m \u001b[0mfunc\u001b[0m\u001b[1;33m(\u001b[0m\u001b[0max\u001b[0m\u001b[1;33m,\u001b[0m \u001b[1;33m*\u001b[0m\u001b[0mmap\u001b[0m\u001b[1;33m(\u001b[0m\u001b[0msanitize_sequence\u001b[0m\u001b[1;33m,\u001b[0m \u001b[0margs\u001b[0m\u001b[1;33m)\u001b[0m\u001b[1;33m,\u001b[0m \u001b[1;33m**\u001b[0m\u001b[0mkwargs\u001b[0m\u001b[1;33m)\u001b[0m\u001b[1;33m\u001b[0m\u001b[1;33m\u001b[0m\u001b[0m\n\u001b[0m\u001b[0;32m   1448\u001b[0m \u001b[1;33m\u001b[0m\u001b[0m\n\u001b[0;32m   1449\u001b[0m         \u001b[0mbound\u001b[0m \u001b[1;33m=\u001b[0m \u001b[0mnew_sig\u001b[0m\u001b[1;33m.\u001b[0m\u001b[0mbind\u001b[0m\u001b[1;33m(\u001b[0m\u001b[0max\u001b[0m\u001b[1;33m,\u001b[0m \u001b[1;33m*\u001b[0m\u001b[0margs\u001b[0m\u001b[1;33m,\u001b[0m \u001b[1;33m**\u001b[0m\u001b[0mkwargs\u001b[0m\u001b[1;33m)\u001b[0m\u001b[1;33m\u001b[0m\u001b[1;33m\u001b[0m\u001b[0m\n",
      "\u001b[1;32m~\\Anaconda3\\envs\\gee\\lib\\site-packages\\matplotlib\\cbook\\deprecation.py\u001b[0m in \u001b[0;36mwrapper\u001b[1;34m(*inner_args, **inner_kwargs)\u001b[0m\n\u001b[0;32m    409\u001b[0m                          \u001b[1;32melse\u001b[0m \u001b[0mdeprecation_addendum\u001b[0m\u001b[1;33m,\u001b[0m\u001b[1;33m\u001b[0m\u001b[1;33m\u001b[0m\u001b[0m\n\u001b[0;32m    410\u001b[0m                 **kwargs)\n\u001b[1;32m--> 411\u001b[1;33m         \u001b[1;32mreturn\u001b[0m \u001b[0mfunc\u001b[0m\u001b[1;33m(\u001b[0m\u001b[1;33m*\u001b[0m\u001b[0minner_args\u001b[0m\u001b[1;33m,\u001b[0m \u001b[1;33m**\u001b[0m\u001b[0minner_kwargs\u001b[0m\u001b[1;33m)\u001b[0m\u001b[1;33m\u001b[0m\u001b[1;33m\u001b[0m\u001b[0m\n\u001b[0m\u001b[0;32m    412\u001b[0m \u001b[1;33m\u001b[0m\u001b[0m\n\u001b[0;32m    413\u001b[0m     \u001b[1;32mreturn\u001b[0m \u001b[0mwrapper\u001b[0m\u001b[1;33m\u001b[0m\u001b[1;33m\u001b[0m\u001b[0m\n",
      "\u001b[1;32m~\\Anaconda3\\envs\\gee\\lib\\site-packages\\matplotlib\\axes\\_axes.py\u001b[0m in \u001b[0;36mscatter\u001b[1;34m(self, x, y, s, c, marker, cmap, norm, vmin, vmax, alpha, linewidths, verts, edgecolors, plotnonfinite, **kwargs)\u001b[0m\n\u001b[0;32m   4486\u001b[0m         \u001b[0moffsets\u001b[0m \u001b[1;33m=\u001b[0m \u001b[0mnp\u001b[0m\u001b[1;33m.\u001b[0m\u001b[0mma\u001b[0m\u001b[1;33m.\u001b[0m\u001b[0mcolumn_stack\u001b[0m\u001b[1;33m(\u001b[0m\u001b[1;33m[\u001b[0m\u001b[0mx\u001b[0m\u001b[1;33m,\u001b[0m \u001b[0my\u001b[0m\u001b[1;33m]\u001b[0m\u001b[1;33m)\u001b[0m\u001b[1;33m\u001b[0m\u001b[1;33m\u001b[0m\u001b[0m\n\u001b[0;32m   4487\u001b[0m \u001b[1;33m\u001b[0m\u001b[0m\n\u001b[1;32m-> 4488\u001b[1;33m         collection = mcoll.PathCollection(\n\u001b[0m\u001b[0;32m   4489\u001b[0m                 \u001b[1;33m(\u001b[0m\u001b[0mpath\u001b[0m\u001b[1;33m,\u001b[0m\u001b[1;33m)\u001b[0m\u001b[1;33m,\u001b[0m \u001b[0mscales\u001b[0m\u001b[1;33m,\u001b[0m\u001b[1;33m\u001b[0m\u001b[1;33m\u001b[0m\u001b[0m\n\u001b[0;32m   4490\u001b[0m                 \u001b[0mfacecolors\u001b[0m\u001b[1;33m=\u001b[0m\u001b[0mcolors\u001b[0m\u001b[1;33m,\u001b[0m\u001b[1;33m\u001b[0m\u001b[1;33m\u001b[0m\u001b[0m\n",
      "\u001b[1;32m~\\Anaconda3\\envs\\gee\\lib\\site-packages\\matplotlib\\collections.py\u001b[0m in \u001b[0;36m__init__\u001b[1;34m(self, paths, sizes, **kwargs)\u001b[0m\n\u001b[0;32m    951\u001b[0m         \"\"\"\n\u001b[0;32m    952\u001b[0m \u001b[1;33m\u001b[0m\u001b[0m\n\u001b[1;32m--> 953\u001b[1;33m         \u001b[0msuper\u001b[0m\u001b[1;33m(\u001b[0m\u001b[1;33m)\u001b[0m\u001b[1;33m.\u001b[0m\u001b[0m__init__\u001b[0m\u001b[1;33m(\u001b[0m\u001b[1;33m**\u001b[0m\u001b[0mkwargs\u001b[0m\u001b[1;33m)\u001b[0m\u001b[1;33m\u001b[0m\u001b[1;33m\u001b[0m\u001b[0m\n\u001b[0m\u001b[0;32m    954\u001b[0m         \u001b[0mself\u001b[0m\u001b[1;33m.\u001b[0m\u001b[0mset_paths\u001b[0m\u001b[1;33m(\u001b[0m\u001b[0mpaths\u001b[0m\u001b[1;33m)\u001b[0m\u001b[1;33m\u001b[0m\u001b[1;33m\u001b[0m\u001b[0m\n\u001b[0;32m    955\u001b[0m         \u001b[0mself\u001b[0m\u001b[1;33m.\u001b[0m\u001b[0mset_sizes\u001b[0m\u001b[1;33m(\u001b[0m\u001b[0msizes\u001b[0m\u001b[1;33m)\u001b[0m\u001b[1;33m\u001b[0m\u001b[1;33m\u001b[0m\u001b[0m\n",
      "\u001b[1;32m~\\Anaconda3\\envs\\gee\\lib\\site-packages\\matplotlib\\cbook\\deprecation.py\u001b[0m in \u001b[0;36mwrapper\u001b[1;34m(*inner_args, **inner_kwargs)\u001b[0m\n\u001b[0;32m    409\u001b[0m                          \u001b[1;32melse\u001b[0m \u001b[0mdeprecation_addendum\u001b[0m\u001b[1;33m,\u001b[0m\u001b[1;33m\u001b[0m\u001b[1;33m\u001b[0m\u001b[0m\n\u001b[0;32m    410\u001b[0m                 **kwargs)\n\u001b[1;32m--> 411\u001b[1;33m         \u001b[1;32mreturn\u001b[0m \u001b[0mfunc\u001b[0m\u001b[1;33m(\u001b[0m\u001b[1;33m*\u001b[0m\u001b[0minner_args\u001b[0m\u001b[1;33m,\u001b[0m \u001b[1;33m**\u001b[0m\u001b[0minner_kwargs\u001b[0m\u001b[1;33m)\u001b[0m\u001b[1;33m\u001b[0m\u001b[1;33m\u001b[0m\u001b[0m\n\u001b[0m\u001b[0;32m    412\u001b[0m \u001b[1;33m\u001b[0m\u001b[0m\n\u001b[0;32m    413\u001b[0m     \u001b[1;32mreturn\u001b[0m \u001b[0mwrapper\u001b[0m\u001b[1;33m\u001b[0m\u001b[1;33m\u001b[0m\u001b[0m\n",
      "\u001b[1;32m~\\Anaconda3\\envs\\gee\\lib\\site-packages\\matplotlib\\collections.py\u001b[0m in \u001b[0;36m__init__\u001b[1;34m(self, edgecolors, facecolors, linewidths, linestyles, capstyle, joinstyle, antialiaseds, offsets, transOffset, norm, cmap, pickradius, hatch, urls, offset_position, zorder, **kwargs)\u001b[0m\n\u001b[0;32m    173\u001b[0m         \u001b[0mself\u001b[0m\u001b[1;33m.\u001b[0m\u001b[0m_hatch_color\u001b[0m \u001b[1;33m=\u001b[0m \u001b[0mmcolors\u001b[0m\u001b[1;33m.\u001b[0m\u001b[0mto_rgba\u001b[0m\u001b[1;33m(\u001b[0m\u001b[0mmpl\u001b[0m\u001b[1;33m.\u001b[0m\u001b[0mrcParams\u001b[0m\u001b[1;33m[\u001b[0m\u001b[1;34m'hatch.color'\u001b[0m\u001b[1;33m]\u001b[0m\u001b[1;33m)\u001b[0m\u001b[1;33m\u001b[0m\u001b[1;33m\u001b[0m\u001b[0m\n\u001b[0;32m    174\u001b[0m         \u001b[0mself\u001b[0m\u001b[1;33m.\u001b[0m\u001b[0mset_facecolor\u001b[0m\u001b[1;33m(\u001b[0m\u001b[0mfacecolors\u001b[0m\u001b[1;33m)\u001b[0m\u001b[1;33m\u001b[0m\u001b[1;33m\u001b[0m\u001b[0m\n\u001b[1;32m--> 175\u001b[1;33m         \u001b[0mself\u001b[0m\u001b[1;33m.\u001b[0m\u001b[0mset_edgecolor\u001b[0m\u001b[1;33m(\u001b[0m\u001b[0medgecolors\u001b[0m\u001b[1;33m)\u001b[0m\u001b[1;33m\u001b[0m\u001b[1;33m\u001b[0m\u001b[0m\n\u001b[0m\u001b[0;32m    176\u001b[0m         \u001b[0mself\u001b[0m\u001b[1;33m.\u001b[0m\u001b[0mset_linewidth\u001b[0m\u001b[1;33m(\u001b[0m\u001b[0mlinewidths\u001b[0m\u001b[1;33m)\u001b[0m\u001b[1;33m\u001b[0m\u001b[1;33m\u001b[0m\u001b[0m\n\u001b[0;32m    177\u001b[0m         \u001b[0mself\u001b[0m\u001b[1;33m.\u001b[0m\u001b[0mset_linestyle\u001b[0m\u001b[1;33m(\u001b[0m\u001b[0mlinestyles\u001b[0m\u001b[1;33m)\u001b[0m\u001b[1;33m\u001b[0m\u001b[1;33m\u001b[0m\u001b[0m\n",
      "\u001b[1;32m~\\Anaconda3\\envs\\gee\\lib\\site-packages\\matplotlib\\collections.py\u001b[0m in \u001b[0;36mset_edgecolor\u001b[1;34m(self, c)\u001b[0m\n\u001b[0;32m    828\u001b[0m         \"\"\"\n\u001b[0;32m    829\u001b[0m         \u001b[0mself\u001b[0m\u001b[1;33m.\u001b[0m\u001b[0m_original_edgecolor\u001b[0m \u001b[1;33m=\u001b[0m \u001b[0mc\u001b[0m\u001b[1;33m\u001b[0m\u001b[1;33m\u001b[0m\u001b[0m\n\u001b[1;32m--> 830\u001b[1;33m         \u001b[0mself\u001b[0m\u001b[1;33m.\u001b[0m\u001b[0m_set_edgecolor\u001b[0m\u001b[1;33m(\u001b[0m\u001b[0mc\u001b[0m\u001b[1;33m)\u001b[0m\u001b[1;33m\u001b[0m\u001b[1;33m\u001b[0m\u001b[0m\n\u001b[0m\u001b[0;32m    831\u001b[0m \u001b[1;33m\u001b[0m\u001b[0m\n\u001b[0;32m    832\u001b[0m     \u001b[1;32mdef\u001b[0m \u001b[0mset_alpha\u001b[0m\u001b[1;33m(\u001b[0m\u001b[0mself\u001b[0m\u001b[1;33m,\u001b[0m \u001b[0malpha\u001b[0m\u001b[1;33m)\u001b[0m\u001b[1;33m:\u001b[0m\u001b[1;33m\u001b[0m\u001b[1;33m\u001b[0m\u001b[0m\n",
      "\u001b[1;32m~\\Anaconda3\\envs\\gee\\lib\\site-packages\\matplotlib\\collections.py\u001b[0m in \u001b[0;36m_set_edgecolor\u001b[1;34m(self, c)\u001b[0m\n\u001b[0;32m    812\u001b[0m         \u001b[1;32mexcept\u001b[0m \u001b[0mAttributeError\u001b[0m\u001b[1;33m:\u001b[0m\u001b[1;33m\u001b[0m\u001b[1;33m\u001b[0m\u001b[0m\n\u001b[0;32m    813\u001b[0m             \u001b[1;32mpass\u001b[0m\u001b[1;33m\u001b[0m\u001b[1;33m\u001b[0m\u001b[0m\n\u001b[1;32m--> 814\u001b[1;33m         \u001b[0mself\u001b[0m\u001b[1;33m.\u001b[0m\u001b[0m_edgecolors\u001b[0m \u001b[1;33m=\u001b[0m \u001b[0mmcolors\u001b[0m\u001b[1;33m.\u001b[0m\u001b[0mto_rgba_array\u001b[0m\u001b[1;33m(\u001b[0m\u001b[0mc\u001b[0m\u001b[1;33m,\u001b[0m \u001b[0mself\u001b[0m\u001b[1;33m.\u001b[0m\u001b[0m_alpha\u001b[0m\u001b[1;33m)\u001b[0m\u001b[1;33m\u001b[0m\u001b[1;33m\u001b[0m\u001b[0m\n\u001b[0m\u001b[0;32m    815\u001b[0m         \u001b[1;32mif\u001b[0m \u001b[0mset_hatch_color\u001b[0m \u001b[1;32mand\u001b[0m \u001b[0mlen\u001b[0m\u001b[1;33m(\u001b[0m\u001b[0mself\u001b[0m\u001b[1;33m.\u001b[0m\u001b[0m_edgecolors\u001b[0m\u001b[1;33m)\u001b[0m\u001b[1;33m:\u001b[0m\u001b[1;33m\u001b[0m\u001b[1;33m\u001b[0m\u001b[0m\n\u001b[0;32m    816\u001b[0m             \u001b[0mself\u001b[0m\u001b[1;33m.\u001b[0m\u001b[0m_hatch_color\u001b[0m \u001b[1;33m=\u001b[0m \u001b[0mtuple\u001b[0m\u001b[1;33m(\u001b[0m\u001b[0mself\u001b[0m\u001b[1;33m.\u001b[0m\u001b[0m_edgecolors\u001b[0m\u001b[1;33m[\u001b[0m\u001b[1;36m0\u001b[0m\u001b[1;33m]\u001b[0m\u001b[1;33m)\u001b[0m\u001b[1;33m\u001b[0m\u001b[1;33m\u001b[0m\u001b[0m\n",
      "\u001b[1;32m~\\Anaconda3\\envs\\gee\\lib\\site-packages\\matplotlib\\colors.py\u001b[0m in \u001b[0;36mto_rgba_array\u001b[1;34m(c, alpha)\u001b[0m\n\u001b[0;32m    339\u001b[0m         \u001b[1;32mreturn\u001b[0m \u001b[0mnp\u001b[0m\u001b[1;33m.\u001b[0m\u001b[0mzeros\u001b[0m\u001b[1;33m(\u001b[0m\u001b[1;33m(\u001b[0m\u001b[1;36m0\u001b[0m\u001b[1;33m,\u001b[0m \u001b[1;36m4\u001b[0m\u001b[1;33m)\u001b[0m\u001b[1;33m,\u001b[0m \u001b[0mfloat\u001b[0m\u001b[1;33m)\u001b[0m\u001b[1;33m\u001b[0m\u001b[1;33m\u001b[0m\u001b[0m\n\u001b[0;32m    340\u001b[0m     \u001b[1;32melse\u001b[0m\u001b[1;33m:\u001b[0m\u001b[1;33m\u001b[0m\u001b[1;33m\u001b[0m\u001b[0m\n\u001b[1;32m--> 341\u001b[1;33m         \u001b[1;32mreturn\u001b[0m \u001b[0mnp\u001b[0m\u001b[1;33m.\u001b[0m\u001b[0marray\u001b[0m\u001b[1;33m(\u001b[0m\u001b[1;33m[\u001b[0m\u001b[0mto_rgba\u001b[0m\u001b[1;33m(\u001b[0m\u001b[0mcc\u001b[0m\u001b[1;33m,\u001b[0m \u001b[0malpha\u001b[0m\u001b[1;33m)\u001b[0m \u001b[1;32mfor\u001b[0m \u001b[0mcc\u001b[0m \u001b[1;32min\u001b[0m \u001b[0mc\u001b[0m\u001b[1;33m]\u001b[0m\u001b[1;33m)\u001b[0m\u001b[1;33m\u001b[0m\u001b[1;33m\u001b[0m\u001b[0m\n\u001b[0m\u001b[0;32m    342\u001b[0m \u001b[1;33m\u001b[0m\u001b[0m\n\u001b[0;32m    343\u001b[0m \u001b[1;33m\u001b[0m\u001b[0m\n",
      "\u001b[1;32m~\\Anaconda3\\envs\\gee\\lib\\site-packages\\matplotlib\\colors.py\u001b[0m in \u001b[0;36m<listcomp>\u001b[1;34m(.0)\u001b[0m\n\u001b[0;32m    339\u001b[0m         \u001b[1;32mreturn\u001b[0m \u001b[0mnp\u001b[0m\u001b[1;33m.\u001b[0m\u001b[0mzeros\u001b[0m\u001b[1;33m(\u001b[0m\u001b[1;33m(\u001b[0m\u001b[1;36m0\u001b[0m\u001b[1;33m,\u001b[0m \u001b[1;36m4\u001b[0m\u001b[1;33m)\u001b[0m\u001b[1;33m,\u001b[0m \u001b[0mfloat\u001b[0m\u001b[1;33m)\u001b[0m\u001b[1;33m\u001b[0m\u001b[1;33m\u001b[0m\u001b[0m\n\u001b[0;32m    340\u001b[0m     \u001b[1;32melse\u001b[0m\u001b[1;33m:\u001b[0m\u001b[1;33m\u001b[0m\u001b[1;33m\u001b[0m\u001b[0m\n\u001b[1;32m--> 341\u001b[1;33m         \u001b[1;32mreturn\u001b[0m \u001b[0mnp\u001b[0m\u001b[1;33m.\u001b[0m\u001b[0marray\u001b[0m\u001b[1;33m(\u001b[0m\u001b[1;33m[\u001b[0m\u001b[0mto_rgba\u001b[0m\u001b[1;33m(\u001b[0m\u001b[0mcc\u001b[0m\u001b[1;33m,\u001b[0m \u001b[0malpha\u001b[0m\u001b[1;33m)\u001b[0m \u001b[1;32mfor\u001b[0m \u001b[0mcc\u001b[0m \u001b[1;32min\u001b[0m \u001b[0mc\u001b[0m\u001b[1;33m]\u001b[0m\u001b[1;33m)\u001b[0m\u001b[1;33m\u001b[0m\u001b[1;33m\u001b[0m\u001b[0m\n\u001b[0m\u001b[0;32m    342\u001b[0m \u001b[1;33m\u001b[0m\u001b[0m\n\u001b[0;32m    343\u001b[0m \u001b[1;33m\u001b[0m\u001b[0m\n",
      "\u001b[1;32m~\\Anaconda3\\envs\\gee\\lib\\site-packages\\matplotlib\\colors.py\u001b[0m in \u001b[0;36mto_rgba\u001b[1;34m(c, alpha)\u001b[0m\n\u001b[0;32m    187\u001b[0m         \u001b[0mrgba\u001b[0m \u001b[1;33m=\u001b[0m \u001b[1;32mNone\u001b[0m\u001b[1;33m\u001b[0m\u001b[1;33m\u001b[0m\u001b[0m\n\u001b[0;32m    188\u001b[0m     \u001b[1;32mif\u001b[0m \u001b[0mrgba\u001b[0m \u001b[1;32mis\u001b[0m \u001b[1;32mNone\u001b[0m\u001b[1;33m:\u001b[0m  \u001b[1;31m# Suppress exception chaining of cache lookup failure.\u001b[0m\u001b[1;33m\u001b[0m\u001b[1;33m\u001b[0m\u001b[0m\n\u001b[1;32m--> 189\u001b[1;33m         \u001b[0mrgba\u001b[0m \u001b[1;33m=\u001b[0m \u001b[0m_to_rgba_no_colorcycle\u001b[0m\u001b[1;33m(\u001b[0m\u001b[0mc\u001b[0m\u001b[1;33m,\u001b[0m \u001b[0malpha\u001b[0m\u001b[1;33m)\u001b[0m\u001b[1;33m\u001b[0m\u001b[1;33m\u001b[0m\u001b[0m\n\u001b[0m\u001b[0;32m    190\u001b[0m         \u001b[1;32mtry\u001b[0m\u001b[1;33m:\u001b[0m\u001b[1;33m\u001b[0m\u001b[1;33m\u001b[0m\u001b[0m\n\u001b[0;32m    191\u001b[0m             \u001b[0m_colors_full_map\u001b[0m\u001b[1;33m.\u001b[0m\u001b[0mcache\u001b[0m\u001b[1;33m[\u001b[0m\u001b[0mc\u001b[0m\u001b[1;33m,\u001b[0m \u001b[0malpha\u001b[0m\u001b[1;33m]\u001b[0m \u001b[1;33m=\u001b[0m \u001b[0mrgba\u001b[0m\u001b[1;33m\u001b[0m\u001b[1;33m\u001b[0m\u001b[0m\n",
      "\u001b[1;32m~\\Anaconda3\\envs\\gee\\lib\\site-packages\\matplotlib\\colors.py\u001b[0m in \u001b[0;36m_to_rgba_no_colorcycle\u001b[1;34m(c, alpha)\u001b[0m\n\u001b[0;32m    261\u001b[0m     \u001b[1;31m# tuple color.\u001b[0m\u001b[1;33m\u001b[0m\u001b[1;33m\u001b[0m\u001b[1;33m\u001b[0m\u001b[0m\n\u001b[0;32m    262\u001b[0m     \u001b[1;32mif\u001b[0m \u001b[1;32mnot\u001b[0m \u001b[0mnp\u001b[0m\u001b[1;33m.\u001b[0m\u001b[0miterable\u001b[0m\u001b[1;33m(\u001b[0m\u001b[0mc\u001b[0m\u001b[1;33m)\u001b[0m\u001b[1;33m:\u001b[0m\u001b[1;33m\u001b[0m\u001b[1;33m\u001b[0m\u001b[0m\n\u001b[1;32m--> 263\u001b[1;33m         \u001b[1;32mraise\u001b[0m \u001b[0mValueError\u001b[0m\u001b[1;33m(\u001b[0m\u001b[1;34mf\"Invalid RGBA argument: {orig_c!r}\"\u001b[0m\u001b[1;33m)\u001b[0m\u001b[1;33m\u001b[0m\u001b[1;33m\u001b[0m\u001b[0m\n\u001b[0m\u001b[0;32m    264\u001b[0m     \u001b[1;32mif\u001b[0m \u001b[0mlen\u001b[0m\u001b[1;33m(\u001b[0m\u001b[0mc\u001b[0m\u001b[1;33m)\u001b[0m \u001b[1;32mnot\u001b[0m \u001b[1;32min\u001b[0m \u001b[1;33m[\u001b[0m\u001b[1;36m3\u001b[0m\u001b[1;33m,\u001b[0m \u001b[1;36m4\u001b[0m\u001b[1;33m]\u001b[0m\u001b[1;33m:\u001b[0m\u001b[1;33m\u001b[0m\u001b[1;33m\u001b[0m\u001b[0m\n\u001b[0;32m    265\u001b[0m         \u001b[1;32mraise\u001b[0m \u001b[0mValueError\u001b[0m\u001b[1;33m(\u001b[0m\u001b[1;34m\"RGBA sequence should have length 3 or 4\"\u001b[0m\u001b[1;33m)\u001b[0m\u001b[1;33m\u001b[0m\u001b[1;33m\u001b[0m\u001b[0m\n",
      "\u001b[1;31mValueError\u001b[0m: Invalid RGBA argument: 0.21538975947324868"
     ]
    },
    {
     "data": {
      "image/png": "[encoded data removed]",
      "text/plain": [
       "<Figure size 504x504 with 3 Axes>"
      ]
     },
     "metadata": {
      "needs_background": "light"
     },
     "output_type": "display_data"
    }
   ],
   "source": [
    "data_processing(df = by_points, type_ = \"GPS №\", agrochem_property = \"Органический углерод, %\", to_lable = \"обработкам\")"
   ]
  },
  {
   "cell_type": "code",
   "execution_count": 271,
   "metadata": {},
   "outputs": [
    {
     "data": {
      "text/html": [
       "<div>\n",
       "<style scoped>\n",
       "    .dataframe tbody tr th:only-of-type {\n",
       "        vertical-align: middle;\n",
       "    }\n",
       "\n",
       "    .dataframe tbody tr th {\n",
       "        vertical-align: top;\n",
       "    }\n",
       "\n",
       "    .dataframe thead th {\n",
       "        text-align: right;\n",
       "    }\n",
       "</style>\n",
       "<table border=\"1\" class=\"dataframe\">\n",
       "  <thead>\n",
       "    <tr style=\"text-align: right;\">\n",
       "      <th></th>\n",
       "      <th>Год</th>\n",
       "      <th>GPS №</th>\n",
       "      <th>Тип обработки</th>\n",
       "      <th>Глубина</th>\n",
       "      <th>повторность</th>\n",
       "      <th>рН солевой вытяжки, ед. рН</th>\n",
       "      <th>рН водной вытяжки, ед. рН</th>\n",
       "      <th>Фосфор (подвижная форма), мг/кг</th>\n",
       "      <th>Калий (подвижная форма), млн-1</th>\n",
       "      <th>Общий азот, %</th>\n",
       "      <th>Органический углерод, %</th>\n",
       "    </tr>\n",
       "  </thead>\n",
       "  <tbody>\n",
       "    <tr>\n",
       "      <th>48</th>\n",
       "      <td>2021</td>\n",
       "      <td>586</td>\n",
       "      <td>ПП</td>\n",
       "      <td>0-10</td>\n",
       "      <td>[0]</td>\n",
       "      <td>7.18</td>\n",
       "      <td>7.83</td>\n",
       "      <td>28.200000</td>\n",
       "      <td>688.801176</td>\n",
       "      <td>0.20</td>\n",
       "      <td>1.4504</td>\n",
       "    </tr>\n",
       "    <tr>\n",
       "      <th>49</th>\n",
       "      <td>2021</td>\n",
       "      <td>586</td>\n",
       "      <td>ПП</td>\n",
       "      <td>10-20</td>\n",
       "      <td>[0]</td>\n",
       "      <td>7.16</td>\n",
       "      <td>8.34</td>\n",
       "      <td>14.600000</td>\n",
       "      <td>598.958696</td>\n",
       "      <td>0.13</td>\n",
       "      <td>0.9396</td>\n",
       "    </tr>\n",
       "    <tr>\n",
       "      <th>50</th>\n",
       "      <td>2021</td>\n",
       "      <td>586</td>\n",
       "      <td>ПП</td>\n",
       "      <td>20-30</td>\n",
       "      <td>[0]</td>\n",
       "      <td>7.20</td>\n",
       "      <td>8.19</td>\n",
       "      <td>19.800000</td>\n",
       "      <td>600.909176</td>\n",
       "      <td>0.14</td>\n",
       "      <td>1.0024</td>\n",
       "    </tr>\n",
       "    <tr>\n",
       "      <th>60</th>\n",
       "      <td>2021</td>\n",
       "      <td>586</td>\n",
       "      <td>ПП</td>\n",
       "      <td>0-10</td>\n",
       "      <td>[1]</td>\n",
       "      <td>7.25</td>\n",
       "      <td>7.99</td>\n",
       "      <td>19.200000</td>\n",
       "      <td>560.960456</td>\n",
       "      <td>0.15</td>\n",
       "      <td>1.1110</td>\n",
       "    </tr>\n",
       "    <tr>\n",
       "      <th>61</th>\n",
       "      <td>2021</td>\n",
       "      <td>586</td>\n",
       "      <td>ПП</td>\n",
       "      <td>10-20</td>\n",
       "      <td>[1]</td>\n",
       "      <td>7.12</td>\n",
       "      <td>7.91</td>\n",
       "      <td>16.400000</td>\n",
       "      <td>573.554296</td>\n",
       "      <td>0.15</td>\n",
       "      <td>1.0865</td>\n",
       "    </tr>\n",
       "    <tr>\n",
       "      <th>...</th>\n",
       "      <td>...</td>\n",
       "      <td>...</td>\n",
       "      <td>...</td>\n",
       "      <td>...</td>\n",
       "      <td>...</td>\n",
       "      <td>...</td>\n",
       "      <td>...</td>\n",
       "      <td>...</td>\n",
       "      <td>...</td>\n",
       "      <td>...</td>\n",
       "      <td>...</td>\n",
       "    </tr>\n",
       "    <tr>\n",
       "      <th>195</th>\n",
       "      <td>2020</td>\n",
       "      <td>528</td>\n",
       "      <td>ПП</td>\n",
       "      <td>10-20</td>\n",
       "      <td>[3]</td>\n",
       "      <td>7.21</td>\n",
       "      <td>8.34</td>\n",
       "      <td>11.740558</td>\n",
       "      <td>327.199040</td>\n",
       "      <td>0.16</td>\n",
       "      <td>1.0693</td>\n",
       "    </tr>\n",
       "    <tr>\n",
       "      <th>196</th>\n",
       "      <td>2020</td>\n",
       "      <td>528</td>\n",
       "      <td>ПП</td>\n",
       "      <td>20-30</td>\n",
       "      <td>[3]</td>\n",
       "      <td>7.27</td>\n",
       "      <td>8.61</td>\n",
       "      <td>10.755337</td>\n",
       "      <td>277.907280</td>\n",
       "      <td>0.16</td>\n",
       "      <td>1.2020</td>\n",
       "    </tr>\n",
       "    <tr>\n",
       "      <th>197</th>\n",
       "      <td>2020</td>\n",
       "      <td>528</td>\n",
       "      <td>ПП</td>\n",
       "      <td>0-10</td>\n",
       "      <td>[4]</td>\n",
       "      <td>7.20</td>\n",
       "      <td>8.12</td>\n",
       "      <td>12.233169</td>\n",
       "      <td>454.774880</td>\n",
       "      <td>0.16</td>\n",
       "      <td>1.1344</td>\n",
       "    </tr>\n",
       "    <tr>\n",
       "      <th>198</th>\n",
       "      <td>2020</td>\n",
       "      <td>528</td>\n",
       "      <td>ПП</td>\n",
       "      <td>10-20</td>\n",
       "      <td>[4]</td>\n",
       "      <td>7.19</td>\n",
       "      <td>8.23</td>\n",
       "      <td>13.218391</td>\n",
       "      <td>440.928880</td>\n",
       "      <td>0.17</td>\n",
       "      <td>1.1627</td>\n",
       "    </tr>\n",
       "    <tr>\n",
       "      <th>199</th>\n",
       "      <td>2020</td>\n",
       "      <td>528</td>\n",
       "      <td>ПП</td>\n",
       "      <td>20-30</td>\n",
       "      <td>[4]</td>\n",
       "      <td>7.24</td>\n",
       "      <td>8.31</td>\n",
       "      <td>10.755337</td>\n",
       "      <td>368.544400</td>\n",
       "      <td>0.17</td>\n",
       "      <td>1.1672</td>\n",
       "    </tr>\n",
       "  </tbody>\n",
       "</table>\n",
       "<p>75 rows × 11 columns</p>\n",
       "</div>"
      ],
      "text/plain": [
       "      Год GPS № Тип обработки Глубина повторность  рН солевой вытяжки, ед. рН  \\\n",
       "48   2021   586            ПП    0-10         [0]                        7.18   \n",
       "49   2021   586            ПП   10-20         [0]                        7.16   \n",
       "50   2021   586            ПП   20-30         [0]                        7.20   \n",
       "60   2021   586            ПП    0-10         [1]                        7.25   \n",
       "61   2021   586            ПП   10-20         [1]                        7.12   \n",
       "..    ...   ...           ...     ...         ...                         ...   \n",
       "195  2020   528            ПП   10-20         [3]                        7.21   \n",
       "196  2020   528            ПП   20-30         [3]                        7.27   \n",
       "197  2020   528            ПП    0-10         [4]                        7.20   \n",
       "198  2020   528            ПП   10-20         [4]                        7.19   \n",
       "199  2020   528            ПП   20-30         [4]                        7.24   \n",
       "\n",
       "     рН водной вытяжки, ед. рН  Фосфор (подвижная форма), мг/кг  \\\n",
       "48                        7.83                        28.200000   \n",
       "49                        8.34                        14.600000   \n",
       "50                        8.19                        19.800000   \n",
       "60                        7.99                        19.200000   \n",
       "61                        7.91                        16.400000   \n",
       "..                         ...                              ...   \n",
       "195                       8.34                        11.740558   \n",
       "196                       8.61                        10.755337   \n",
       "197                       8.12                        12.233169   \n",
       "198                       8.23                        13.218391   \n",
       "199                       8.31                        10.755337   \n",
       "\n",
       "     Калий (подвижная форма), млн-1  Общий азот, %  Органический углерод, %  \n",
       "48                       688.801176           0.20                   1.4504  \n",
       "49                       598.958696           0.13                   0.9396  \n",
       "50                       600.909176           0.14                   1.0024  \n",
       "60                       560.960456           0.15                   1.1110  \n",
       "61                       573.554296           0.15                   1.0865  \n",
       "..                              ...            ...                      ...  \n",
       "195                      327.199040           0.16                   1.0693  \n",
       "196                      277.907280           0.16                   1.2020  \n",
       "197                      454.774880           0.16                   1.1344  \n",
       "198                      440.928880           0.17                   1.1627  \n",
       "199                      368.544400           0.17                   1.1672  \n",
       "\n",
       "[75 rows x 11 columns]"
      ]
     },
     "execution_count": 271,
     "metadata": {},
     "output_type": "execute_result"
    }
   ],
   "source": [
    "by_points"
   ]
  },
  {
   "cell_type": "code",
   "execution_count": 230,
   "metadata": {},
   "outputs": [
    {
     "data": {
      "text/html": [
       "<div>\n",
       "<style scoped>\n",
       "    .dataframe tbody tr th:only-of-type {\n",
       "        vertical-align: middle;\n",
       "    }\n",
       "\n",
       "    .dataframe tbody tr th {\n",
       "        vertical-align: top;\n",
       "    }\n",
       "\n",
       "    .dataframe thead th {\n",
       "        text-align: right;\n",
       "    }\n",
       "</style>\n",
       "<table border=\"1\" class=\"dataframe\">\n",
       "  <thead>\n",
       "    <tr style=\"text-align: right;\">\n",
       "      <th></th>\n",
       "      <th>глубина</th>\n",
       "      <th>p-value</th>\n",
       "    </tr>\n",
       "  </thead>\n",
       "  <tbody>\n",
       "    <tr>\n",
       "      <th>0</th>\n",
       "      <td>0-10</td>\n",
       "      <td>0.300</td>\n",
       "    </tr>\n",
       "    <tr>\n",
       "      <th>1</th>\n",
       "      <td>10-20</td>\n",
       "      <td>0.588</td>\n",
       "    </tr>\n",
       "    <tr>\n",
       "      <th>2</th>\n",
       "      <td>20-30</td>\n",
       "      <td>0.640</td>\n",
       "    </tr>\n",
       "  </tbody>\n",
       "</table>\n",
       "</div>"
      ],
      "text/plain": [
       "  глубина  p-value\n",
       "0    0-10    0.300\n",
       "1   10-20    0.588\n",
       "2   20-30    0.640"
      ]
     },
     "execution_count": 230,
     "metadata": {},
     "output_type": "execute_result"
    }
   ],
   "source": [
    "df = agrochemistry_main[agrochemistry_main['GPS №'].isin(pp_points)]\n",
    "varible = 'GPS №'\n",
    "anova(df, varible)"
   ]
  },
  {
   "cell_type": "code",
   "execution_count": 226,
   "metadata": {},
   "outputs": [
    {
     "data": {
      "text/html": [
       "<div>\n",
       "<style scoped>\n",
       "    .dataframe tbody tr th:only-of-type {\n",
       "        vertical-align: middle;\n",
       "    }\n",
       "\n",
       "    .dataframe tbody tr th {\n",
       "        vertical-align: top;\n",
       "    }\n",
       "\n",
       "    .dataframe thead th {\n",
       "        text-align: right;\n",
       "    }\n",
       "</style>\n",
       "<table border=\"1\" class=\"dataframe\">\n",
       "  <thead>\n",
       "    <tr style=\"text-align: right;\">\n",
       "      <th></th>\n",
       "      <th>глубина</th>\n",
       "      <th>p-value</th>\n",
       "    </tr>\n",
       "  </thead>\n",
       "  <tbody>\n",
       "    <tr>\n",
       "      <th>0</th>\n",
       "      <td>0-10</td>\n",
       "      <td>0.333</td>\n",
       "    </tr>\n",
       "    <tr>\n",
       "      <th>1</th>\n",
       "      <td>10-20</td>\n",
       "      <td>0.559</td>\n",
       "    </tr>\n",
       "    <tr>\n",
       "      <th>2</th>\n",
       "      <td>20-30</td>\n",
       "      <td>0.303</td>\n",
       "    </tr>\n",
       "  </tbody>\n",
       "</table>\n",
       "</div>"
      ],
      "text/plain": [
       "  глубина  p-value\n",
       "0    0-10    0.333\n",
       "1   10-20    0.559\n",
       "2   20-30    0.303"
      ]
     },
     "execution_count": 226,
     "metadata": {},
     "output_type": "execute_result"
    }
   ],
   "source": [
    "df\n",
    "varible = 'Тип обработки'\n",
    "anova(df, varible)"
   ]
  },
  {
   "cell_type": "code",
   "execution_count": 219,
   "metadata": {},
   "outputs": [
    {
     "data": {
      "text/html": [
       "<div>\n",
       "<style scoped>\n",
       "    .dataframe tbody tr th:only-of-type {\n",
       "        vertical-align: middle;\n",
       "    }\n",
       "\n",
       "    .dataframe tbody tr th {\n",
       "        vertical-align: top;\n",
       "    }\n",
       "\n",
       "    .dataframe thead th {\n",
       "        text-align: right;\n",
       "    }\n",
       "</style>\n",
       "<table border=\"1\" class=\"dataframe\">\n",
       "  <thead>\n",
       "    <tr style=\"text-align: right;\">\n",
       "      <th></th>\n",
       "      <th>глубина</th>\n",
       "      <th>p-value</th>\n",
       "    </tr>\n",
       "  </thead>\n",
       "  <tbody>\n",
       "    <tr>\n",
       "      <th>0</th>\n",
       "      <td>0-10</td>\n",
       "      <td>0.333</td>\n",
       "    </tr>\n",
       "    <tr>\n",
       "      <th>1</th>\n",
       "      <td>10-20</td>\n",
       "      <td>0.559</td>\n",
       "    </tr>\n",
       "    <tr>\n",
       "      <th>2</th>\n",
       "      <td>20-30</td>\n",
       "      <td>0.303</td>\n",
       "    </tr>\n",
       "    <tr>\n",
       "      <th>0</th>\n",
       "      <td>0-10</td>\n",
       "      <td>0.333</td>\n",
       "    </tr>\n",
       "    <tr>\n",
       "      <th>1</th>\n",
       "      <td>10-20</td>\n",
       "      <td>0.559</td>\n",
       "    </tr>\n",
       "    <tr>\n",
       "      <th>2</th>\n",
       "      <td>20-30</td>\n",
       "      <td>0.303</td>\n",
       "    </tr>\n",
       "    <tr>\n",
       "      <th>0</th>\n",
       "      <td>0-10</td>\n",
       "      <td>0.333</td>\n",
       "    </tr>\n",
       "    <tr>\n",
       "      <th>1</th>\n",
       "      <td>10-20</td>\n",
       "      <td>0.559</td>\n",
       "    </tr>\n",
       "    <tr>\n",
       "      <th>2</th>\n",
       "      <td>20-30</td>\n",
       "      <td>0.303</td>\n",
       "    </tr>\n",
       "  </tbody>\n",
       "</table>\n",
       "</div>"
      ],
      "text/plain": [
       "  глубина  p-value\n",
       "0    0-10    0.333\n",
       "1   10-20    0.559\n",
       "2   20-30    0.303\n",
       "0    0-10    0.333\n",
       "1   10-20    0.559\n",
       "2   20-30    0.303\n",
       "0    0-10    0.333\n",
       "1   10-20    0.559\n",
       "2   20-30    0.303"
      ]
     },
     "execution_count": 219,
     "metadata": {},
     "output_type": "execute_result"
    }
   ],
   "source": [
    "for ind,depth in enumerate(df[\"Глубина\"].unique()) : #вот это надо перекрутить! потому что когда у нас будет выборка по ключевым участкам все упадет\n",
    "    df_00_10 = df[df[\"Глубина\"] == depth]\n",
    "    a = df_00_10[\"Органический углерод, %\"][df['Тип обработки'] == 'ПП'].values\n",
    "    b = df_00_10[\"Органический углерод, %\"][df['Тип обработки'] == 'ТТ'].values\n",
    "    p_val = ANOVA(a,b)[1]\n",
    "    local_df = pd.DataFrame({\"глубина\":depth, 'p-value' : p_val}, index = [ind])\n",
    "    stat_test_df = stat_test_df.append(local_df)\n",
    "stat_test_df[\"p-value\"] = round(stat_test_df[\"p-value\"],3)\n",
    "stat_test_df"
   ]
  },
  {
   "cell_type": "code",
   "execution_count": null,
   "metadata": {},
   "outputs": [],
   "source": [
    "\n",
    "sns.pointplot(data = agrochemistry_main,\n",
    "    x = \"Глубина\",\n",
    "    y = \"Органический углерод, %\",\n",
    "    hue = \"Тип обработки\",\n",
    "    palette = \"prism_r\",\n",
    "    scale = 1.2,\n",
    "    ci = 95,\n",
    "    dodge= 0.2,\n",
    "    join = False,\n",
    "    capsize = .05,\n",
    "    ax = ax1)"
   ]
  },
  {
   "cell_type": "code",
   "execution_count": null,
   "metadata": {},
   "outputs": [],
   "source": [
    "reg = ols('Органическийуглерод ~ Глубина +  Типобработки + GPS ' ,  data=dispers[dispers['GPS'].isin(pp_points)]).fit()\n",
    "aov = sm.stats.anova_lm(reg)\n",
    "aov = aov[[\"PR(>F)\"]]\n",
    "aov.columns = ['p-value']\n",
    "aov = aov.iloc[:4,:]\n",
    "\n",
    "\n",
    "aov['p-value'] = round(aov['p-value'] , 3)\n",
    "\n",
    "fig, ax = plt.subplots(figsize=(1,1.5))\n",
    "ax.axis('off')\n",
    "ax.axis('tight')\n",
    "ax.table(aov.values,rowLabels=aov.index , colLabels = aov.columns ,loc='center')"
   ]
  },
  {
   "cell_type": "code",
   "execution_count": 127,
   "metadata": {},
   "outputs": [
    {
     "data": {
      "text/plain": [
       "Text(0.5, 1.0, 'Сравнение по ключевым участкам')"
      ]
     },
     "execution_count": 127,
     "metadata": {},
     "output_type": "execute_result"
    },
    {
     "data": {
      "image/png": "[encoded data removed]",
      "text/plain": [
       "<Figure size 576x720 with 2 Axes>"
      ]
     },
     "metadata": {
      "needs_background": "light"
     },
     "output_type": "display_data"
    }
   ],
   "source": [
    "f, ax = plt.subplots(2,1,figsize=(8,10))\n",
    "\n",
    "sns.pointplot(\n",
    "    data = agrochemistry_main[agrochemistry_main['GPS №'].isin(pp_points)],\n",
    "    x = \"Глубина\",\n",
    "    y = \"Органический углерод, %\",\n",
    "    hue = 'GPS №',\n",
    "    palette = \"hls\",\n",
    "    scale = 1.2,\n",
    "    ci = 95,\n",
    "    dodge= 0.4,\n",
    "    join = False,\n",
    "    capsize = .05,\n",
    "    ax = ax[1])\n",
    "ax[1].set_title('Сравнение по ключевым участкам')"
   ]
  },
  {
   "cell_type": "code",
   "execution_count": 114,
   "metadata": {},
   "outputs": [
    {
     "data": {
      "text/plain": [
       "<AxesSubplot:xlabel='Глубина', ylabel='Органический углерод, %'>"
      ]
     },
     "execution_count": 114,
     "metadata": {},
     "output_type": "execute_result"
    },
    {
     "data": {
      "image/png": "[encoded data removed]",
      "text/plain": [
       "<Figure size 720x720 with 1 Axes>"
      ]
     },
     "metadata": {
      "needs_background": "light"
     },
     "output_type": "display_data"
    }
   ],
   "source": [
    "f, ax = plt.subplots(figsize=(10,10))\n",
    "sns.boxplot(data = agrochemistry_main[agrochemistry_main['Год'].isin(['2020','2021'])], x = \"Глубина\", y = \"Органический углерод, %\", hue = \"GPS №\", ax = ax)\n"
   ]
  },
  {
   "cell_type": "code",
   "execution_count": 127,
   "metadata": {},
   "outputs": [
    {
     "name": "stderr",
     "output_type": "stream",
     "text": [
      "<ipython-input-127-a61e52bcc3ec>:1: FutureWarning: The default value of regex will change from True to False in a future version.\n",
      "  agrochemistry_main.columns = agrochemistry_main.columns.str.replace(r'[\\(),.%№ /-]', '')\n"
     ]
    },
    {
     "data": {
      "text/html": [
       "<div>\n",
       "<style scoped>\n",
       "    .dataframe tbody tr th:only-of-type {\n",
       "        vertical-align: middle;\n",
       "    }\n",
       "\n",
       "    .dataframe tbody tr th {\n",
       "        vertical-align: top;\n",
       "    }\n",
       "\n",
       "    .dataframe thead th {\n",
       "        text-align: right;\n",
       "    }\n",
       "</style>\n",
       "<table border=\"1\" class=\"dataframe\">\n",
       "  <thead>\n",
       "    <tr style=\"text-align: right;\">\n",
       "      <th></th>\n",
       "      <th>df</th>\n",
       "      <th>sum_sq</th>\n",
       "      <th>mean_sq</th>\n",
       "      <th>F</th>\n",
       "      <th>PR(&gt;F)</th>\n",
       "    </tr>\n",
       "  </thead>\n",
       "  <tbody>\n",
       "    <tr>\n",
       "      <th>GPS</th>\n",
       "      <td>7.0</td>\n",
       "      <td>1.621135</td>\n",
       "      <td>0.231591</td>\n",
       "      <td>2.870035</td>\n",
       "      <td>0.008628</td>\n",
       "    </tr>\n",
       "    <tr>\n",
       "      <th>Год</th>\n",
       "      <td>1.0</td>\n",
       "      <td>0.005110</td>\n",
       "      <td>0.005110</td>\n",
       "      <td>0.063329</td>\n",
       "      <td>0.801779</td>\n",
       "    </tr>\n",
       "    <tr>\n",
       "      <th>Типобработки</th>\n",
       "      <td>1.0</td>\n",
       "      <td>0.052482</td>\n",
       "      <td>0.052482</td>\n",
       "      <td>0.650391</td>\n",
       "      <td>0.421713</td>\n",
       "    </tr>\n",
       "    <tr>\n",
       "      <th>Глубина</th>\n",
       "      <td>2.0</td>\n",
       "      <td>0.423514</td>\n",
       "      <td>0.211757</td>\n",
       "      <td>2.624243</td>\n",
       "      <td>0.077030</td>\n",
       "    </tr>\n",
       "    <tr>\n",
       "      <th>Residual</th>\n",
       "      <td>110.0</td>\n",
       "      <td>8.876194</td>\n",
       "      <td>0.080693</td>\n",
       "      <td>NaN</td>\n",
       "      <td>NaN</td>\n",
       "    </tr>\n",
       "  </tbody>\n",
       "</table>\n",
       "</div>"
      ],
      "text/plain": [
       "                 df    sum_sq   mean_sq         F    PR(>F)\n",
       "GPS             7.0  1.621135  0.231591  2.870035  0.008628\n",
       "Год             1.0  0.005110  0.005110  0.063329  0.801779\n",
       "Типобработки    1.0  0.052482  0.052482  0.650391  0.421713\n",
       "Глубина         2.0  0.423514  0.211757  2.624243  0.077030\n",
       "Residual      110.0  8.876194  0.080693       NaN       NaN"
      ]
     },
     "execution_count": 127,
     "metadata": {},
     "output_type": "execute_result"
    }
   ],
   "source": [
    "agrochemistry_main.columns = agrochemistry_main.columns.str.replace(r'[\\(),.%№ /-]', '')\n",
    "reg = ols('Органическийуглерод ~GPS + Год + Типобработки + Глубина' ,  data=agrochemistry_main[agrochemistry_main['Год'] != '2019' ]).fit()\n",
    "aov = sm.stats.anova_lm(reg)\n",
    "\n",
    "\n",
    "\n",
    "aov"
   ]
  },
  {
   "cell_type": "code",
   "execution_count": 120,
   "metadata": {},
   "outputs": [
    {
     "data": {
      "text/plain": [
       "Index(['Год', 'GPS', 'Типобработки', 'Глубина', 'повторность',\n",
       "       'рНсолевойвытяжкиедрН', 'рНводнойвытяжкиедрН',\n",
       "       'Фосфорподвижнаяформамгкг', 'Калийподвижнаяформамлн1', 'Общийазот',\n",
       "       'Общийуглерод', 'Органическийуглерод'],\n",
       "      dtype='object')"
      ]
     },
     "execution_count": 120,
     "metadata": {},
     "output_type": "execute_result"
    }
   ],
   "source": [
    "agrochemistry_main.columns"
   ]
  },
  {
   "cell_type": "code",
   "execution_count": 85,
   "metadata": {},
   "outputs": [
    {
     "ename": "LinAlgError",
     "evalue": "Singular matrix",
     "output_type": "error",
     "traceback": [
      "\u001b[1;31m---------------------------------------------------------------------------\u001b[0m",
      "\u001b[1;31mLinAlgError\u001b[0m                               Traceback (most recent call last)",
      "\u001b[1;32m<ipython-input-85-0fd3648d76f5>\u001b[0m in \u001b[0;36m<module>\u001b[1;34m\u001b[0m\n\u001b[1;32m----> 1\u001b[1;33m \u001b[0mprint\u001b[0m\u001b[1;33m(\u001b[0m\u001b[0mfit\u001b[0m\u001b[1;33m.\u001b[0m\u001b[0mmv_test\u001b[0m\u001b[1;33m(\u001b[0m\u001b[1;33m)\u001b[0m\u001b[1;33m)\u001b[0m\u001b[1;33m\u001b[0m\u001b[1;33m\u001b[0m\u001b[0m\n\u001b[0m",
      "\u001b[1;32m~\\.conda\\envs\\GIS38\\lib\\site-packages\\statsmodels\\multivariate\\manova.py\u001b[0m in \u001b[0;36mmv_test\u001b[1;34m(self, hypotheses)\u001b[0m\n\u001b[0;32m    115\u001b[0m                     \u001b[0mhypotheses\u001b[0m\u001b[1;33m.\u001b[0m\u001b[0mappend\u001b[0m\u001b[1;33m(\u001b[0m\u001b[1;33m[\u001b[0m\u001b[0mname\u001b[0m\u001b[1;33m,\u001b[0m \u001b[0mL\u001b[0m\u001b[1;33m,\u001b[0m \u001b[1;32mNone\u001b[0m\u001b[1;33m]\u001b[0m\u001b[1;33m)\u001b[0m\u001b[1;33m\u001b[0m\u001b[1;33m\u001b[0m\u001b[0m\n\u001b[0;32m    116\u001b[0m \u001b[1;33m\u001b[0m\u001b[0m\n\u001b[1;32m--> 117\u001b[1;33m         results = _multivariate_ols_test(hypotheses, self._fittedmod,\n\u001b[0m\u001b[0;32m    118\u001b[0m                                          self.exog_names, self.endog_names)\n\u001b[0;32m    119\u001b[0m \u001b[1;33m\u001b[0m\u001b[0m\n",
      "\u001b[1;32m~\\.conda\\envs\\GIS38\\lib\\site-packages\\statsmodels\\multivariate\\multivariate_ols.py\u001b[0m in \u001b[0;36m_multivariate_ols_test\u001b[1;34m(hypotheses, fit_results, exog_names, endog_names)\u001b[0m\n\u001b[0;32m    261\u001b[0m         \u001b[1;32mreturn\u001b[0m \u001b[0mE\u001b[0m\u001b[1;33m,\u001b[0m \u001b[0mH\u001b[0m\u001b[1;33m,\u001b[0m \u001b[0mq\u001b[0m\u001b[1;33m,\u001b[0m \u001b[0mdf_resid\u001b[0m\u001b[1;33m\u001b[0m\u001b[1;33m\u001b[0m\u001b[0m\n\u001b[0;32m    262\u001b[0m \u001b[1;33m\u001b[0m\u001b[0m\n\u001b[1;32m--> 263\u001b[1;33m     \u001b[1;32mreturn\u001b[0m \u001b[0m_multivariate_test\u001b[0m\u001b[1;33m(\u001b[0m\u001b[0mhypotheses\u001b[0m\u001b[1;33m,\u001b[0m \u001b[0mexog_names\u001b[0m\u001b[1;33m,\u001b[0m \u001b[0mendog_names\u001b[0m\u001b[1;33m,\u001b[0m \u001b[0mfn\u001b[0m\u001b[1;33m)\u001b[0m\u001b[1;33m\u001b[0m\u001b[1;33m\u001b[0m\u001b[0m\n\u001b[0m\u001b[0;32m    264\u001b[0m \u001b[1;33m\u001b[0m\u001b[0m\n\u001b[0;32m    265\u001b[0m \u001b[1;33m\u001b[0m\u001b[0m\n",
      "\u001b[1;32m~\\.conda\\envs\\GIS38\\lib\\site-packages\\statsmodels\\multivariate\\multivariate_ols.py\u001b[0m in \u001b[0;36m_multivariate_test\u001b[1;34m(hypotheses, exog_names, endog_names, fn)\u001b[0m\n\u001b[0;32m    357\u001b[0m \u001b[1;33m\u001b[0m\u001b[0m\n\u001b[0;32m    358\u001b[0m         \u001b[1;31m# eigenvalues of inv(E + H)H\u001b[0m\u001b[1;33m\u001b[0m\u001b[1;33m\u001b[0m\u001b[1;33m\u001b[0m\u001b[0m\n\u001b[1;32m--> 359\u001b[1;33m         \u001b[0meigv2\u001b[0m \u001b[1;33m=\u001b[0m \u001b[0mnp\u001b[0m\u001b[1;33m.\u001b[0m\u001b[0msort\u001b[0m\u001b[1;33m(\u001b[0m\u001b[0meigvals\u001b[0m\u001b[1;33m(\u001b[0m\u001b[0msolve\u001b[0m\u001b[1;33m(\u001b[0m\u001b[0mEH\u001b[0m\u001b[1;33m,\u001b[0m \u001b[0mH\u001b[0m\u001b[1;33m)\u001b[0m\u001b[1;33m)\u001b[0m\u001b[1;33m)\u001b[0m\u001b[1;33m\u001b[0m\u001b[1;33m\u001b[0m\u001b[0m\n\u001b[0m\u001b[0;32m    360\u001b[0m         \u001b[0mstat_table\u001b[0m \u001b[1;33m=\u001b[0m \u001b[0mmultivariate_stats\u001b[0m\u001b[1;33m(\u001b[0m\u001b[0meigv2\u001b[0m\u001b[1;33m,\u001b[0m \u001b[0mp\u001b[0m\u001b[1;33m,\u001b[0m \u001b[0mq\u001b[0m\u001b[1;33m,\u001b[0m \u001b[0mdf_resid\u001b[0m\u001b[1;33m)\u001b[0m\u001b[1;33m\u001b[0m\u001b[1;33m\u001b[0m\u001b[0m\n\u001b[0;32m    361\u001b[0m \u001b[1;33m\u001b[0m\u001b[0m\n",
      "\u001b[1;32m<__array_function__ internals>\u001b[0m in \u001b[0;36msolve\u001b[1;34m(*args, **kwargs)\u001b[0m\n",
      "\u001b[1;32m~\\.conda\\envs\\GIS38\\lib\\site-packages\\numpy\\linalg\\linalg.py\u001b[0m in \u001b[0;36msolve\u001b[1;34m(a, b)\u001b[0m\n\u001b[0;32m    391\u001b[0m     \u001b[0msignature\u001b[0m \u001b[1;33m=\u001b[0m \u001b[1;34m'DD->D'\u001b[0m \u001b[1;32mif\u001b[0m \u001b[0misComplexType\u001b[0m\u001b[1;33m(\u001b[0m\u001b[0mt\u001b[0m\u001b[1;33m)\u001b[0m \u001b[1;32melse\u001b[0m \u001b[1;34m'dd->d'\u001b[0m\u001b[1;33m\u001b[0m\u001b[1;33m\u001b[0m\u001b[0m\n\u001b[0;32m    392\u001b[0m     \u001b[0mextobj\u001b[0m \u001b[1;33m=\u001b[0m \u001b[0mget_linalg_error_extobj\u001b[0m\u001b[1;33m(\u001b[0m\u001b[0m_raise_linalgerror_singular\u001b[0m\u001b[1;33m)\u001b[0m\u001b[1;33m\u001b[0m\u001b[1;33m\u001b[0m\u001b[0m\n\u001b[1;32m--> 393\u001b[1;33m     \u001b[0mr\u001b[0m \u001b[1;33m=\u001b[0m \u001b[0mgufunc\u001b[0m\u001b[1;33m(\u001b[0m\u001b[0ma\u001b[0m\u001b[1;33m,\u001b[0m \u001b[0mb\u001b[0m\u001b[1;33m,\u001b[0m \u001b[0msignature\u001b[0m\u001b[1;33m=\u001b[0m\u001b[0msignature\u001b[0m\u001b[1;33m,\u001b[0m \u001b[0mextobj\u001b[0m\u001b[1;33m=\u001b[0m\u001b[0mextobj\u001b[0m\u001b[1;33m)\u001b[0m\u001b[1;33m\u001b[0m\u001b[1;33m\u001b[0m\u001b[0m\n\u001b[0m\u001b[0;32m    394\u001b[0m \u001b[1;33m\u001b[0m\u001b[0m\n\u001b[0;32m    395\u001b[0m     \u001b[1;32mreturn\u001b[0m \u001b[0mwrap\u001b[0m\u001b[1;33m(\u001b[0m\u001b[0mr\u001b[0m\u001b[1;33m.\u001b[0m\u001b[0mastype\u001b[0m\u001b[1;33m(\u001b[0m\u001b[0mresult_t\u001b[0m\u001b[1;33m,\u001b[0m \u001b[0mcopy\u001b[0m\u001b[1;33m=\u001b[0m\u001b[1;32mFalse\u001b[0m\u001b[1;33m)\u001b[0m\u001b[1;33m)\u001b[0m\u001b[1;33m\u001b[0m\u001b[1;33m\u001b[0m\u001b[0m\n",
      "\u001b[1;32m~\\.conda\\envs\\GIS38\\lib\\site-packages\\numpy\\linalg\\linalg.py\u001b[0m in \u001b[0;36m_raise_linalgerror_singular\u001b[1;34m(err, flag)\u001b[0m\n\u001b[0;32m     86\u001b[0m \u001b[1;33m\u001b[0m\u001b[0m\n\u001b[0;32m     87\u001b[0m \u001b[1;32mdef\u001b[0m \u001b[0m_raise_linalgerror_singular\u001b[0m\u001b[1;33m(\u001b[0m\u001b[0merr\u001b[0m\u001b[1;33m,\u001b[0m \u001b[0mflag\u001b[0m\u001b[1;33m)\u001b[0m\u001b[1;33m:\u001b[0m\u001b[1;33m\u001b[0m\u001b[1;33m\u001b[0m\u001b[0m\n\u001b[1;32m---> 88\u001b[1;33m     \u001b[1;32mraise\u001b[0m \u001b[0mLinAlgError\u001b[0m\u001b[1;33m(\u001b[0m\u001b[1;34m\"Singular matrix\"\u001b[0m\u001b[1;33m)\u001b[0m\u001b[1;33m\u001b[0m\u001b[1;33m\u001b[0m\u001b[0m\n\u001b[0m\u001b[0;32m     89\u001b[0m \u001b[1;33m\u001b[0m\u001b[0m\n\u001b[0;32m     90\u001b[0m \u001b[1;32mdef\u001b[0m \u001b[0m_raise_linalgerror_nonposdef\u001b[0m\u001b[1;33m(\u001b[0m\u001b[0merr\u001b[0m\u001b[1;33m,\u001b[0m \u001b[0mflag\u001b[0m\u001b[1;33m)\u001b[0m\u001b[1;33m:\u001b[0m\u001b[1;33m\u001b[0m\u001b[1;33m\u001b[0m\u001b[0m\n",
      "\u001b[1;31mLinAlgError\u001b[0m: Singular matrix"
     ]
    }
   ],
   "source": []
  },
  {
   "cell_type": "code",
   "execution_count": null,
   "metadata": {},
   "outputs": [],
   "source": []
  }
 ],
 "metadata": {
  "interpreter": {
   "hash": "5d9264abb61edf0596df9e26497fc1638ebbe0a2ce8ef1dfb53fd6b0dc98e743"
  },
  "kernelspec": {
   "display_name": "Python 3.8.8 64-bit ('GIS38': conda)",
   "language": "python",
   "name": "python3"
  },
  "language_info": {
   "codemirror_mode": {
    "name": "ipython",
    "version": 3
   },
   "file_extension": ".py",
   "mimetype": "text/x-python",
   "name": "python",
   "nbconvert_exporter": "python",
   "pygments_lexer": "ipython3",
   "version": "3.8.8"
  },
  "orig_nbformat": 4
 },
 "nbformat": 4,
 "nbformat_minor": 2
}
