{
 "cells": [
  {
   "cell_type": "code",
   "execution_count": 1,
   "source": [
    "from satelite_data_preporation import collection\r\n",
    "import ee \r\n",
    "import geemap\r\n",
    "ee.Initialize()\r\n",
    "%load_ext autoreload"
   ],
   "outputs": [],
   "metadata": {}
  },
  {
   "cell_type": "code",
   "execution_count": 2,
   "source": [
    "%autoreload 2"
   ],
   "outputs": [],
   "metadata": {}
  },
  {
   "cell_type": "code",
   "execution_count": 3,
   "source": [
    "begin = '2005-10-01'\r\n",
    "end =  '2021-09-30'\r\n"
   ],
   "outputs": [],
   "metadata": {}
  },
  {
   "cell_type": "code",
   "execution_count": 12,
   "source": [],
   "outputs": [
    {
     "output_type": "execute_result",
     "data": {
      "text/plain": [
       "['2005-09-30',\n",
       " '2006-09-30',\n",
       " '2007-09-30',\n",
       " '2008-09-30',\n",
       " '2009-09-30',\n",
       " '2010-09-30',\n",
       " '2011-09-30',\n",
       " '2012-09-30',\n",
       " '2013-09-30',\n",
       " '2014-09-30',\n",
       " '2015-09-30',\n",
       " '2016-09-30',\n",
       " '2017-09-30',\n",
       " '2018-09-30',\n",
       " '2019-09-30',\n",
       " '2020-09-30']"
      ]
     },
     "metadata": {},
     "execution_count": 12
    }
   ],
   "metadata": {}
  },
  {
   "cell_type": "code",
   "execution_count": 13,
   "source": [
    "two_fields = 'vector_data/archangelskoe_TWO_FIELDS_WGS84.geojson'\r\n",
    "region_boundary = 'vector_data/budenovsk_district_boundaries.geojson'\r\n",
    "region_of_interest = 'vector_data/our_fields_for_animation.geojson'\r\n",
    "url = \"https://rp5.ru/%D0%90%D1%80%D1%85%D0%B8%D0%B2_%D0%BF%D0%BE%D0%B3%D0%BE%D0%B4%D1%8B_%D0%B2_%D0%91%D1%83%D0%B4%D0%B5%D0%BD%D0%BD%D0%BE%D0%B2%D1%81%D0%BA%D0%B5\""
   ],
   "outputs": [],
   "metadata": {}
  },
  {
   "cell_type": "code",
   "execution_count": 13,
   "source": [
    "total_collection = collection(begin , end)\r\n",
    "\r\n",
    "\r\n",
    "\r\n"
   ],
   "outputs": [],
   "metadata": {}
  },
  {
   "cell_type": "code",
   "execution_count": 11,
   "source": [
    "sentinel2020_collection.get_raster_plots(two_fields)\r\n"
   ],
   "outputs": [],
   "metadata": {}
  },
  {
   "cell_type": "code",
   "execution_count": null,
   "source": [],
   "outputs": [],
   "metadata": {}
  }
 ],
 "metadata": {
  "orig_nbformat": 4,
  "language_info": {
   "name": "python",
   "version": "3.8.8",
   "mimetype": "text/x-python",
   "codemirror_mode": {
    "name": "ipython",
    "version": 3
   },
   "pygments_lexer": "ipython3",
   "nbconvert_exporter": "python",
   "file_extension": ".py"
  },
  "kernelspec": {
   "name": "python3",
   "display_name": "Python 3.8.8 64-bit ('gee': conda)"
  },
  "interpreter": {
   "hash": "50b6717627593aefd50e51670e42424ecb36e3d1a6020ba1b74ceefbbbb2094d"
  }
 },
 "nbformat": 4,
 "nbformat_minor": 2
}