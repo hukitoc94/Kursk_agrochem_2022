{
 "cells": [
  {
   "cell_type": "code",
   "execution_count": 1,
   "metadata": {},
   "outputs": [],
   "source": [
    "from satelite_data_preporation import collection\n",
    "import styles as styles\n",
    "import ee, geemap\n",
    "%load_ext autoreload"
   ]
  },
  {
   "cell_type": "code",
   "execution_count": 2,
   "metadata": {},
   "outputs": [],
   "source": [
    "ee.Initialize()"
   ]
  },
  {
   "cell_type": "code",
   "execution_count": 3,
   "metadata": {},
   "outputs": [],
   "source": [
    "%autoreload 2"
   ]
  },
  {
   "cell_type": "code",
   "execution_count": 6,
   "metadata": {},
   "outputs": [
    {
     "data": {
      "application/vnd.jupyter.widget-view+json": {
       "model_id": "2a743f96569b45a08927bffa708f9c8e",
       "version_major": 2,
       "version_minor": 0
      },
      "text/plain": [
       "Map(center=[44.745544055004785, 44.14114333519604], controls=(WidgetControl(options=['position'], widget=HBox(…"
      ]
     },
     "metadata": {},
     "output_type": "display_data"
    }
   ],
   "source": [
    "region_boundary = geemap.geojson_to_ee('vector_data/budenovsk_district_boundaries.geojson')\n",
    "\n",
    "agricultural_lands = geemap.geojson_to_ee('vector_data/agriculture_lands.geojson')\n",
    "\n",
    "points = geemap.geojson_to_ee('vector_data/bufferd_points.geojson')\n",
    "\n",
    "Budenovsk = geemap.Map(zoom = 10)\n",
    "Budenovsk.centerObject(region_boundary)\n",
    "Budenovsk.addLayer(region_boundary ,{'color' : \"FF0000\"}, 'Границы региона' )\n",
    "\n",
    "\n",
    "\n",
    "\n",
    "Budenovsk.addLayer(points ,{'color' : \"green\"}, 'ключевые' )\n",
    "\n",
    "Budenovsk"
   ]
  },
  {
   "cell_type": "code",
   "execution_count": null,
   "metadata": {},
   "outputs": [],
   "source": []
  }
 ],
 "metadata": {
  "interpreter": {
   "hash": "85920efa26795b81ae974cc3e921fa6f3e61da85cedce47b5b9a60ff06de3444"
  },
  "kernelspec": {
   "display_name": "Python 3",
   "language": "python",
   "name": "python3"
  },
  "language_info": {
   "codemirror_mode": {
    "name": "ipython",
    "version": 3
   },
   "file_extension": ".py",
   "mimetype": "text/x-python",
   "name": "python",
   "nbconvert_exporter": "python",
   "pygments_lexer": "ipython3",
   "version": "3.6.13"
  }
 },
 "nbformat": 4,
 "nbformat_minor": 2
}
