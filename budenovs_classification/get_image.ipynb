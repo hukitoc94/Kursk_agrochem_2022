{
 "cells": [
  {
   "cell_type": "code",
   "execution_count": null,
   "metadata": {},
   "outputs": [],
   "source": [
    "import ee, geemap,datetime\n"
   ]
  },
  {
   "cell_type": "code",
   "execution_count": null,
   "metadata": {},
   "outputs": [],
   "source": [
    "def S2masking(image): \n",
    "            cloudProb = image.select('MSK_CLDPRB')  # покрытие облаками\n",
    "            snowProb = image.select('MSK_SNWPRB') # покрытие снегом\n",
    "            cloud = cloudProb.lt(1) # создали бинарную маску иными словами просто все что имеет значение меньше 5 одна группа выше другая\n",
    "                                # а мы помним что пиксели принимают значения от 0 до 255\n",
    "            snow = snowProb.lt(1) # тоже самое что с облаками\n",
    "            scl = image.select('SCL') # слой с классификатором(есть в sentinel 2 уровня обработки 2А)\n",
    "            shadow = scl.neq(3);# 3 в классификации это тени от облаков\n",
    "            cirrus_medium = scl.neq(8) # тоже по классификации облака \n",
    "            cirrus_high = scl.neq(9) # аналогично облака\n",
    "            cirrus = scl.neq(10); # 10 это перистые облака или цирусы\n",
    "            return  image.updateMask(cirrus).updateMask(cirrus_medium).updateMask(cirrus_high)\n",
    "def clipper_region(image):  #########обрезка по искомому региону\n",
    "            clipped = image.clip(self.region_geometry.geometry())\n",
    "            return  clipped \n",
    "def clipper_ROI(image):\n",
    "    clipped = image.clipToCollection(self.ROI)\n",
    "    return  clipped\n",
    "def calulate_NDVI(image):\n",
    "    NDVI = image.normalizedDifference(ndvi_bands).rename('NDVI').select('NDVI')\n",
    "    image = image.addBands(NDVI)\n",
    "    return image\n"
   ]
  },
  {
   "cell_type": "code",
   "execution_count": null,
   "metadata": {},
   "outputs": [],
   "source": [
    "ndvi_bands = ['B8', 'B4']\n",
    "ndti_bands = ['B11', 'B12']\n",
    "row_image = ee.ImageCollection('COPERNICUS/S2_SR') \\\n",
    "    .filterDate(self.first_date, self.last_date) \\\n",
    "    .filterBounds(self.region_geometry) \\\n",
    "    .filterMetadata(\"CLOUD_COVERAGE_ASSESSMENT\", 'less_than', cloud_cover_threshold) \\\n",
    "    .sort(\"system:time_start\") \\\n",
    "    .map(S2masking)"
   ]
  },
  {
   "cell_type": "code",
   "execution_count": null,
   "metadata": {},
   "outputs": [],
   "source": [
    "тут еще должен быть кусочек про фильтрацию по NDVI по 0.3"
   ]
  },
  {
   "cell_type": "code",
   "execution_count": null,
   "metadata": {},
   "outputs": [],
   "source": [
    "minNDTI = self.result.select('NDTI').min().reproject(crs = self.crs, scale = 10)"
   ]
  }
 ],
 "metadata": {
  "language_info": {
   "name": "python"
  },
  "orig_nbformat": 4
 },
 "nbformat": 4,
 "nbformat_minor": 2
}
