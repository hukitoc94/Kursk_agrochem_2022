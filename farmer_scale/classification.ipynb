{
 "cells": [
  {
   "cell_type": "code",
   "execution_count": 29,
   "metadata": {},
   "outputs": [],
   "source": [
    "import pandas as pd \n",
    "import numpy as np\n",
    "import matplotlib.pyplot as plt\n",
    "import seaborn as sns\n",
    "import rasterio\n",
    "from rasterio.mask import mask\n",
    "import geopandas as gpd\n",
    "import warnings\n",
    "warnings.filterwarnings('ignore')"
   ]
  },
  {
   "cell_type": "code",
   "execution_count": 14,
   "metadata": {},
   "outputs": [
    {
     "data": {
      "text/html": [
       "<div>\n",
       "<style scoped>\n",
       "    .dataframe tbody tr th:only-of-type {\n",
       "        vertical-align: middle;\n",
       "    }\n",
       "\n",
       "    .dataframe tbody tr th {\n",
       "        vertical-align: top;\n",
       "    }\n",
       "\n",
       "    .dataframe thead tr th {\n",
       "        text-align: left;\n",
       "    }\n",
       "\n",
       "    .dataframe thead tr:last-of-type th {\n",
       "        text-align: right;\n",
       "    }\n",
       "</style>\n",
       "<table border=\"1\" class=\"dataframe\">\n",
       "  <thead>\n",
       "    <tr>\n",
       "      <th></th>\n",
       "      <th colspan=\"8\" halign=\"left\">2019</th>\n",
       "      <th colspan=\"5\" halign=\"left\">2020</th>\n",
       "      <th colspan=\"8\" halign=\"left\">2021</th>\n",
       "    </tr>\n",
       "    <tr>\n",
       "      <th></th>\n",
       "      <th>count</th>\n",
       "      <th>mean</th>\n",
       "      <th>std</th>\n",
       "      <th>min</th>\n",
       "      <th>25%</th>\n",
       "      <th>50%</th>\n",
       "      <th>75%</th>\n",
       "      <th>max</th>\n",
       "      <th>count</th>\n",
       "      <th>mean</th>\n",
       "      <th>...</th>\n",
       "      <th>75%</th>\n",
       "      <th>max</th>\n",
       "      <th>count</th>\n",
       "      <th>mean</th>\n",
       "      <th>std</th>\n",
       "      <th>min</th>\n",
       "      <th>25%</th>\n",
       "      <th>50%</th>\n",
       "      <th>75%</th>\n",
       "      <th>max</th>\n",
       "    </tr>\n",
       "    <tr>\n",
       "      <th>type</th>\n",
       "      <th></th>\n",
       "      <th></th>\n",
       "      <th></th>\n",
       "      <th></th>\n",
       "      <th></th>\n",
       "      <th></th>\n",
       "      <th></th>\n",
       "      <th></th>\n",
       "      <th></th>\n",
       "      <th></th>\n",
       "      <th></th>\n",
       "      <th></th>\n",
       "      <th></th>\n",
       "      <th></th>\n",
       "      <th></th>\n",
       "      <th></th>\n",
       "      <th></th>\n",
       "      <th></th>\n",
       "      <th></th>\n",
       "      <th></th>\n",
       "      <th></th>\n",
       "    </tr>\n",
       "  </thead>\n",
       "  <tbody>\n",
       "    <tr>\n",
       "      <th>PP</th>\n",
       "      <td>2562.0</td>\n",
       "      <td>0.099677</td>\n",
       "      <td>0.036166</td>\n",
       "      <td>-0.205667</td>\n",
       "      <td>0.087568</td>\n",
       "      <td>0.104509</td>\n",
       "      <td>0.122703</td>\n",
       "      <td>0.223079</td>\n",
       "      <td>2562.0</td>\n",
       "      <td>0.085082</td>\n",
       "      <td>...</td>\n",
       "      <td>0.108783</td>\n",
       "      <td>0.173772</td>\n",
       "      <td>2562.0</td>\n",
       "      <td>0.125089</td>\n",
       "      <td>0.047384</td>\n",
       "      <td>-0.081836</td>\n",
       "      <td>0.095371</td>\n",
       "      <td>0.134625</td>\n",
       "      <td>0.160870</td>\n",
       "      <td>0.234467</td>\n",
       "    </tr>\n",
       "    <tr>\n",
       "      <th>TT</th>\n",
       "      <td>7438.0</td>\n",
       "      <td>0.039586</td>\n",
       "      <td>0.048360</td>\n",
       "      <td>-0.165674</td>\n",
       "      <td>0.001760</td>\n",
       "      <td>0.021739</td>\n",
       "      <td>0.079333</td>\n",
       "      <td>0.242291</td>\n",
       "      <td>7438.0</td>\n",
       "      <td>0.023967</td>\n",
       "      <td>...</td>\n",
       "      <td>0.043605</td>\n",
       "      <td>0.150519</td>\n",
       "      <td>7438.0</td>\n",
       "      <td>0.046996</td>\n",
       "      <td>0.064713</td>\n",
       "      <td>-0.311729</td>\n",
       "      <td>-0.004538</td>\n",
       "      <td>0.014910</td>\n",
       "      <td>0.100643</td>\n",
       "      <td>0.269995</td>\n",
       "    </tr>\n",
       "  </tbody>\n",
       "</table>\n",
       "<p>2 rows × 24 columns</p>\n",
       "</div>"
      ],
      "text/plain": [
       "        2019                                                              \\\n",
       "       count      mean       std       min       25%       50%       75%   \n",
       "type                                                                       \n",
       "PP    2562.0  0.099677  0.036166 -0.205667  0.087568  0.104509  0.122703   \n",
       "TT    7438.0  0.039586  0.048360 -0.165674  0.001760  0.021739  0.079333   \n",
       "\n",
       "                  2020            ...                        2021            \\\n",
       "           max   count      mean  ...       75%       max   count      mean   \n",
       "type                              ...                                         \n",
       "PP    0.223079  2562.0  0.085082  ...  0.108783  0.173772  2562.0  0.125089   \n",
       "TT    0.242291  7438.0  0.023967  ...  0.043605  0.150519  7438.0  0.046996   \n",
       "\n",
       "                                                                  \n",
       "           std       min       25%       50%       75%       max  \n",
       "type                                                              \n",
       "PP    0.047384 -0.081836  0.095371  0.134625  0.160870  0.234467  \n",
       "TT    0.064713 -0.311729 -0.004538  0.014910  0.100643  0.269995  \n",
       "\n",
       "[2 rows x 24 columns]"
      ]
     },
     "execution_count": 14,
     "metadata": {},
     "output_type": "execute_result"
    },
    {
     "data": {
      "image/png": "[encoded data removed]",
      "text/plain": [
       "<Figure size 864x288 with 3 Axes>"
      ]
     },
     "metadata": {
      "needs_background": "light"
     },
     "output_type": "display_data"
    }
   ],
   "source": [
    "No_till_raster_data =  rasterio.open('raster_data/minNDTI/RGBs/Krasnoselskoe_RGB.tif').read().reshape(3,-1).T\n",
    "traditional_raster_data = rasterio.open('raster_data/minNDTI/RGBs/Praskoveya_RGB.tif').read().reshape(3,-1).T\n",
    "\n",
    "No_till_raster_data[No_till_raster_data == -10] = np.nan\n",
    "No_till_raster_data[No_till_raster_data == 0] = np.nan\n",
    "No_till_raster_data = No_till_raster_data[~np.isnan(No_till_raster_data).any(axis=1)]\n",
    "No_till_df = pd.DataFrame(No_till_raster_data, columns=['2019','2020','2021'])\n",
    "No_till_df['type'] = 'PP'\n",
    "\n",
    "\n",
    "\n",
    "traditional_raster_data[traditional_raster_data == -10] = np.nan\n",
    "traditional_raster_data[traditional_raster_data == 0] = np.nan\n",
    "traditional_raster_data = traditional_raster_data[~np.isnan(traditional_raster_data).any(axis=1)]\n",
    "traditional_df = pd.DataFrame(traditional_raster_data, columns=['2019','2020','2021'])\n",
    "traditional_df['type'] = 'TT'\n",
    "\n",
    "general_df = No_till_df.append(traditional_df)\n",
    "\n",
    "sample = general_df.sample(n = 10000, random_state= 14)\n",
    "\n",
    "fig, axes = plt.subplots(1,3, figsize=(12,4)) \n",
    "\n",
    "sns.boxplot(data = sample , x = 'type', y = '2019', ax = axes[0])\n",
    "sns.boxplot(data = sample , x = 'type', y = '2020', ax = axes[1])\n",
    "sns.boxplot(data = sample , x = 'type', y = '2021', ax = axes[2])\n",
    "\n",
    "\n",
    "\n",
    "sample.groupby(['type']).describe()\n"
   ]
  },
  {
   "cell_type": "markdown",
   "metadata": {},
   "source": [
    "как мы видим выбросов довольно много это понятно данные очень разрозненные и изначально у нас были только геометрии полей и информация что есть очень качественный прямой посев и классическая традиционка поэтому есть мысль что нужно почистить данные от лишнего обрезав датасет по 1.5 IQR\n"
   ]
  },
  {
   "cell_type": "code",
   "execution_count": 15,
   "metadata": {},
   "outputs": [],
   "source": [
    "def cut_by_15IQR(data):\n",
    "    first = np.array(data.describe().iloc[4]) # первый квартиль\n",
    "    third  = np.array(data.describe().iloc[6]) # третий квартиль\n",
    "\n",
    "    IQL1_5 = 1.5 *(third - first) # 1.5 межквартильного размаха\n",
    "    top = third + IQL1_5\n",
    "    bottom = first - IQL1_5\n",
    "    df = data.copy()\n",
    "    for i in range(IQL1_5.shape[0]):\n",
    "        df = df[( df.iloc[:,i] <= top[i]) & ( df.iloc[:,i] >= bottom[i]) ]\n",
    "    return(df)"
   ]
  },
  {
   "cell_type": "code",
   "execution_count": 16,
   "metadata": {},
   "outputs": [
    {
     "data": {
      "text/html": [
       "<div>\n",
       "<style scoped>\n",
       "    .dataframe tbody tr th:only-of-type {\n",
       "        vertical-align: middle;\n",
       "    }\n",
       "\n",
       "    .dataframe tbody tr th {\n",
       "        vertical-align: top;\n",
       "    }\n",
       "\n",
       "    .dataframe thead tr th {\n",
       "        text-align: left;\n",
       "    }\n",
       "\n",
       "    .dataframe thead tr:last-of-type th {\n",
       "        text-align: right;\n",
       "    }\n",
       "</style>\n",
       "<table border=\"1\" class=\"dataframe\">\n",
       "  <thead>\n",
       "    <tr>\n",
       "      <th></th>\n",
       "      <th colspan=\"8\" halign=\"left\">2019</th>\n",
       "      <th colspan=\"5\" halign=\"left\">2020</th>\n",
       "      <th colspan=\"8\" halign=\"left\">2021</th>\n",
       "    </tr>\n",
       "    <tr>\n",
       "      <th></th>\n",
       "      <th>count</th>\n",
       "      <th>mean</th>\n",
       "      <th>std</th>\n",
       "      <th>min</th>\n",
       "      <th>25%</th>\n",
       "      <th>50%</th>\n",
       "      <th>75%</th>\n",
       "      <th>max</th>\n",
       "      <th>count</th>\n",
       "      <th>mean</th>\n",
       "      <th>...</th>\n",
       "      <th>75%</th>\n",
       "      <th>max</th>\n",
       "      <th>count</th>\n",
       "      <th>mean</th>\n",
       "      <th>std</th>\n",
       "      <th>min</th>\n",
       "      <th>25%</th>\n",
       "      <th>50%</th>\n",
       "      <th>75%</th>\n",
       "      <th>max</th>\n",
       "    </tr>\n",
       "    <tr>\n",
       "      <th>type</th>\n",
       "      <th></th>\n",
       "      <th></th>\n",
       "      <th></th>\n",
       "      <th></th>\n",
       "      <th></th>\n",
       "      <th></th>\n",
       "      <th></th>\n",
       "      <th></th>\n",
       "      <th></th>\n",
       "      <th></th>\n",
       "      <th></th>\n",
       "      <th></th>\n",
       "      <th></th>\n",
       "      <th></th>\n",
       "      <th></th>\n",
       "      <th></th>\n",
       "      <th></th>\n",
       "      <th></th>\n",
       "      <th></th>\n",
       "      <th></th>\n",
       "      <th></th>\n",
       "    </tr>\n",
       "  </thead>\n",
       "  <tbody>\n",
       "    <tr>\n",
       "      <th>PP</th>\n",
       "      <td>5000.0</td>\n",
       "      <td>0.105977</td>\n",
       "      <td>0.024225</td>\n",
       "      <td>0.031716</td>\n",
       "      <td>0.089494</td>\n",
       "      <td>0.106308</td>\n",
       "      <td>0.123379</td>\n",
       "      <td>0.175027</td>\n",
       "      <td>5000.0</td>\n",
       "      <td>0.093586</td>\n",
       "      <td>...</td>\n",
       "      <td>0.112488</td>\n",
       "      <td>0.168858</td>\n",
       "      <td>5000.0</td>\n",
       "      <td>0.128621</td>\n",
       "      <td>0.044117</td>\n",
       "      <td>-0.002551</td>\n",
       "      <td>0.098790</td>\n",
       "      <td>0.137931</td>\n",
       "      <td>0.162121</td>\n",
       "      <td>0.234314</td>\n",
       "    </tr>\n",
       "    <tr>\n",
       "      <th>TT</th>\n",
       "      <td>5000.0</td>\n",
       "      <td>0.039981</td>\n",
       "      <td>0.047298</td>\n",
       "      <td>-0.105187</td>\n",
       "      <td>0.003376</td>\n",
       "      <td>0.022798</td>\n",
       "      <td>0.078461</td>\n",
       "      <td>0.191772</td>\n",
       "      <td>5000.0</td>\n",
       "      <td>0.020537</td>\n",
       "      <td>...</td>\n",
       "      <td>0.041038</td>\n",
       "      <td>0.113302</td>\n",
       "      <td>5000.0</td>\n",
       "      <td>0.049235</td>\n",
       "      <td>0.064491</td>\n",
       "      <td>-0.156611</td>\n",
       "      <td>-0.004522</td>\n",
       "      <td>0.017855</td>\n",
       "      <td>0.102492</td>\n",
       "      <td>0.255928</td>\n",
       "    </tr>\n",
       "  </tbody>\n",
       "</table>\n",
       "<p>2 rows × 24 columns</p>\n",
       "</div>"
      ],
      "text/plain": [
       "        2019                                                              \\\n",
       "       count      mean       std       min       25%       50%       75%   \n",
       "type                                                                       \n",
       "PP    5000.0  0.105977  0.024225  0.031716  0.089494  0.106308  0.123379   \n",
       "TT    5000.0  0.039981  0.047298 -0.105187  0.003376  0.022798  0.078461   \n",
       "\n",
       "                  2020            ...                        2021            \\\n",
       "           max   count      mean  ...       75%       max   count      mean   \n",
       "type                              ...                                         \n",
       "PP    0.175027  5000.0  0.093586  ...  0.112488  0.168858  5000.0  0.128621   \n",
       "TT    0.191772  5000.0  0.020537  ...  0.041038  0.113302  5000.0  0.049235   \n",
       "\n",
       "                                                                  \n",
       "           std       min       25%       50%       75%       max  \n",
       "type                                                              \n",
       "PP    0.044117 -0.002551  0.098790  0.137931  0.162121  0.234314  \n",
       "TT    0.064491 -0.156611 -0.004522  0.017855  0.102492  0.255928  \n",
       "\n",
       "[2 rows x 24 columns]"
      ]
     },
     "execution_count": 16,
     "metadata": {},
     "output_type": "execute_result"
    },
    {
     "data": {
      "image/png": "[encoded data removed]",
      "text/plain": [
       "<Figure size 864x288 with 3 Axes>"
      ]
     },
     "metadata": {
      "needs_background": "light"
     },
     "output_type": "display_data"
    }
   ],
   "source": [
    "\n",
    "No_till_df_cuted = cut_by_15IQR(No_till_df).sample(n = 5000, random_state= 14)\n",
    "traditional_df_cuted = cut_by_15IQR(traditional_df).sample(n = 5000, random_state= 14) #сразу по 5к отобрать\n",
    "\n",
    "\n",
    "general_df = No_till_df_cuted.append(traditional_df_cuted)\n",
    "\n",
    "\n",
    "sample = general_df\n",
    "\n",
    "fig, axes = plt.subplots(1,3, figsize=(12,4)) \n",
    "\n",
    "sns.boxplot(data = sample , x = 'type', y = '2019', ax = axes[0])\n",
    "sns.boxplot(data = sample , x = 'type', y = '2020', ax = axes[1])\n",
    "sns.boxplot(data = sample , x = 'type', y = '2021', ax = axes[2])\n",
    "\n",
    "\n",
    "\n",
    "sample.groupby(['type']).describe()\n",
    "\n",
    "\n"
   ]
  },
  {
   "cell_type": "markdown",
   "metadata": {},
   "source": [
    "видно как данные группируются на прямой посев и традиционную обработку \n"
   ]
  },
  {
   "cell_type": "code",
   "execution_count": 17,
   "metadata": {},
   "outputs": [],
   "source": [
    "from sklearn.model_selection import train_test_split\n",
    "from sklearn.metrics import classification_report\n",
    "from sklearn.model_selection import cross_val_score\n",
    "\n",
    "X = sample[['2019','2020','2021']].values\n",
    "y = sample['type'].values.reshape(-1,1)\n",
    "\n",
    "y[y == 'TT'] = 0\n",
    "y[y == 'PP'] = 1\n",
    "y = y.astype(int)\n",
    "\n",
    "x_train, x_test, y_train, y_test = train_test_split(X , y,test_size = 0.2, random_state=13)"
   ]
  },
  {
   "cell_type": "code",
   "execution_count": 18,
   "metadata": {},
   "outputs": [
    {
     "name": "stdout",
     "output_type": "stream",
     "text": [
      "              precision    recall  f1-score   support\n",
      "\n",
      "           0       0.95      0.94      0.94      1017\n",
      "           1       0.94      0.95      0.94       983\n",
      "\n",
      "    accuracy                           0.94      2000\n",
      "   macro avg       0.94      0.94      0.94      2000\n",
      "weighted avg       0.94      0.94      0.94      2000\n",
      "\n"
     ]
    },
    {
     "data": {
      "text/plain": [
       "0.9498749999999999"
      ]
     },
     "execution_count": 18,
     "metadata": {},
     "output_type": "execute_result"
    }
   ],
   "source": [
    "from sklearn.linear_model import LogisticRegression\n",
    "clf = LogisticRegression().fit(x_train, y_train)\n",
    "predictions = clf.predict(x_test)\n",
    "print(classification_report(y_test, predictions))\n",
    "cross_val_score(clf, x_train, y_train, cv=10).mean()"
   ]
  },
  {
   "cell_type": "code",
   "execution_count": 19,
   "metadata": {},
   "outputs": [
    {
     "name": "stdout",
     "output_type": "stream",
     "text": [
      "              precision    recall  f1-score   support\n",
      "\n",
      "           0       0.99      1.00      1.00      1017\n",
      "           1       1.00      0.99      1.00       983\n",
      "\n",
      "    accuracy                           1.00      2000\n",
      "   macro avg       1.00      1.00      1.00      2000\n",
      "weighted avg       1.00      1.00      1.00      2000\n",
      "\n"
     ]
    },
    {
     "data": {
      "text/plain": [
       "0.9498749999999999"
      ]
     },
     "execution_count": 19,
     "metadata": {},
     "output_type": "execute_result"
    }
   ],
   "source": [
    "from sklearn.neighbors import KNeighborsClassifier\n",
    "neigh = KNeighborsClassifier()\n",
    "neigh.fit(x_train, y_train)\n",
    "predictions = neigh.predict(x_test)\n",
    "print(classification_report(y_test, predictions))\n",
    "cross_val_score(clf, x_train, y_train, cv=10).mean()"
   ]
  },
  {
   "cell_type": "code",
   "execution_count": 20,
   "metadata": {},
   "outputs": [
    {
     "name": "stdout",
     "output_type": "stream",
     "text": [
      "              precision    recall  f1-score   support\n",
      "\n",
      "           0       0.99      1.00      0.99      1017\n",
      "           1       1.00      0.99      0.99       983\n",
      "\n",
      "    accuracy                           0.99      2000\n",
      "   macro avg       0.99      0.99      0.99      2000\n",
      "weighted avg       0.99      0.99      0.99      2000\n",
      "\n"
     ]
    },
    {
     "data": {
      "text/plain": [
       "0.9903749999999999"
      ]
     },
     "execution_count": 20,
     "metadata": {},
     "output_type": "execute_result"
    }
   ],
   "source": [
    "from sklearn.tree import DecisionTreeClassifier\n",
    "clf = DecisionTreeClassifier(random_state=0)\n",
    "clf.fit(x_train, y_train)\n",
    "predictions = clf.predict(x_test)\n",
    "print(classification_report(y_test, predictions))\n",
    "cross_val_score(clf, x_train, y_train, cv=10).mean()"
   ]
  },
  {
   "cell_type": "code",
   "execution_count": 21,
   "metadata": {},
   "outputs": [
    {
     "name": "stdout",
     "output_type": "stream",
     "text": [
      "              precision    recall  f1-score   support\n",
      "\n",
      "           0       1.00      1.00      1.00      1017\n",
      "           1       1.00      1.00      1.00       983\n",
      "\n",
      "    accuracy                           1.00      2000\n",
      "   macro avg       1.00      1.00      1.00      2000\n",
      "weighted avg       1.00      1.00      1.00      2000\n",
      "\n"
     ]
    },
    {
     "data": {
      "text/plain": [
       "0.9938750000000001"
      ]
     },
     "execution_count": 21,
     "metadata": {},
     "output_type": "execute_result"
    }
   ],
   "source": [
    "from sklearn.ensemble import RandomForestClassifier\n",
    "clf = RandomForestClassifier(random_state=0)\n",
    "clf.fit(x_train, y_train)\n",
    "predictions = clf.predict(x_test)\n",
    "print(classification_report(y_test, predictions))\n",
    "cross_val_score(clf, x_train, y_train, cv=10).mean()"
   ]
  },
  {
   "cell_type": "code",
   "execution_count": 22,
   "metadata": {},
   "outputs": [
    {
     "name": "stdout",
     "output_type": "stream",
     "text": [
      "              precision    recall  f1-score   support\n",
      "\n",
      "           0       0.99      0.99      0.99      1017\n",
      "           1       0.99      0.99      0.99       983\n",
      "\n",
      "    accuracy                           0.99      2000\n",
      "   macro avg       0.99      0.99      0.99      2000\n",
      "weighted avg       0.99      0.99      0.99      2000\n",
      "\n"
     ]
    },
    {
     "data": {
      "text/plain": [
       "0.992125"
      ]
     },
     "execution_count": 22,
     "metadata": {},
     "output_type": "execute_result"
    }
   ],
   "source": [
    "from sklearn.ensemble import GradientBoostingClassifier\n",
    "clf = GradientBoostingClassifier(random_state=0)\n",
    "clf.fit(x_train, y_train)\n",
    "predictions = clf.predict(x_test)\n",
    "print(classification_report(y_test, predictions))\n",
    "cross_val_score(clf, x_train, y_train, cv=10).mean()"
   ]
  },
  {
   "cell_type": "markdown",
   "metadata": {},
   "source": [
    "как и следовало ожидать лучший вариант на дефолтных настройках это градиентный бустинг, пресижн и рекол для класса прямой посев самая высокая "
   ]
  },
  {
   "cell_type": "code",
   "execution_count": 23,
   "metadata": {},
   "outputs": [
    {
     "data": {
      "text/plain": [
       "GradientBoostingClassifier(random_state=0)"
      ]
     },
     "execution_count": 23,
     "metadata": {},
     "output_type": "execute_result"
    }
   ],
   "source": [
    "Gboosting = GradientBoostingClassifier(random_state=0)\n",
    "Gboosting.fit(x_train, y_train)"
   ]
  },
  {
   "cell_type": "code",
   "execution_count": 24,
   "metadata": {},
   "outputs": [],
   "source": [
    "Krasnoselskoe = rasterio.open('raster_data/minNDTI/RGBs/Krasnoselskoe_RGB.tif')\n",
    "Archangelskoe = rasterio.open('raster_data/minNDTI/RGBs/Archangelskoe_RGB.tif')\n",
    "Praskoveya = rasterio.open('raster_data/minNDTI/RGBs/Praskoveya_RGB.tif')\n",
    "Aleksandr = rasterio.open('raster_data/minNDTI/RGBs/Aleksandr_RGB.tif')\n",
    "Volgograd = rasterio.open('raster_data/minNDTI/RGBs/RGB_volgograd.tif')\n",
    "\n",
    "def mapping(raster, vector, name):\n",
    "    meta_data = raster.meta\n",
    "    CRS = raster.crs\n",
    "    meta_data['count'] = 1\n",
    "    meta_data['dtype'] = 'float64'\n",
    "\n",
    "    dir = f'output/classified_rasters/{name}_classified.tif'\n",
    "\n",
    "    raster_shape = raster.shape\n",
    "    data = raster.read().reshape(3,-1).T\n",
    "    proba_data = Gboosting.predict_proba(data)[:,1]\n",
    "    proba_data = proba_data.reshape(raster_shape)\n",
    "    new_dataset = rasterio.open(dir, 'w', **meta_data)\n",
    "    new_dataset.write(proba_data, 1)\n",
    "    new_dataset.close()\n",
    "\n",
    "    vector_reproj = vector.to_crs(CRS)\n",
    "\n",
    "    classified_data = rasterio.open(dir, 'r')\n",
    "\n",
    "\n",
    "    masked_raster, affine__ = mask(classified_data ,vector_reproj.geometry, invert= False)\n",
    "    new_dataset = rasterio.open(dir, 'w', **meta_data)\n",
    "    new_dataset.write(masked_raster)\n",
    "    new_dataset.close()\n",
    "\n",
    "farmers_list = [Aleksandr,Archangelskoe, Krasnoselskoe, Praskoveya ]\n",
    "geometries = gpd.read_file('vector_data/fields.geojson')\n",
    "\n",
    "\n",
    "geometries = geometries.dissolve(by = \"farmer_land_name\").reset_index()\n",
    "farmer_name_array = geometries.farmer_land_name.unique()\n",
    "\n"
   ]
  },
  {
   "cell_type": "code",
   "execution_count": 25,
   "metadata": {},
   "outputs": [],
   "source": [
    "Volgograd = rasterio.open('raster_data/minNDTI/RGBs/RGB_volgograd.tif')\n",
    "Volgograd_geometry = gpd.read_file('vector_data/project_bounds.geojson')"
   ]
  },
  {
   "cell_type": "code",
   "execution_count": 30,
   "metadata": {},
   "outputs": [],
   "source": [
    "mapping(Volgograd, Volgograd_geometry, \"Волгоград.tif\" )"
   ]
  },
  {
   "cell_type": "code",
   "execution_count": 133,
   "metadata": {},
   "outputs": [],
   "source": [
    "for i in range(len(farmer_name_array)):\n",
    "    geometry = geometries[geometries.farmer_land_name == farmer_name_array[i]]\n",
    "    raster = farmers_list[i]\n",
    "    raster_name = farmer_name_array[i]\n",
    "    mapping(raster, geometry, raster_name )\n"
   ]
  }
 ],
 "metadata": {
  "interpreter": {
   "hash": "50b6717627593aefd50e51670e42424ecb36e3d1a6020ba1b74ceefbbbb2094d"
  },
  "kernelspec": {
   "display_name": "Python 3.8.8 64-bit ('gee': conda)",
   "language": "python",
   "name": "python3"
  },
  "language_info": {
   "codemirror_mode": {
    "name": "ipython",
    "version": 3
   },
   "file_extension": ".py",
   "mimetype": "text/x-python",
   "name": "python",
   "nbconvert_exporter": "python",
   "pygments_lexer": "ipython3",
   "version": "3.6.13"
  },
  "orig_nbformat": 4
 },
 "nbformat": 4,
 "nbformat_minor": 2
}
