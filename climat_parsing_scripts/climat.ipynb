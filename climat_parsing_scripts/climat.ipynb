{
 "cells": [
  {
   "cell_type": "code",
   "execution_count": 99,
   "metadata": {},
   "outputs": [],
   "source": [
    "import pandas as pd \n",
    "import geopandas as gpd"
   ]
  },
  {
   "cell_type": "code",
   "execution_count": 105,
   "metadata": {},
   "outputs": [
    {
     "name": "stderr",
     "output_type": "stream",
     "text": [
      "<ipython-input-105-98c4e5ae65d4>:9: UserWarning: Geometry is in a geographic CRS. Results from 'centroid' are likely incorrect. Use 'GeoSeries.to_crs()' to re-project geometries to a projected CRS before this operation.\n",
      "\n",
      "  lon = geo_df.centroid[0].x\n",
      "<ipython-input-105-98c4e5ae65d4>:10: UserWarning: Geometry is in a geographic CRS. Results from 'centroid' are likely incorrect. Use 'GeoSeries.to_crs()' to re-project geometries to a projected CRS before this operation.\n",
      "\n",
      "  lat = geo_df.centroid[0].y\n"
     ]
    },
    {
     "data": {
      "text/html": [
       "<div>\n",
       "<style scoped>\n",
       "    .dataframe tbody tr th:only-of-type {\n",
       "        vertical-align: middle;\n",
       "    }\n",
       "\n",
       "    .dataframe tbody tr th {\n",
       "        vertical-align: top;\n",
       "    }\n",
       "\n",
       "    .dataframe thead th {\n",
       "        text-align: right;\n",
       "    }\n",
       "</style>\n",
       "<table border=\"1\" class=\"dataframe\">\n",
       "  <thead>\n",
       "    <tr style=\"text-align: right;\">\n",
       "      <th></th>\n",
       "      <th>station_№</th>\n",
       "      <th>name</th>\n",
       "      <th>lon</th>\n",
       "      <th>lat</th>\n",
       "      <th>elev</th>\n",
       "      <th>country</th>\n",
       "    </tr>\n",
       "  </thead>\n",
       "  <tbody>\n",
       "    <tr>\n",
       "      <th>3</th>\n",
       "      <td>20066</td>\n",
       "      <td>Ушакова Остров</td>\n",
       "      <td>8.262221</td>\n",
       "      <td>36.420272</td>\n",
       "      <td>47.0</td>\n",
       "      <td>Российская Федерация</td>\n",
       "    </tr>\n",
       "    <tr>\n",
       "      <th>1</th>\n",
       "      <td>20046</td>\n",
       "      <td>Остров Хейса Обсерватория Им,Кренкеля</td>\n",
       "      <td>8.462221</td>\n",
       "      <td>36.220272</td>\n",
       "      <td>22.0</td>\n",
       "      <td>Российская Федерация</td>\n",
       "    </tr>\n",
       "    <tr>\n",
       "      <th>2</th>\n",
       "      <td>20049</td>\n",
       "      <td>Тихая Бухта</td>\n",
       "      <td>8.662221</td>\n",
       "      <td>36.020272</td>\n",
       "      <td>46.0</td>\n",
       "      <td>Российская Федерация</td>\n",
       "    </tr>\n",
       "    <tr>\n",
       "      <th>0</th>\n",
       "      <td>20026</td>\n",
       "      <td>Виктория Остров</td>\n",
       "      <td>8.862221</td>\n",
       "      <td>35.820272</td>\n",
       "      <td>9.0</td>\n",
       "      <td>Российская Федерация</td>\n",
       "    </tr>\n",
       "    <tr>\n",
       "      <th>5</th>\n",
       "      <td>20087</td>\n",
       "      <td>Остров Голомянный</td>\n",
       "      <td>9.462221</td>\n",
       "      <td>35.220272</td>\n",
       "      <td>8.0</td>\n",
       "      <td>Российская Федерация</td>\n",
       "    </tr>\n",
       "    <tr>\n",
       "      <th>...</th>\n",
       "      <td>...</td>\n",
       "      <td>...</td>\n",
       "      <td>...</td>\n",
       "      <td>...</td>\n",
       "      <td>...</td>\n",
       "      <td>...</td>\n",
       "    </tr>\n",
       "    <tr>\n",
       "      <th>1587</th>\n",
       "      <td>33998</td>\n",
       "      <td>Ай-Петри</td>\n",
       "      <td>44.662221</td>\n",
       "      <td>0.020272</td>\n",
       "      <td>1180.0</td>\n",
       "      <td>Украина</td>\n",
       "    </tr>\n",
       "    <tr>\n",
       "      <th>1941</th>\n",
       "      <td>37085</td>\n",
       "      <td>Кочубей</td>\n",
       "      <td>44.662221</td>\n",
       "      <td>0.020272</td>\n",
       "      <td>-21.0</td>\n",
       "      <td>Российская Федерация</td>\n",
       "    </tr>\n",
       "    <tr>\n",
       "      <th>2115</th>\n",
       "      <td>37978</td>\n",
       "      <td>Гыоытапа</td>\n",
       "      <td>302.037779</td>\n",
       "      <td>346.720272</td>\n",
       "      <td>4.0</td>\n",
       "      <td>Азербайджан</td>\n",
       "    </tr>\n",
       "    <tr>\n",
       "      <th>1985</th>\n",
       "      <td>37417</td>\n",
       "      <td>Хасури</td>\n",
       "      <td>321.937779</td>\n",
       "      <td>366.620272</td>\n",
       "      <td>690.0</td>\n",
       "      <td>Грузия</td>\n",
       "    </tr>\n",
       "    <tr>\n",
       "      <th>1027</th>\n",
       "      <td>29813</td>\n",
       "      <td>Красноозерск</td>\n",
       "      <td>441.937779</td>\n",
       "      <td>486.620272</td>\n",
       "      <td>144.0</td>\n",
       "      <td>Российская Федерация</td>\n",
       "    </tr>\n",
       "  </tbody>\n",
       "</table>\n",
       "<p>2289 rows × 6 columns</p>\n",
       "</div>"
      ],
      "text/plain": [
       "      station_№                                   name         lon  \\\n",
       "3         20066                         Ушакова Остров    8.262221   \n",
       "1         20046  Остров Хейса Обсерватория Им,Кренкеля    8.462221   \n",
       "2         20049                            Тихая Бухта    8.662221   \n",
       "0         20026                        Виктория Остров    8.862221   \n",
       "5         20087                      Остров Голомянный    9.462221   \n",
       "...         ...                                    ...         ...   \n",
       "1587      33998                               Ай-Петри   44.662221   \n",
       "1941      37085                                Кочубей   44.662221   \n",
       "2115      37978                               Гыоытапа  302.037779   \n",
       "1985      37417                                 Хасури  321.937779   \n",
       "1027      29813                           Красноозерск  441.937779   \n",
       "\n",
       "             lat    elev               country  \n",
       "3      36.420272    47.0  Российская Федерация  \n",
       "1      36.220272    22.0  Российская Федерация  \n",
       "2      36.020272    46.0  Российская Федерация  \n",
       "0      35.820272     9.0  Российская Федерация  \n",
       "5      35.220272     8.0  Российская Федерация  \n",
       "...          ...     ...                   ...  \n",
       "1587    0.020272  1180.0               Украина  \n",
       "1941    0.020272   -21.0  Российская Федерация  \n",
       "2115  346.720272     4.0           Азербайджан  \n",
       "1985  366.620272   690.0                Грузия  \n",
       "1027  486.620272   144.0  Российская Федерация  \n",
       "\n",
       "[2289 rows x 6 columns]"
      ]
     },
     "execution_count": 105,
     "metadata": {},
     "output_type": "execute_result"
    }
   ],
   "source": [
    "stations = pd.read_csv('meteostations_codes.txt', sep = '\\t', names = ['station_№', 'name','lon','lat','elev','country'])\n",
    "stations['lon'] = stations['lon'].str.replace(',','.').astype(float)\n",
    "stations['lat'] = stations['lat'].str.replace(',','.').astype(float)\n",
    "\n",
    "geo_df = gpd.read_file('fields.geojson')\n",
    "geo_df = geo_df[geo_df[\"farmer_land_name\"] == \"praskoveya\"]\n",
    "geo_df = geo_df.dissolve(by = \"farmer_land_name\").reset_index()\n",
    "\n",
    "lon = geo_df.centroid[0].x\n",
    "lat = geo_df.centroid[0].y\n",
    "\n",
    "stations['lat'] = abs(abs(stations['lon']) -  lon)\n",
    "stations['lon'] = abs(abs(stations['lat']) -  lat)\n",
    "\n",
    "\n",
    "stations.sort_values(by = ['lon' , 'lat'])"
   ]
  },
  {
   "cell_type": "code",
   "execution_count": 106,
   "metadata": {},
   "outputs": [],
   "source": [
    "\n",
    "stations = pd.read_csv('meteostations_codes.txt', sep = '\\t', names = ['station_№', 'name','lon','lat','elev','country'])"
   ]
  },
  {
   "cell_type": "code",
   "execution_count": 109,
   "metadata": {},
   "outputs": [
    {
     "data": {
      "text/html": [
       "<div>\n",
       "<style scoped>\n",
       "    .dataframe tbody tr th:only-of-type {\n",
       "        vertical-align: middle;\n",
       "    }\n",
       "\n",
       "    .dataframe tbody tr th {\n",
       "        vertical-align: top;\n",
       "    }\n",
       "\n",
       "    .dataframe thead th {\n",
       "        text-align: right;\n",
       "    }\n",
       "</style>\n",
       "<table border=\"1\" class=\"dataframe\">\n",
       "  <thead>\n",
       "    <tr style=\"text-align: right;\">\n",
       "      <th></th>\n",
       "      <th>station_№</th>\n",
       "      <th>name</th>\n",
       "      <th>lon</th>\n",
       "      <th>lat</th>\n",
       "      <th>elev</th>\n",
       "      <th>country</th>\n",
       "    </tr>\n",
       "  </thead>\n",
       "  <tbody>\n",
       "    <tr>\n",
       "      <th>1937</th>\n",
       "      <td>37061</td>\n",
       "      <td>Буденновск Прикумск</td>\n",
       "      <td>44,8</td>\n",
       "      <td>44,1</td>\n",
       "      <td>136.0</td>\n",
       "      <td>Российская Федерация</td>\n",
       "    </tr>\n",
       "  </tbody>\n",
       "</table>\n",
       "</div>"
      ],
      "text/plain": [
       "      station_№                 name   lon   lat   elev               country\n",
       "1937      37061  Буденновск Прикумск  44,8  44,1  136.0  Российская Федерация"
      ]
     },
     "execution_count": 109,
     "metadata": {},
     "output_type": "execute_result"
    }
   ],
   "source": [
    "stations[stations[\"station_№\"] == 37061  ]"
   ]
  },
  {
   "cell_type": "code",
   "execution_count": 110,
   "metadata": {},
   "outputs": [
    {
     "data": {
      "text/plain": [
       "44.379728361349656"
      ]
     },
     "execution_count": 110,
     "metadata": {},
     "output_type": "execute_result"
    }
   ],
   "source": [
    "lon"
   ]
  },
  {
   "cell_type": "code",
   "execution_count": 111,
   "metadata": {},
   "outputs": [
    {
     "data": {
      "text/plain": [
       "44.68249217117509"
      ]
     },
     "execution_count": 111,
     "metadata": {},
     "output_type": "execute_result"
    }
   ],
   "source": [
    "lat"
   ]
  },
  {
   "cell_type": "code",
   "execution_count": null,
   "metadata": {},
   "outputs": [],
   "source": []
  }
 ],
 "metadata": {
  "interpreter": {
   "hash": "5d9264abb61edf0596df9e26497fc1638ebbe0a2ce8ef1dfb53fd6b0dc98e743"
  },
  "kernelspec": {
   "display_name": "Python 3.8.8 64-bit ('GIS38': conda)",
   "name": "python3"
  },
  "language_info": {
   "codemirror_mode": {
    "name": "ipython",
    "version": 3
   },
   "file_extension": ".py",
   "mimetype": "text/x-python",
   "name": "python",
   "nbconvert_exporter": "python",
   "pygments_lexer": "ipython3",
   "version": "3.8.8"
  },
  "orig_nbformat": 4
 },
 "nbformat": 4,
 "nbformat_minor": 2
}
